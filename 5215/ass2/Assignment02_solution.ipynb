{
  "cells": [
    {
      "cell_type": "markdown",
      "metadata": {
        "id": "dq-ivp_W9jjz"
      },
      "source": [
        "# <span style=\"color:#0b486b\">  FIT5215: Deep Learning (T3, 2020)</span>\n",
        "***\n",
        "*Chief Examiner:* Prof **Dinh Phung** | dinh.phung@monash.edu <br/>\n",
        "*Lecturer:* Dr **Peibo Duan** | peibo.duan@monash.edu <br/>\n",
        "*Tutor:* Mr **Qing Ye** | qing.ye@monash.edu <br/>\n",
        "\n",
        "<br/>\n",
        "Department of Data Science and AI, Faculty of Information Technology, Monash University, Australia <br/>\n",
        "\n",
        "***"
      ]
    },
    {
      "cell_type": "markdown",
      "metadata": {
        "id": "p9WGoOYr9jj2"
      },
      "source": [
        "## <span style=\"color:#0b486b\">Assignment 02: Neural Embedding and Sequence Modelling</span>\n",
        "### Due: <span style=\"color:red\">11:59pm 29 August 2020</span>  (Sunday)\n",
        "\n",
        "#### <span style=\"color:red\">Important note:</span> This is an **individual** assignment. It contributes **20%** to you final mark. Read the assignment instruction carefully."
      ]
    },
    {
      "cell_type": "markdown",
      "metadata": {
        "id": "01arsSlN9jj2"
      },
      "source": [
        "## <span style=\"color:#0b486b\">Instructions</span>\n",
        "\n",
        "This notebook has been prepared for your to complete Assignment 2. The theme of this assignment is about practical machine learning knowledge and skills in deep neural networks, word embedding and text analytics. Some sections have been partially completed to help you get\n",
        "started. **The total marks for this notebook is 110**."
      ]
    },
    {
      "cell_type": "markdown",
      "metadata": {
        "id": "4QVZdZ239jj2"
      },
      "source": [
        "* Before you start, read the entire notebook carefully once to understand what you need to do. <br><br>\n",
        "* For each cell marked with **#YOU ARE REQUIRED TO INSERT YOUR CODES IN THIS CELL**, there will be places where you **must** supply your own codes when instructed. <br>\n",
        "\n",
        "This assignment contains **four** parts:\n",
        "\n",
        "* Part 1: Questions on downloading and preprocessing data **[10 points]**\n",
        "* Part 2: Questions on using Word2Vect to transform texts to vectors **[20 points]**\n",
        "* Part 3: Coding assessment on Text CNN for sequence modeling and neural embedding **[15 points]**\n",
        "* Part 4: Coding assessment on RNNs for sequence modeling and neural embedding **[65 points]**\n",
        "\n",
        "\n",
        "**Hint**: This assignment was essentially designed based on the lectures and tutorials sessions covered from Week 5 to 6. You are strongly recommended to go through these contents thoroughly which might help you to complete this assignment."
      ]
    },
    {
      "cell_type": "markdown",
      "metadata": {
        "id": "SoBw3WYt9jj3"
      },
      "source": [
        "## <span style=\"color:#0b486b\">What to submit</span>\n",
        "\n",
        "This assignment is to be completed individually and submitted to Moodle unit site. **By the due date, you are required to submit one  <span style=\"color:red; font-weight:bold\">single zip file, named xxx_assignment02_solution.zip</span> where `xxx` is your student ID, to the corresponding Assignment (Dropbox) in Moodle**. "
      ]
    },
    {
      "cell_type": "markdown",
      "metadata": {
        "id": "uQZDk5aZ9jj3"
      },
      "source": [
        "***For example, if your student ID is <span style=\"color:red; font-weight:bold\">12356</span>, then gather all of your assignment solution to folder, create a zip file named <span style=\"color:red; font-weight:bold\">123456_assignment02_solution.zip</span> and submit this file.***"
      ]
    },
    {
      "cell_type": "markdown",
      "metadata": {
        "id": "M4fEMi5K9jj4"
      },
      "source": [
        "Within this zip folder, you **must** submit the following files:\n",
        "1.\t**Assignment02_solution.ipynp**:  this is your Python notebook solution source file.\n",
        "1.\t**Assignment02_output.html**: this is the output of your Python notebook solution *exported* in html format.\n",
        "1.\tAny **extra files or folder** needed to complete your assignment (e.g., images used in your answers)."
      ]
    },
    {
      "cell_type": "markdown",
      "metadata": {
        "id": "NEVB6Km29jj4"
      },
      "source": [
        "## <span style=\"color:#0b486b\">Part 1: Download and preprocess the data</span>\n",
        "\n",
        "<div style=\"text-align: right\"><span style=\"color:red; font-weight:bold\">[Total marks for this part: 10 points]<span></div>"
      ]
    },
    {
      "cell_type": "markdown",
      "metadata": {
        "id": "RdFM73fQ9jj4"
      },
      "source": [
        "The dataset we use for this assignment is a small [Question Classification](http://cogcomp.org/Data/QA/QC/) dataset which was used in the research paper on the topic of ***Question Classification*** (QC) published by Roth and Xin in 2002 (which has received close to 1000 citations till today). Note that a pdf copy of this paper has been downloaded into this assignment folder (**`Roth_Xin_coling02.pdf`**).\n",
        "\n",
        "The train set consists of $1,000$ questions belonging to 6 coarse question categories, including:\n",
        "- abbreviation (ABBR), \n",
        "- entity (ENTY), \n",
        "- description (DESC), \n",
        "- human (HUM), \n",
        "- location (LOC) and \n",
        "- numeric (NUM).\n"
      ]
    },
    {
      "cell_type": "markdown",
      "metadata": {
        "id": "QJi2QQyo9jj5"
      },
      "source": [
        "Preprocessing data is an inital and important step in any machine learning or deep learning projects. The following *DataManager* class helps you to download data and preprocess data for the later steps of a deep learning project. "
      ]
    },
    {
      "cell_type": "code",
      "execution_count": 1,
      "metadata": {
        "id": "nXpt55Cn9jj6"
      },
      "outputs": [],
      "source": [
        "import os\n",
        "import zipfile\n",
        "import collections\n",
        "import numpy as np\n",
        "import tensorflow as tf\n",
        "from six.moves import range\n",
        "from six.moves.urllib.request import urlretrieve\n",
        "from sklearn import preprocessing\n",
        "from sklearn.model_selection import train_test_split\n",
        "import matplotlib.pyplot as plt\n",
        "from tensorflow import keras\n",
        "plt.style.use('ggplot')\n",
        "\n",
        "class DataManager:\n",
        "    def __init__(self, verbose=True, maxlen= 50, random_state=6789):\n",
        "        self.verbose = verbose\n",
        "        self.max_sentence_len = 0\n",
        "        self.str_questions = list()\n",
        "        self.str_labels = list()\n",
        "        self.numeral_labels = list()\n",
        "        self.maxlen = maxlen\n",
        "        self.numeral_data = list()\n",
        "        self.random_state = random_state\n",
        "        self.random = np.random.RandomState(random_state)\n",
        "        \n",
        "    @staticmethod\n",
        "    def maybe_download(dir_name, file_name, url, verbose= True):\n",
        "        if not os.path.exists(dir_name):\n",
        "            os.mkdir(dir_name)\n",
        "        if not os.path.exists(os.path.join(dir_name, file_name)):\n",
        "            urlretrieve(url + file_name, os.path.join(dir_name, file_name))\n",
        "        if verbose:\n",
        "            print(\"Downloaded successfully {}\".format(file_name))\n",
        "    \n",
        "    def read_data(self, dir_name, file_names):\n",
        "        for file_name in file_names:\n",
        "            file_path= os.path.join(dir_name, file_name)\n",
        "            self.str_questions= list(); self.str_labels= list()\n",
        "            with open(file_path, \"r\", encoding=\"latin-1\") as f:\n",
        "                for row in f:\n",
        "                    row_str= row.split(\":\")\n",
        "                    label, question= row_str[0], row_str[1]\n",
        "                    question= question.lower()\n",
        "                    self.str_labels.append(label)\n",
        "                    self.str_questions.append(question[0:-1])\n",
        "                    if self.max_sentence_len < len(self.str_questions[-1]):\n",
        "                        self.max_sentence_len= len(self.str_questions[-1])\n",
        "         \n",
        "        # turns labels into numbers\n",
        "        le= preprocessing.LabelEncoder()\n",
        "        le.fit(self.str_labels)\n",
        "        self.numeral_labels = np.array(le.transform(self.str_labels))\n",
        "        self.str_classes= le.classes_\n",
        "        self.num_classes= len(self.str_classes)\n",
        "        if self.verbose:\n",
        "            print(\"\\nSample questions... \\n\")\n",
        "            print(self.str_questions[0:5])\n",
        "            print(\"Labels {}\\n\\n\".format(self.str_classes))\n",
        "    \n",
        "    def manipulate_data(self):\n",
        "        tokenizer = tf.keras.preprocessing.text.Tokenizer()\n",
        "        tokenizer.fit_on_texts(self.str_questions)\n",
        "        self.numeral_data = tokenizer.texts_to_sequences(self.str_questions)\n",
        "        self.numeral_data = tf.keras.preprocessing.sequence.pad_sequences(self.numeral_data, padding='post', truncating= 'post', maxlen= self.maxlen)\n",
        "        self.word2idx = tokenizer.word_index\n",
        "        self.word2idx = {k:v for k,v in self.word2idx.items()}\n",
        "        self.idx2word = {v:k for k,v in self.word2idx.items()}\n",
        "        self.vocab_size = len(self.word2idx)\n",
        "    \n",
        "    def train_valid_split(self, train_ratio=0.9):\n",
        "        idxs = np.random.permutation(np.arange(len(self.str_questions)))\n",
        "        train_size = int(train_ratio*len(idxs)) +1\n",
        "        self.train_str_questions, self.valid_str_questions = self.str_questions[0:train_size], self.str_questions[train_size:]\n",
        "        self.train_numeral_data, self.valid_numeral_data = self.numeral_data[0:train_size], self.numeral_data[train_size:]\n",
        "        self.train_numeral_labels, self.valid_numeral_labels = self.numeral_labels[0:train_size], self.numeral_labels[train_size:]\n",
        "        self.tf_train_set = tf.data.Dataset.from_tensor_slices((self.train_numeral_data, self.train_numeral_labels))\n",
        "        self.tf_valid_set = tf.data.Dataset.from_tensor_slices((self.valid_numeral_data, self.valid_numeral_labels))"
      ]
    },
    {
      "cell_type": "code",
      "execution_count": 2,
      "metadata": {
        "id": "zCC7eiF09jj9",
        "outputId": "86e24146-72ad-49d9-82c7-f1e31bad8f7b"
      },
      "outputs": [
        {
          "name": "stdout",
          "output_type": "stream",
          "text": [
            "Loading data...\n",
            "Downloaded successfully train_1000.label\n",
            "Downloaded successfully TREC_10.label\n",
            "\n",
            "Sample questions... \n",
            "\n",
            "['dist how far is it from denver to aspen ?', 'city what county is modesto , california in ?', 'desc who was galileo ?', 'def what is an atom ?', 'date when did hawaii become a state ?']\n",
            "Labels ['ABBR' 'DESC' 'ENTY' 'HUM' 'LOC' 'NUM']\n",
            "\n",
            "\n"
          ]
        }
      ],
      "source": [
        "print('Loading data...')\n",
        "DataManager.maybe_download(\"Data\", \"train_1000.label\", \"http://cogcomp.org/Data/QA/QC/\")\n",
        "DataManager.maybe_download(\"Data\", \"TREC_10.label\", \"http://cogcomp.org/Data/QA/QC/\")\n",
        "\n",
        "dm = DataManager(maxlen=100)\n",
        "dm.read_data(\"Data/\", [\"train_1000.label\", \"TREC_10.label\"])   # read data"
      ]
    },
    {
      "cell_type": "code",
      "execution_count": 3,
      "metadata": {
        "id": "CF481IyF9jj-"
      },
      "outputs": [],
      "source": [
        "dm.manipulate_data()\n",
        "dm.train_valid_split(train_ratio=0.8)"
      ]
    },
    {
      "cell_type": "markdown",
      "metadata": {
        "id": "oeHGLeoK9jj_"
      },
      "source": [
        "You now have a data manager, named *dm* containing the training and validiation sets in both text and numeric forms. Your task is to play around and read this code to figure out the meanings of some important attributes that will be used in the next parts."
      ]
    },
    {
      "cell_type": "markdown",
      "metadata": {
        "id": "7QAlnQ8x9jj_"
      },
      "source": [
        "#### <span style=\"color:red\">**Question 1.1**</span> \n",
        "**What is the purpose of `self.train_str_questions` and `self.train_numeral_labels`? Write your code to print out the first five questions with labels in the training set.**\n",
        "\n",
        "<div style=\"text-align: right\"><span style=\"color:red\">[2 points]</span></div> "
      ]
    },
    {
      "cell_type": "markdown",
      "metadata": {
        "id": "J8jYOpDF9jkA"
      },
      "source": [
        "#Your answer here\n",
        "\n",
        "self.train_str_quesiton is a list which stores the questions of the training data in the string forms.\n",
        "self.train_numeral_labels is a list which store the labels of the training data in digit forms.\n"
      ]
    },
    {
      "cell_type": "code",
      "execution_count": 4,
      "metadata": {
        "id": "6GT4Xi6t9jkA"
      },
      "outputs": [
        {
          "name": "stdout",
          "output_type": "stream",
          "text": [
            "dist how far is it from denver to aspen ?\n",
            "NUM\n",
            "*****************************\n",
            "city what county is modesto , california in ?\n",
            "LOC\n",
            "*****************************\n",
            "desc who was galileo ?\n",
            "HUM\n",
            "*****************************\n",
            "def what is an atom ?\n",
            "DESC\n",
            "*****************************\n",
            "date when did hawaii become a state ?\n",
            "NUM\n",
            "*****************************\n"
          ]
        }
      ],
      "source": [
        "#Your code here\n",
        "for i in range(5):\n",
        "    print(dm.train_str_questions[i])\n",
        "    print(dm.str_classes[dm.train_numeral_labels[i]])\n",
        "    print(\"*****************************\")"
      ]
    },
    {
      "cell_type": "markdown",
      "metadata": {
        "id": "CxozP0E99jkA"
      },
      "source": [
        "#### <span style=\"color:red\">**Question 1.2**</span> \n",
        "**What is the purpose of `self.train_numeral_data`? Write your code to print out the first five questions in the numeric format with labels in the training set.**\n",
        "\n",
        "<div style=\"text-align: right\"><span style=\"color:red\">[2 points]</span></div> "
      ]
    },
    {
      "cell_type": "markdown",
      "metadata": {
        "id": "lqCkwTau9jkA"
      },
      "source": [
        "#Your answer here\n",
        "\n",
        "If we want to input the data to the model to train, we can input string directly, so we input the index of each word in the vocabulary table. \n",
        "self.train_numeral_data is the list which stores the index of each word in the training questions."
      ]
    },
    {
      "cell_type": "code",
      "execution_count": 5,
      "metadata": {
        "id": "FU4w4dK39jkB"
      },
      "outputs": [
        {
          "name": "stdout",
          "output_type": "stream",
          "text": [
            "[ 27  14  73   3 115  39 305  20 306   0   0   0   0   0   0   0   0   0\n",
            "   0   0   0   0   0   0   0   0   0   0   0   0   0   0   0   0   0   0\n",
            "   0   0   0   0   0   0   0   0   0   0   0   0   0   0   0   0   0   0\n",
            "   0   0   0   0   0   0   0   0   0   0   0   0   0   0   0   0   0   0\n",
            "   0   0   0   0   0   0   0   0   0   0   0   0   0   0   0   0   0   0\n",
            "   0   0   0   0   0   0   0   0   0   0]\n",
            "NUM\n",
            "*****************************\n",
            "[ 18   1 153   3 307 308   6   0   0   0   0   0   0   0   0   0   0   0\n",
            "   0   0   0   0   0   0   0   0   0   0   0   0   0   0   0   0   0   0\n",
            "   0   0   0   0   0   0   0   0   0   0   0   0   0   0   0   0   0   0\n",
            "   0   0   0   0   0   0   0   0   0   0   0   0   0   0   0   0   0   0\n",
            "   0   0   0   0   0   0   0   0   0   0   0   0   0   0   0   0   0   0\n",
            "   0   0   0   0   0   0   0   0   0   0]\n",
            "LOC\n",
            "*****************************\n",
            "[ 42  12   8 309   0   0   0   0   0   0   0   0   0   0   0   0   0   0\n",
            "   0   0   0   0   0   0   0   0   0   0   0   0   0   0   0   0   0   0\n",
            "   0   0   0   0   0   0   0   0   0   0   0   0   0   0   0   0   0   0\n",
            "   0   0   0   0   0   0   0   0   0   0   0   0   0   0   0   0   0   0\n",
            "   0   0   0   0   0   0   0   0   0   0   0   0   0   0   0   0   0   0\n",
            "   0   0   0   0   0   0   0   0   0   0]\n",
            "HUM\n",
            "*****************************\n",
            "[  4   1   3  40 310   0   0   0   0   0   0   0   0   0   0   0   0   0\n",
            "   0   0   0   0   0   0   0   0   0   0   0   0   0   0   0   0   0   0\n",
            "   0   0   0   0   0   0   0   0   0   0   0   0   0   0   0   0   0   0\n",
            "   0   0   0   0   0   0   0   0   0   0   0   0   0   0   0   0   0   0\n",
            "   0   0   0   0   0   0   0   0   0   0   0   0   0   0   0   0   0   0\n",
            "   0   0   0   0   0   0   0   0   0   0]\n",
            "DESC\n",
            "*****************************\n",
            "[ 11  17  16 154  90  10  21   0   0   0   0   0   0   0   0   0   0   0\n",
            "   0   0   0   0   0   0   0   0   0   0   0   0   0   0   0   0   0   0\n",
            "   0   0   0   0   0   0   0   0   0   0   0   0   0   0   0   0   0   0\n",
            "   0   0   0   0   0   0   0   0   0   0   0   0   0   0   0   0   0   0\n",
            "   0   0   0   0   0   0   0   0   0   0   0   0   0   0   0   0   0   0\n",
            "   0   0   0   0   0   0   0   0   0   0]\n",
            "NUM\n",
            "*****************************\n"
          ]
        }
      ],
      "source": [
        "#Your code here\n",
        "for i in range(5):\n",
        "    print(dm.train_numeral_data[i])\n",
        "    print(dm.str_classes[dm.train_numeral_labels[i]])\n",
        "    print(\"*****************************\")"
      ]
    },
    {
      "cell_type": "markdown",
      "metadata": {
        "id": "opVK-UuI9jkB"
      },
      "source": [
        "#### <span style=\"color:red\">**Question 1.3**</span> \n",
        "**What is the purpose of two dictionaries: `self.word2idx` and `self.idx2word`? Write your code to print out the first five key-value pairs of those dictionaries.**\n",
        "\n",
        "<div style=\"text-align: right\"><span style=\"color:red\">[2 points]</span></div> "
      ]
    },
    {
      "cell_type": "markdown",
      "metadata": {
        "id": "bSY2xUbz9jkB"
      },
      "source": [
        "#Your answer here\n",
        "\n",
        "self.word2idx stores the index of each word, if we want to know the index of word x, we could find it using the code 'self.word2idx[x]'.\n",
        "self.word2idx can convert the index to word, if we want to know the word with index i, we could find it using the code 'self.idx2word[i]'.\n",
        "\n",
        "\n"
      ]
    },
    {
      "cell_type": "code",
      "execution_count": 6,
      "metadata": {
        "id": "KbQpOrZj9jkB"
      },
      "outputs": [
        {
          "name": "stdout",
          "output_type": "stream",
          "text": [
            "index: 1 word: what\n",
            "index: 2 word: the\n",
            "index: 3 word: is\n",
            "index: 4 word: def\n",
            "index: 5 word: of\n"
          ]
        }
      ],
      "source": [
        "#Your code here\n",
        "for i in range(5):\n",
        "    print('index:', i+1 ,'word:', dm.idx2word[i+1])\n"
      ]
    },
    {
      "cell_type": "markdown",
      "metadata": {
        "id": "spmqJMQI9jkB"
      },
      "source": [
        "#### <span style=\"color:red\">**Question 1.4**</span> \n",
        "**What is the purpose of `self.tf_train_set`? Write your code to print out the first five items of `self.tf_train_set`.**\n",
        "\n",
        "<div style=\"text-align: right\"><span style=\"color:red\">[2 points]</span></div> "
      ]
    },
    {
      "cell_type": "markdown",
      "metadata": {
        "id": "_vDLPBl-9jkB"
      },
      "source": [
        "#Your answer here\n",
        "\n",
        "We can not use tf2 to train data in the array form, so we must transform them to TensorSliceDataset. In the TensorSliceDataset, there are tensors which is accepted by tf2."
      ]
    },
    {
      "cell_type": "code",
      "execution_count": 7,
      "metadata": {
        "id": "AqK4cNCF9jkC"
      },
      "outputs": [
        {
          "name": "stdout",
          "output_type": "stream",
          "text": [
            "(<tf.Tensor: shape=(100,), dtype=int32, numpy=\n",
            "array([ 27,  14,  73,   3, 115,  39, 305,  20, 306,   0,   0,   0,   0,\n",
            "         0,   0,   0,   0,   0,   0,   0,   0,   0,   0,   0,   0,   0,\n",
            "         0,   0,   0,   0,   0,   0,   0,   0,   0,   0,   0,   0,   0,\n",
            "         0,   0,   0,   0,   0,   0,   0,   0,   0,   0,   0,   0,   0,\n",
            "         0,   0,   0,   0,   0,   0,   0,   0,   0,   0,   0,   0,   0,\n",
            "         0,   0,   0,   0,   0,   0,   0,   0,   0,   0,   0,   0,   0,\n",
            "         0,   0,   0,   0,   0,   0,   0,   0,   0,   0,   0,   0,   0,\n",
            "         0,   0,   0,   0,   0,   0,   0,   0,   0])>, <tf.Tensor: shape=(), dtype=int32, numpy=5>)\n",
            "(<tf.Tensor: shape=(100,), dtype=int32, numpy=\n",
            "array([ 18,   1, 153,   3, 307, 308,   6,   0,   0,   0,   0,   0,   0,\n",
            "         0,   0,   0,   0,   0,   0,   0,   0,   0,   0,   0,   0,   0,\n",
            "         0,   0,   0,   0,   0,   0,   0,   0,   0,   0,   0,   0,   0,\n",
            "         0,   0,   0,   0,   0,   0,   0,   0,   0,   0,   0,   0,   0,\n",
            "         0,   0,   0,   0,   0,   0,   0,   0,   0,   0,   0,   0,   0,\n",
            "         0,   0,   0,   0,   0,   0,   0,   0,   0,   0,   0,   0,   0,\n",
            "         0,   0,   0,   0,   0,   0,   0,   0,   0,   0,   0,   0,   0,\n",
            "         0,   0,   0,   0,   0,   0,   0,   0,   0])>, <tf.Tensor: shape=(), dtype=int32, numpy=4>)\n",
            "(<tf.Tensor: shape=(100,), dtype=int32, numpy=\n",
            "array([ 42,  12,   8, 309,   0,   0,   0,   0,   0,   0,   0,   0,   0,\n",
            "         0,   0,   0,   0,   0,   0,   0,   0,   0,   0,   0,   0,   0,\n",
            "         0,   0,   0,   0,   0,   0,   0,   0,   0,   0,   0,   0,   0,\n",
            "         0,   0,   0,   0,   0,   0,   0,   0,   0,   0,   0,   0,   0,\n",
            "         0,   0,   0,   0,   0,   0,   0,   0,   0,   0,   0,   0,   0,\n",
            "         0,   0,   0,   0,   0,   0,   0,   0,   0,   0,   0,   0,   0,\n",
            "         0,   0,   0,   0,   0,   0,   0,   0,   0,   0,   0,   0,   0,\n",
            "         0,   0,   0,   0,   0,   0,   0,   0,   0])>, <tf.Tensor: shape=(), dtype=int32, numpy=3>)\n",
            "(<tf.Tensor: shape=(100,), dtype=int32, numpy=\n",
            "array([  4,   1,   3,  40, 310,   0,   0,   0,   0,   0,   0,   0,   0,\n",
            "         0,   0,   0,   0,   0,   0,   0,   0,   0,   0,   0,   0,   0,\n",
            "         0,   0,   0,   0,   0,   0,   0,   0,   0,   0,   0,   0,   0,\n",
            "         0,   0,   0,   0,   0,   0,   0,   0,   0,   0,   0,   0,   0,\n",
            "         0,   0,   0,   0,   0,   0,   0,   0,   0,   0,   0,   0,   0,\n",
            "         0,   0,   0,   0,   0,   0,   0,   0,   0,   0,   0,   0,   0,\n",
            "         0,   0,   0,   0,   0,   0,   0,   0,   0,   0,   0,   0,   0,\n",
            "         0,   0,   0,   0,   0,   0,   0,   0,   0])>, <tf.Tensor: shape=(), dtype=int32, numpy=1>)\n",
            "(<tf.Tensor: shape=(100,), dtype=int32, numpy=\n",
            "array([ 11,  17,  16, 154,  90,  10,  21,   0,   0,   0,   0,   0,   0,\n",
            "         0,   0,   0,   0,   0,   0,   0,   0,   0,   0,   0,   0,   0,\n",
            "         0,   0,   0,   0,   0,   0,   0,   0,   0,   0,   0,   0,   0,\n",
            "         0,   0,   0,   0,   0,   0,   0,   0,   0,   0,   0,   0,   0,\n",
            "         0,   0,   0,   0,   0,   0,   0,   0,   0,   0,   0,   0,   0,\n",
            "         0,   0,   0,   0,   0,   0,   0,   0,   0,   0,   0,   0,   0,\n",
            "         0,   0,   0,   0,   0,   0,   0,   0,   0,   0,   0,   0,   0,\n",
            "         0,   0,   0,   0,   0,   0,   0,   0,   0])>, <tf.Tensor: shape=(), dtype=int32, numpy=5>)\n"
          ]
        }
      ],
      "source": [
        "#Your code here\n",
        "i = 0\n",
        "for tf in dm.tf_train_set:\n",
        "    i += 1\n",
        "    print(tf)\n",
        "    if i == 5:\n",
        "        break\n"
      ]
    },
    {
      "cell_type": "markdown",
      "metadata": {
        "id": "k4dRZjJx9jkC"
      },
      "source": [
        "#### <span style=\"color:red\">**Question 1.5**</span> \n",
        "**What is the purpose of `self.tf_valid_set`? Write your code to print out the first five items of `self.tf_valid_set`.**\n",
        "\n",
        "<div style=\"text-align: right\"><span style=\"color:red\">[2 points]</span></div> "
      ]
    },
    {
      "cell_type": "markdown",
      "metadata": {
        "id": "PnApZQWs9jkC"
      },
      "source": [
        "#Your answer here\n",
        "\n",
        "We can not use tf2 to valid data in the array form, so we must transform them to TensorSliceDataset. In the TensorSliceDataset, there are tensors which is accepted by tf2.\n"
      ]
    },
    {
      "cell_type": "code",
      "execution_count": 8,
      "metadata": {
        "id": "zJPEcAs-9jkC"
      },
      "outputs": [
        {
          "name": "stdout",
          "output_type": "stream",
          "text": [
            "(<tf.Tensor: shape=(100,), dtype=int32, numpy=\n",
            "array([ 32,   1,   3,   2, 921, 922, 923, 924,   0,   0,   0,   0,   0,\n",
            "         0,   0,   0,   0,   0,   0,   0,   0,   0,   0,   0,   0,   0,\n",
            "         0,   0,   0,   0,   0,   0,   0,   0,   0,   0,   0,   0,   0,\n",
            "         0,   0,   0,   0,   0,   0,   0,   0,   0,   0,   0,   0,   0,\n",
            "         0,   0,   0,   0,   0,   0,   0,   0,   0,   0,   0,   0,   0,\n",
            "         0,   0,   0,   0,   0,   0,   0,   0,   0,   0,   0,   0,   0,\n",
            "         0,   0,   0,   0,   0,   0,   0,   0,   0,   0,   0,   0,   0,\n",
            "         0,   0,   0,   0,   0,   0,   0,   0,   0])>, <tf.Tensor: shape=(), dtype=int32, numpy=2>)\n",
            "(<tf.Tensor: shape=(100,), dtype=int32, numpy=\n",
            "array([ 11,  17,   3, 925,  15,  69,   0,   0,   0,   0,   0,   0,   0,\n",
            "         0,   0,   0,   0,   0,   0,   0,   0,   0,   0,   0,   0,   0,\n",
            "         0,   0,   0,   0,   0,   0,   0,   0,   0,   0,   0,   0,   0,\n",
            "         0,   0,   0,   0,   0,   0,   0,   0,   0,   0,   0,   0,   0,\n",
            "         0,   0,   0,   0,   0,   0,   0,   0,   0,   0,   0,   0,   0,\n",
            "         0,   0,   0,   0,   0,   0,   0,   0,   0,   0,   0,   0,   0,\n",
            "         0,   0,   0,   0,   0,   0,   0,   0,   0,   0,   0,   0,   0,\n",
            "         0,   0,   0,   0,   0,   0,   0,   0,   0])>, <tf.Tensor: shape=(), dtype=int32, numpy=5>)\n",
            "(<tf.Tensor: shape=(100,), dtype=int32, numpy=\n",
            "array([ 52,   1,  22,   2, 926, 301,  89,  24,   0,   0,   0,   0,   0,\n",
            "         0,   0,   0,   0,   0,   0,   0,   0,   0,   0,   0,   0,   0,\n",
            "         0,   0,   0,   0,   0,   0,   0,   0,   0,   0,   0,   0,   0,\n",
            "         0,   0,   0,   0,   0,   0,   0,   0,   0,   0,   0,   0,   0,\n",
            "         0,   0,   0,   0,   0,   0,   0,   0,   0,   0,   0,   0,   0,\n",
            "         0,   0,   0,   0,   0,   0,   0,   0,   0,   0,   0,   0,   0,\n",
            "         0,   0,   0,   0,   0,   0,   0,   0,   0,   0,   0,   0,   0,\n",
            "         0,   0,   0,   0,   0,   0,   0,   0,   0])>, <tf.Tensor: shape=(), dtype=int32, numpy=0>)\n",
            "(<tf.Tensor: shape=(100,), dtype=int32, numpy=\n",
            "array([ 27,  14, 128,   3,   2, 927,  47,   6, 251,   0,   0,   0,   0,\n",
            "         0,   0,   0,   0,   0,   0,   0,   0,   0,   0,   0,   0,   0,\n",
            "         0,   0,   0,   0,   0,   0,   0,   0,   0,   0,   0,   0,   0,\n",
            "         0,   0,   0,   0,   0,   0,   0,   0,   0,   0,   0,   0,   0,\n",
            "         0,   0,   0,   0,   0,   0,   0,   0,   0,   0,   0,   0,   0,\n",
            "         0,   0,   0,   0,   0,   0,   0,   0,   0,   0,   0,   0,   0,\n",
            "         0,   0,   0,   0,   0,   0,   0,   0,   0,   0,   0,   0,   0,\n",
            "         0,   0,   0,   0,   0,   0,   0,   0,   0])>, <tf.Tensor: shape=(), dtype=int32, numpy=5>)\n",
            "(<tf.Tensor: shape=(100,), dtype=int32, numpy=\n",
            "array([ 18,   1,  18,  15, 258,   3,  36,   2, 293,  37,   0,   0,   0,\n",
            "         0,   0,   0,   0,   0,   0,   0,   0,   0,   0,   0,   0,   0,\n",
            "         0,   0,   0,   0,   0,   0,   0,   0,   0,   0,   0,   0,   0,\n",
            "         0,   0,   0,   0,   0,   0,   0,   0,   0,   0,   0,   0,   0,\n",
            "         0,   0,   0,   0,   0,   0,   0,   0,   0,   0,   0,   0,   0,\n",
            "         0,   0,   0,   0,   0,   0,   0,   0,   0,   0,   0,   0,   0,\n",
            "         0,   0,   0,   0,   0,   0,   0,   0,   0,   0,   0,   0,   0,\n",
            "         0,   0,   0,   0,   0,   0,   0,   0,   0])>, <tf.Tensor: shape=(), dtype=int32, numpy=4>)\n"
          ]
        }
      ],
      "source": [
        "#Your code here\n",
        "\n",
        "i = 0\n",
        "for tf in dm.tf_valid_set:\n",
        "    i += 1\n",
        "    print(tf)\n",
        "    if i == 5:\n",
        "        break\n"
      ]
    },
    {
      "cell_type": "markdown",
      "metadata": {
        "id": "hIKYQDZZ9jkC"
      },
      "source": [
        "## <span style=\"color:#0b486b\">Part 2: Using Word2Vect to transform texts to vectors </span>\n",
        "\n",
        "<div style=\"text-align: right\"><span style=\"color:red; font-weight:bold\">[Total marks for this part: 20 points]<span></div>"
      ]
    },
    {
      "cell_type": "markdown",
      "metadata": {
        "id": "5DD1YzWk9jkC"
      },
      "source": [
        "In this part, you will be assessed on how to use a pretrained Word2Vect model for realizing a machine learning task. Basically, you will use this pretrained Word2Vect to transform the questions in the above dataset stored in the *data manager object dm* to numeric form for training a Support Vector Machine in sckit-learn.  "
      ]
    },
    {
      "cell_type": "code",
      "execution_count": 9,
      "metadata": {
        "id": "EqeiXigi9jkC"
      },
      "outputs": [],
      "source": [
        "import gensim.downloader as api\n",
        "from gensim.models import Word2Vec\n",
        "from sklearn.svm import SVC\n",
        "from sklearn.preprocessing import MinMaxScaler\n",
        "from sklearn.metrics import accuracy_score"
      ]
    },
    {
      "cell_type": "markdown",
      "metadata": {
        "id": "PStJFWhP9jkD"
      },
      "source": [
        "#### <span style=\"color:red\">**Question 2.1**</span> \n",
        "**Write code to download the pretrained model *glove-wiki-gigaword-100*. Note that this model transforms a word in its dictionary to a $100$ dimensional vector.**\n",
        "\n",
        "<div style=\"text-align: right\"><span style=\"color:red\">[2 points]</span></div> "
      ]
    },
    {
      "cell_type": "code",
      "execution_count": 10,
      "metadata": {
        "id": "UsmcYzug9jkD"
      },
      "outputs": [],
      "source": [
        "word2vect = api.load(\"glove-wiki-gigaword-100\")#Insert your code here"
      ]
    },
    {
      "cell_type": "markdown",
      "metadata": {
        "id": "6P4lybqS9jkD"
      },
      "source": [
        "#### <span style=\"color:red\">**Question 2.2**</span> \n",
        "\n",
        "**Write code for the function *get_word_vector(word, model)* used to transform a word to a vector using the pretrained Word2Vect model *model*. Note that for a word not in the vocabulary of our *word2vect*, you need to return a vector $0$ with 100 dimensions.**\n",
        "\n",
        "<div style=\"text-align: right\"><span style=\"color:red\">[3 points]</span></div> "
      ]
    },
    {
      "cell_type": "code",
      "execution_count": 11,
      "metadata": {
        "id": "k4v6Fz6g9jkD"
      },
      "outputs": [],
      "source": [
        "def get_word_vector(word, model):\n",
        "    try:\n",
        "        vector = model[word]#Insert your code here\n",
        "    except: #word not in the vocabulary\n",
        "        vector = np.zeros((100), dtype=np.float32)#Insert your code here\n",
        "    return vector"
      ]
    },
    {
      "cell_type": "markdown",
      "metadata": {
        "id": "upCYgSsZ9jkD"
      },
      "source": [
        "#### <span style=\"color:red\">**Question 2.3**</span> \n",
        "\n",
        "**Write the code for the function *get_sentence_vector(sentence, important_score=None, model= None)*. Note that this function will transform a sentence to a 100-dimensional vector using the pretrained model *model*. In addition, the list *important_score* which has the same length as the *sentence* specifies the important scores of the words in the sentence. In your code, you first need to apply *softmax* function over *important_score* to obtain the important weight *important_weight* which forms a probability over the words of the sentence. Furthermore, the final vector of the sentence will be weighted sum of the individual vectors for words and the weights in *important_weight*.**\n",
        "- $final\\_vector= important\\_weight[1]\\times v[1] + important\\_weight[2]\\times v[2] + ...+ important\\_weight[L]\\times v[L]$ where $L$ is the length of the sentence and $v[i]$ is the vector of the word $i-th$ in this sentence.\n",
        "\n",
        "**Note that if *important_score=None* is set by default, your function should return the average of all representation vectors corresponding to set *important_score=[1,1,...,1]*.**\n",
        "\n",
        "<div style=\"text-align: right\"><span style=\"color:red\">[5 points]</span></div> "
      ]
    },
    {
      "cell_type": "code",
      "execution_count": 12,
      "metadata": {
        "id": "oF87Vg_C9jkD"
      },
      "outputs": [],
      "source": [
        "def get_sentence_vector(sentence, important_score=None, model= None):\n",
        "    #Insert your code here\n",
        "    final_vector = np.zeros((100), dtype=np.float32)\n",
        "    words = sentence.split(' ')\n",
        "    for i in range(len(words)):\n",
        "        final_vector += important_score[i] * get_word_vector(words[i], model)\n",
        "    return final_vector\n"
      ]
    },
    {
      "cell_type": "markdown",
      "metadata": {
        "id": "Ggz-CuHR9jkD"
      },
      "source": [
        "#### <span style=\"color:red\">**Question 2.4**</span> \n",
        "\n",
        "**Write code to transform the training questions in *dm.train_str_questions* to feature vectors. Note that after running the following cell, you must have $X\\_train$ which is an numpy array of the feature vectors and $y\\_train$ which is an array of numeric labels (*Hint: dm.train_numeral_labels*). You can add more lines to the following cell if necessary. In addition, you should decide the *important_score* by yourself. For example, you might reckon that the 1st score is 1, the 2nd score is decayed by 0.9, the 3rd is decayed by 0.9, and so on.**\n",
        "\n",
        "<div style=\"text-align: right\"><span style=\"color:red\">[2.5 points]</span></div> "
      ]
    },
    {
      "cell_type": "code",
      "execution_count": 13,
      "metadata": {
        "id": "hFXQgNmi9jkE"
      },
      "outputs": [
        {
          "name": "stdout",
          "output_type": "stream",
          "text": [
            "Transform training set to feature vectors...\n"
          ]
        }
      ],
      "source": [
        "print(\"Transform training set to feature vectors...\")\n",
        "important_score = np.array([0.9**i for i in range(100)])\n",
        "X_train= [get_sentence_vector(line, important_score, word2vect) for line in dm.train_str_questions]#Insert your code here\n",
        "y_train= dm.train_numeral_labels#Insert your code here"
      ]
    },
    {
      "cell_type": "markdown",
      "metadata": {
        "id": "UPMJZgdM9jkE"
      },
      "source": [
        "#### <span style=\"color:red\">**Question 2.5**</span> \n",
        "\n",
        "**Write code to transform the training questions in *dm.valid_str_questions* to feature vectors. Note that after running the following cell, you must have $X\\_valid$ which is an numpy array of the feature vectors and $y\\_valid$ which is an array of numeric labels (*Hint: dm.valid_numeral_labels*). You can add more lines to the following cell if necessary. In addition, you should decide the *important_score* by yourself. For example, you might reckon that the 1st score is 1, the 2nd score is decayed by 0.9, the 3rd is decayed by 0.9, and so on.**\n",
        "\n",
        "<div style=\"text-align: right\"><span style=\"color:red\">[2.5 points]</span></div> "
      ]
    },
    {
      "cell_type": "code",
      "execution_count": 14,
      "metadata": {
        "id": "HaJLHJSX9jkE"
      },
      "outputs": [
        {
          "name": "stdout",
          "output_type": "stream",
          "text": [
            "Transform valid set to feature vectors...\n"
          ]
        }
      ],
      "source": [
        "print(\"Transform valid set to feature vectors...\")\n",
        "important_score = np.array([0.9**i for i in range(100)])\n",
        "X_valid= [get_sentence_vector(line, important_score, word2vect) for line in dm.valid_str_questions]#Insert your code here\n",
        "y_valid= dm.valid_numeral_labels#Insert your code here"
      ]
    },
    {
      "cell_type": "markdown",
      "metadata": {
        "id": "7I1UskcH9jkE"
      },
      "source": [
        "#### <span style=\"color:red\">**Question 2.6**</span> \n",
        "\n",
        "**It is now to use *MinMaxScaler(feature_range=(-1,1))* in sckit-learn to scale both training and valid sets to the range $(-1,1)$.**\n",
        "\n",
        "<div style=\"text-align: right\"><span style=\"color:red\">[2 points]</span></div> "
      ]
    },
    {
      "cell_type": "code",
      "execution_count": 15,
      "metadata": {
        "id": "vfL5EUtY9jkE"
      },
      "outputs": [],
      "source": [
        "scaler = MinMaxScaler(feature_range=(-1,1))\n",
        "scaler.fit(X_train)\n",
        "X_train = scaler.fit_transform(X_train)#Insert your code here\n",
        "scaler.fit(X_valid)\n",
        "X_valid = scaler.fit_transform(X_valid)#Insert your code here"
      ]
    },
    {
      "cell_type": "markdown",
      "metadata": {
        "id": "k-eASJoN9jkE"
      },
      "source": [
        "#### <span style=\"color:red\">**Question 2.7**</span> \n",
        "\n",
        "**Declare a support vector machine (the class *SVC*  in sckit-learn) with RBF kernel, $C=1$, $gamma= 2^{-3}$ and fit on the training set.**\n",
        "\n",
        "<div style=\"text-align: right\"><span style=\"color:red\">[3 points]</span></div> "
      ]
    },
    {
      "cell_type": "code",
      "execution_count": 16,
      "metadata": {
        "id": "p-gWx4u99jkE"
      },
      "outputs": [
        {
          "data": {
            "text/html": [
              "<style>#sk-container-id-1 {color: black;background-color: white;}#sk-container-id-1 pre{padding: 0;}#sk-container-id-1 div.sk-toggleable {background-color: white;}#sk-container-id-1 label.sk-toggleable__label {cursor: pointer;display: block;width: 100%;margin-bottom: 0;padding: 0.3em;box-sizing: border-box;text-align: center;}#sk-container-id-1 label.sk-toggleable__label-arrow:before {content: \"▸\";float: left;margin-right: 0.25em;color: #696969;}#sk-container-id-1 label.sk-toggleable__label-arrow:hover:before {color: black;}#sk-container-id-1 div.sk-estimator:hover label.sk-toggleable__label-arrow:before {color: black;}#sk-container-id-1 div.sk-toggleable__content {max-height: 0;max-width: 0;overflow: hidden;text-align: left;background-color: #f0f8ff;}#sk-container-id-1 div.sk-toggleable__content pre {margin: 0.2em;color: black;border-radius: 0.25em;background-color: #f0f8ff;}#sk-container-id-1 input.sk-toggleable__control:checked~div.sk-toggleable__content {max-height: 200px;max-width: 100%;overflow: auto;}#sk-container-id-1 input.sk-toggleable__control:checked~label.sk-toggleable__label-arrow:before {content: \"▾\";}#sk-container-id-1 div.sk-estimator input.sk-toggleable__control:checked~label.sk-toggleable__label {background-color: #d4ebff;}#sk-container-id-1 div.sk-label input.sk-toggleable__control:checked~label.sk-toggleable__label {background-color: #d4ebff;}#sk-container-id-1 input.sk-hidden--visually {border: 0;clip: rect(1px 1px 1px 1px);clip: rect(1px, 1px, 1px, 1px);height: 1px;margin: -1px;overflow: hidden;padding: 0;position: absolute;width: 1px;}#sk-container-id-1 div.sk-estimator {font-family: monospace;background-color: #f0f8ff;border: 1px dotted black;border-radius: 0.25em;box-sizing: border-box;margin-bottom: 0.5em;}#sk-container-id-1 div.sk-estimator:hover {background-color: #d4ebff;}#sk-container-id-1 div.sk-parallel-item::after {content: \"\";width: 100%;border-bottom: 1px solid gray;flex-grow: 1;}#sk-container-id-1 div.sk-label:hover label.sk-toggleable__label {background-color: #d4ebff;}#sk-container-id-1 div.sk-serial::before {content: \"\";position: absolute;border-left: 1px solid gray;box-sizing: border-box;top: 0;bottom: 0;left: 50%;z-index: 0;}#sk-container-id-1 div.sk-serial {display: flex;flex-direction: column;align-items: center;background-color: white;padding-right: 0.2em;padding-left: 0.2em;position: relative;}#sk-container-id-1 div.sk-item {position: relative;z-index: 1;}#sk-container-id-1 div.sk-parallel {display: flex;align-items: stretch;justify-content: center;background-color: white;position: relative;}#sk-container-id-1 div.sk-item::before, #sk-container-id-1 div.sk-parallel-item::before {content: \"\";position: absolute;border-left: 1px solid gray;box-sizing: border-box;top: 0;bottom: 0;left: 50%;z-index: -1;}#sk-container-id-1 div.sk-parallel-item {display: flex;flex-direction: column;z-index: 1;position: relative;background-color: white;}#sk-container-id-1 div.sk-parallel-item:first-child::after {align-self: flex-end;width: 50%;}#sk-container-id-1 div.sk-parallel-item:last-child::after {align-self: flex-start;width: 50%;}#sk-container-id-1 div.sk-parallel-item:only-child::after {width: 0;}#sk-container-id-1 div.sk-dashed-wrapped {border: 1px dashed gray;margin: 0 0.4em 0.5em 0.4em;box-sizing: border-box;padding-bottom: 0.4em;background-color: white;}#sk-container-id-1 div.sk-label label {font-family: monospace;font-weight: bold;display: inline-block;line-height: 1.2em;}#sk-container-id-1 div.sk-label-container {text-align: center;}#sk-container-id-1 div.sk-container {/* jupyter's `normalize.less` sets `[hidden] { display: none; }` but bootstrap.min.css set `[hidden] { display: none !important; }` so we also need the `!important` here to be able to override the default hidden behavior on the sphinx rendered scikit-learn.org. See: https://github.com/scikit-learn/scikit-learn/issues/21755 */display: inline-block !important;position: relative;}#sk-container-id-1 div.sk-text-repr-fallback {display: none;}</style><div id=\"sk-container-id-1\" class=\"sk-top-container\"><div class=\"sk-text-repr-fallback\"><pre>SVC(gamma=0.125)</pre><b>In a Jupyter environment, please rerun this cell to show the HTML representation or trust the notebook. <br />On GitHub, the HTML representation is unable to render, please try loading this page with nbviewer.org.</b></div><div class=\"sk-container\" hidden><div class=\"sk-item\"><div class=\"sk-estimator sk-toggleable\"><input class=\"sk-toggleable__control sk-hidden--visually\" id=\"sk-estimator-id-1\" type=\"checkbox\" checked><label for=\"sk-estimator-id-1\" class=\"sk-toggleable__label sk-toggleable__label-arrow\">SVC</label><div class=\"sk-toggleable__content\"><pre>SVC(gamma=0.125)</pre></div></div></div></div></div>"
            ],
            "text/plain": [
              "SVC(gamma=0.125)"
            ]
          },
          "execution_count": 16,
          "metadata": {},
          "output_type": "execute_result"
        }
      ],
      "source": [
        "svm = SVC(C=1.0, gamma=2**-3, kernel='rbf')\n",
        "#Insert your code here\n",
        "svm.fit(X_train, y_train)\n",
        "#Insert your code for fitting svm on X_train"
      ]
    },
    {
      "cell_type": "markdown",
      "metadata": {
        "id": "UqPietln9jkE"
      },
      "source": [
        "#### <span style=\"color:red\">**Question 2.8**</span> \n",
        "\n",
        "**Finally, we use the trained *svm* to evaluate on the valid set $X\\_valid$.**\n",
        "\n",
        "<div style=\"text-align: right\"><span style=\"color:red\">[2 points]</span></div> "
      ]
    },
    {
      "cell_type": "code",
      "execution_count": 17,
      "metadata": {
        "id": "LsdwvyeN9jkF"
      },
      "outputs": [
        {
          "name": "stdout",
          "output_type": "stream",
          "text": [
            "0.9494949494949495\n"
          ]
        }
      ],
      "source": [
        "y_valid_pred = svm.predict(X_valid)#Insert your code\n",
        "acc = sum(y_valid_pred == y_valid)/len(y_valid_pred)#Insert your code\n",
        "print(acc)"
      ]
    },
    {
      "cell_type": "markdown",
      "metadata": {
        "id": "kUEZvG0K9jkF"
      },
      "source": [
        "## <span style=\"color:#0b486b\">Part 3: Text CNN for sequence modeling and neural embedding </span>\n",
        "\n",
        "<div style=\"text-align: right\"><span style=\"color:red; font-weight:bold\">[Total marks for this part: 15 points]<span></div>"
      ]
    },
    {
      "cell_type": "markdown",
      "metadata": {
        "id": "UchJj97b9jkF"
      },
      "source": [
        "#### <span style=\"color:red\">**Question 3.1**</span> \n",
        "\n",
        "**In what follows, you are required to complete the code for Text CNN for sentence classification. The paper of Text CNN can be found at this [link](https://www.aclweb.org/anthology/D14-1181.pdf). Here is the description of the Text CNN you need to construct.**\n",
        "- There are three attributes (properties or instance variables): *embed_size, state_size, data_manager*.\n",
        "  - `embed_size`: the dimension of the vector space for which the words are embedded to using the embedding matrix.\n",
        "  - `state_size`: the number of filters used in *Conv1D* (reference [here](https://www.tensorflow.org/api_docs/python/tf/keras/layers/Conv1D)).\n",
        "  - `data_manager`: the data manager to store information of the dataset.\n",
        "- The detail of the computational process is as follows:\n",
        "  - Given input $x$, we embed $x$ using the embedding matrix to obtain an $3D$ tensor $[batch\\_size \\times vocab\\_size \\times embed\\_size]$ as $h$.\n",
        "  - We feed $h$ to three Convd 1D layers, each of which has $state\\_size$ filters, padding=same, activation= relu, and $kernel\\_size= 3, 5, 7$ respectively to obtain $h1, h2, h3$. Note that each $h1, h2, h3$ is a 3D tensor with the shape $[batch\\_size \\times output\\_size \\times state\\_size]$.\n",
        "  - We then apply *GlobalMaxPool1D()* (reference [here](https://www.tensorflow.org/api_docs/python/tf/keras/layers/GlobalMaxPool1D)) over $h1, h2, h3$ to obtain 2D tensors stored in $h1, h2, h3$ again.\n",
        "  - We then concatenate three 2D tensors $h1, h2, h3$ to obtain $h$. Note that you need to specify the axis to concatenate.\n",
        "  - We finally build up one dense layer on the top of $h$ for classification.\n",
        "  \n",
        "  <div style=\"text-align: right\"><span style=\"color:red\">[10 points]</span></div>\n",
        "  "
      ]
    },
    {
      "cell_type": "code",
      "execution_count": 18,
      "metadata": {},
      "outputs": [],
      "source": [
        "import tensorflow as tf"
      ]
    },
    {
      "cell_type": "code",
      "execution_count": 19,
      "metadata": {
        "id": "CY2l1GLm9jkF"
      },
      "outputs": [],
      "source": [
        "class TextCNN:\n",
        "    def __init__(self, embed_size= 128, state_size=16, data_manager=None):\n",
        "        self.data_manager = data_manager\n",
        "        self.embed_size = embed_size\n",
        "        self.state_size = state_size\n",
        "    \n",
        "    def build(self):\n",
        "        x = tf.keras.layers.Input(shape=[100])\n",
        "        h = tf.keras.layers.Embedding(self.data_manager.vocab_size +1, self.embed_size)(x)\n",
        "        h1 = tf.keras.layers.Conv1D(self.state_size, 3, padding='same', activation='relu')(h) #Insert your code here\n",
        "        h2 = tf.keras.layers.Conv1D(self.state_size, 5, padding='same', activation='relu')(h)#Insert your code here\n",
        "        h3 = tf.keras.layers.Conv1D(self.state_size, 7, padding='same', activation='relu')(h)#Insert your code here\n",
        "        h1 = tf.keras.layers.GlobalMaxPool1D()(h1)#Insert your code here\n",
        "        h2 = tf.keras.layers.GlobalMaxPool1D()(h2)#Insert your code here\n",
        "        h3 = tf.keras.layers.GlobalMaxPool1D()(h3)#Insert your code here\n",
        "        h = tf.keras.layers.Concatenate(axis=1)([h1, h2, h3])#Insert your code here\n",
        "        h = tf.keras.layers.Dense(self.data_manager.num_classes, activation='softmax')(h)\n",
        "        self.model = tf.keras.Model(inputs=x, outputs=h) \n",
        "    \n",
        "    def compile_model(self, *args, **kwargs):\n",
        "        self.model.compile(*args, **kwargs)\n",
        "    \n",
        "    def fit(self, *args, **kwargs):\n",
        "        return self.model.fit(*args, **kwargs)\n",
        "    \n",
        "    def evaluate(self, *args, **kwargs):\n",
        "        self.model.evaluate(*args, **kwargs)\n"
      ]
    },
    {
      "cell_type": "markdown",
      "metadata": {
        "id": "TZXKsJoK9jkF"
      },
      "source": [
        "#### <span style=\"color:red\">**Question 3.2**</span> \n",
        "**Here is the code to test TextCNN above. You can observe that TextCNN outperforms the traditional approach SVM + Word2Vect for this task. The reason is that TextCNN enables us to automatically learn the feature that fits to the task. This makes deep learning different from hand-crafted feature approaches. Complete the code to test the model. Note that when compiling the model, you can use the Adam optimizer.**\n",
        "\n",
        "<div style=\"text-align: right\"><span style=\"color:red\">[5 points]</span></div>"
      ]
    },
    {
      "cell_type": "code",
      "execution_count": 20,
      "metadata": {
        "id": "71AOUdSm9jkF",
        "outputId": "53ba1e8f-a138-4b58-8eeb-175301be7650"
      },
      "outputs": [
        {
          "name": "stdout",
          "output_type": "stream",
          "text": [
            "Epoch 1/20\n"
          ]
        },
        {
          "name": "stderr",
          "output_type": "stream",
          "text": [
            "F:\\Anaconda3\\envs\\tf2\\lib\\site-packages\\keras\\optimizers\\optimizer_v2\\adam.py:110: UserWarning: The `lr` argument is deprecated, use `learning_rate` instead.\n",
            "  super(Adam, self).__init__(name, **kwargs)\n"
          ]
        },
        {
          "name": "stdout",
          "output_type": "stream",
          "text": [
            "13/13 [==============================] - 4s 32ms/step - loss: 1.7030 - accuracy: 0.3491 - val_loss: 1.6606 - val_accuracy: 0.3333\n",
            "Epoch 2/20\n",
            "13/13 [==============================] - 0s 7ms/step - loss: 1.4895 - accuracy: 0.5137 - val_loss: 1.4930 - val_accuracy: 0.4242\n",
            "Epoch 3/20\n",
            "13/13 [==============================] - 0s 7ms/step - loss: 1.2641 - accuracy: 0.6509 - val_loss: 1.2876 - val_accuracy: 0.4949\n",
            "Epoch 4/20\n",
            "13/13 [==============================] - 0s 8ms/step - loss: 0.9973 - accuracy: 0.8055 - val_loss: 1.0133 - val_accuracy: 0.7374\n",
            "Epoch 5/20\n",
            "13/13 [==============================] - 0s 8ms/step - loss: 0.7241 - accuracy: 0.9576 - val_loss: 0.7575 - val_accuracy: 0.8788\n",
            "Epoch 6/20\n",
            "13/13 [==============================] - 0s 7ms/step - loss: 0.4991 - accuracy: 0.9601 - val_loss: 0.5910 - val_accuracy: 0.8990\n",
            "Epoch 7/20\n",
            "13/13 [==============================] - 0s 7ms/step - loss: 0.3470 - accuracy: 0.9751 - val_loss: 0.4842 - val_accuracy: 0.8990\n",
            "Epoch 8/20\n",
            "13/13 [==============================] - 0s 7ms/step - loss: 0.2431 - accuracy: 0.9751 - val_loss: 0.3986 - val_accuracy: 0.9192\n",
            "Epoch 9/20\n",
            "13/13 [==============================] - 0s 7ms/step - loss: 0.1730 - accuracy: 0.9850 - val_loss: 0.3387 - val_accuracy: 0.9394\n",
            "Epoch 10/20\n",
            "13/13 [==============================] - 0s 8ms/step - loss: 0.1264 - accuracy: 0.9925 - val_loss: 0.2885 - val_accuracy: 0.9495\n",
            "Epoch 11/20\n",
            "13/13 [==============================] - 0s 8ms/step - loss: 0.0930 - accuracy: 0.9950 - val_loss: 0.2509 - val_accuracy: 0.9697\n",
            "Epoch 12/20\n",
            "13/13 [==============================] - 0s 8ms/step - loss: 0.0702 - accuracy: 0.9950 - val_loss: 0.2329 - val_accuracy: 0.9697\n",
            "Epoch 13/20\n",
            "13/13 [==============================] - 0s 8ms/step - loss: 0.0525 - accuracy: 0.9950 - val_loss: 0.2064 - val_accuracy: 0.9697\n",
            "Epoch 14/20\n",
            "13/13 [==============================] - 0s 8ms/step - loss: 0.0418 - accuracy: 0.9975 - val_loss: 0.1911 - val_accuracy: 0.9697\n",
            "Epoch 15/20\n",
            "13/13 [==============================] - 0s 7ms/step - loss: 0.0327 - accuracy: 1.0000 - val_loss: 0.1812 - val_accuracy: 0.9697\n",
            "Epoch 16/20\n",
            "13/13 [==============================] - 0s 7ms/step - loss: 0.0264 - accuracy: 1.0000 - val_loss: 0.1719 - val_accuracy: 0.9697\n",
            "Epoch 17/20\n",
            "13/13 [==============================] - 0s 8ms/step - loss: 0.0219 - accuracy: 1.0000 - val_loss: 0.1641 - val_accuracy: 0.9697\n",
            "Epoch 18/20\n",
            "13/13 [==============================] - 0s 7ms/step - loss: 0.0179 - accuracy: 1.0000 - val_loss: 0.1599 - val_accuracy: 0.9697\n",
            "Epoch 19/20\n",
            "13/13 [==============================] - 0s 7ms/step - loss: 0.0152 - accuracy: 1.0000 - val_loss: 0.1553 - val_accuracy: 0.9697\n",
            "Epoch 20/20\n",
            "13/13 [==============================] - 0s 7ms/step - loss: 0.0130 - accuracy: 1.0000 - val_loss: 0.1513 - val_accuracy: 0.9697\n"
          ]
        },
        {
          "data": {
            "text/plain": [
              "<keras.callbacks.History at 0x158e7792070>"
            ]
          },
          "execution_count": 20,
          "metadata": {},
          "output_type": "execute_result"
        }
      ],
      "source": [
        "text_cnn = TextCNN(data_manager=dm)\n",
        "text_cnn.build()\n",
        "text_cnn.compile_model(optimizer = keras.optimizers.Adam(lr=10e-4),\n",
        "                                loss = keras.losses.SparseCategoricalCrossentropy(),\n",
        "                                metrics=['accuracy'])#Insert code here to compile the model\n",
        "text_cnn.fit(dm.train_numeral_data, dm.train_numeral_labels, \n",
        "    validation_data = (dm.valid_numeral_data, dm.valid_numeral_labels),\n",
        "    epochs=20)#Insert code here to train the model on 20 epochs"
      ]
    },
    {
      "cell_type": "markdown",
      "metadata": {
        "id": "kSGUGf4c9jkG"
      },
      "source": [
        "## <span style=\"color:#0b486b\">Part 4: RNNs for sequence modeling and neural embedding </span>\n",
        "\n",
        "<div style=\"text-align: right\"><span style=\"color:red; font-weight:bold\">[Total marks for this part: 65 points]<span></div>"
      ]
    },
    {
      "cell_type": "markdown",
      "metadata": {
        "id": "4p0YPGZj9jkG"
      },
      "source": [
        "### <span style=\"color:#0b486b\">4.1. One-directional RNNs for sequence modeling and neural embedding </span> ###\n",
        "\n",
        "<div style=\"text-align: right\"><span style=\"color:red; font-weight:bold\">[Total marks for this part: 20 points]<span></div>"
      ]
    },
    {
      "cell_type": "markdown",
      "metadata": {
        "id": "bhrScr5x9jkG"
      },
      "source": [
        "#### <span style=\"color:red\">**Question 4.1.1**</span> \n",
        "**In this part, you need to construct an RNN to learn from the dataset of interest. Basically, you are required first to construct the class UniRNN (Uni-directional RNN) with the following requirements:**\n",
        "- Attribute `data_manager (self.data_manager)`: specifies the data manager used to store data for the model.\n",
        "- Attribute `cell_type (self.cell_type)`: can receive three values including `basic_rnn`, `gru`, and `lstm` which specifies the memory cells formed a hidden layer.\n",
        "- `state_sizes (self.state_sizes)` indicates the list of the hidden sizes from the second hidden layers of memory cells. For example, $embed\\_size =128$ and $state\\_sizes = [64, 64]$ means that you have three hidden layers in your network with hidden sizes of $128, 64$ and $64$ respectively.\n",
        "\n",
        "**Note that when declaring an embedding layer for the network, you need to set *mask_zero=True* so that the padding zeros in the sentences will be masked and ignored. This helps to have variable length RNNs. For more detail, you can refer to this [link](https://www.tensorflow.org/guide/keras/masking_and_padding).**\n",
        "\n",
        "<div style=\"text-align: right\"><span style=\"color:red\">[10 points]</span></div>"
      ]
    },
    {
      "cell_type": "code",
      "execution_count": 21,
      "metadata": {
        "id": "aN2JaRPf9jkG"
      },
      "outputs": [],
      "source": [
        "class UniRNN:\n",
        "    def __init__(self, cell_type= 'gru', embed_size= 128, state_sizes= [128, 64], data_manager= None):\n",
        "        self.cell_type = cell_type\n",
        "        self.state_sizes = state_sizes\n",
        "        self.embed_size = embed_size\n",
        "        self.data_manager = data_manager\n",
        "        self.vocab_size = self.data_manager.vocab_size + 1 \n",
        "        \n",
        "    #return the correspoding memory cell\n",
        "    @staticmethod\n",
        "    def get_layer(cell_type= 'gru', state_size= 128, return_sequences= False, activation = 'tanh'):\n",
        "        if cell_type=='gru':\n",
        "            return tf.keras.layers.GRU(state_size, return_sequences= return_sequences, activation = activation)#Insert your code here\n",
        "        elif cell_type== 'lstm':\n",
        "            return tf.keras.layers.LSTM(state_size, return_sequences= return_sequences, activation = activation)#Insert your code here\n",
        "        else:\n",
        "            return tf.keras.layers.SimpleRNN(state_size, return_sequences= return_sequences, activation = activation)#Insert your code here\n",
        "    \n",
        "    def build(self):\n",
        "        x = tf.keras.layers.Input(shape=[None])\n",
        "        h =  tf.keras.layers.Embedding(self.vocab_size, self.embed_size)(x)#Insert your code here\n",
        "        num_layers = len(self.state_sizes) #Insert your code here\n",
        "        for i in range(num_layers):\n",
        "            h =  self.get_layer(cell_type = self.cell_type, state_size = self.state_sizes[i], return_sequences= (i != (num_layers-1)))(h)#Insert your code here, you can insert more lines if necessary\n",
        "        h = tf.keras.layers.Dense(dm.num_classes, activation='softmax')(h)\n",
        "        self.model = tf.keras.Model(inputs=x, outputs=h)\n",
        "   \n",
        "    def compile_model(self, *args, **kwargs):\n",
        "        self.model.compile(*args, **kwargs)\n",
        "    \n",
        "    def fit(self, *args, **kwargs):\n",
        "        return self.model.fit(*args, **kwargs)\n",
        "    \n",
        "    def evaluate(self, *args, **kwargs):\n",
        "        self.model.evaluate(*args, **kwargs)       \n"
      ]
    },
    {
      "cell_type": "markdown",
      "metadata": {
        "id": "---stMdJ9jkG"
      },
      "source": [
        "#### <span style=\"color:red\">**Question 4.1.2**</span> \n",
        "**Run with basic RNN ('basic_rnn') cell with $embed\\_size= 128, state\\_sizes= [128, 128], data\\_manager= dm$.**\n",
        "\n",
        "<div style=\"text-align: right\"><span style=\"color:red\">[2 points]</span></div>"
      ]
    },
    {
      "cell_type": "code",
      "execution_count": 22,
      "metadata": {
        "id": "rxmiLrSk9jkG",
        "outputId": "82de455b-2dd5-4266-f2ec-fb1e9ec31578"
      },
      "outputs": [
        {
          "name": "stdout",
          "output_type": "stream",
          "text": [
            "Epoch 1/20\n",
            "7/7 [==============================] - 3s 219ms/step - loss: 1.6345 - accuracy: 0.3392 - val_loss: 1.5347 - val_accuracy: 0.3535\n",
            "Epoch 2/20\n",
            "7/7 [==============================] - 1s 203ms/step - loss: 1.3677 - accuracy: 0.5162 - val_loss: 1.3824 - val_accuracy: 0.4343\n",
            "Epoch 3/20\n",
            "7/7 [==============================] - 1s 208ms/step - loss: 1.1543 - accuracy: 0.6484 - val_loss: 1.2012 - val_accuracy: 0.5657\n",
            "Epoch 4/20\n",
            "7/7 [==============================] - 1s 188ms/step - loss: 0.9743 - accuracy: 0.7431 - val_loss: 1.0749 - val_accuracy: 0.6263\n",
            "Epoch 5/20\n",
            "7/7 [==============================] - 1s 185ms/step - loss: 0.8226 - accuracy: 0.8030 - val_loss: 0.9784 - val_accuracy: 0.6566\n",
            "Epoch 6/20\n",
            "7/7 [==============================] - 1s 178ms/step - loss: 0.6934 - accuracy: 0.8354 - val_loss: 0.8917 - val_accuracy: 0.6869\n",
            "Epoch 7/20\n",
            "7/7 [==============================] - 1s 180ms/step - loss: 0.5819 - accuracy: 0.8628 - val_loss: 0.8147 - val_accuracy: 0.7071\n",
            "Epoch 8/20\n",
            "7/7 [==============================] - 1s 195ms/step - loss: 0.4853 - accuracy: 0.8978 - val_loss: 0.7480 - val_accuracy: 0.7172\n",
            "Epoch 9/20\n",
            "7/7 [==============================] - 1s 183ms/step - loss: 0.4021 - accuracy: 0.9127 - val_loss: 0.6908 - val_accuracy: 0.7475\n",
            "Epoch 10/20\n",
            "7/7 [==============================] - 1s 207ms/step - loss: 0.3308 - accuracy: 0.9352 - val_loss: 0.6423 - val_accuracy: 0.7677\n",
            "Epoch 11/20\n",
            "7/7 [==============================] - 1s 185ms/step - loss: 0.2703 - accuracy: 0.9551 - val_loss: 0.6012 - val_accuracy: 0.7879\n",
            "Epoch 12/20\n",
            "7/7 [==============================] - 1s 215ms/step - loss: 0.2194 - accuracy: 0.9726 - val_loss: 0.5659 - val_accuracy: 0.8081\n",
            "Epoch 13/20\n",
            "7/7 [==============================] - 1s 205ms/step - loss: 0.1769 - accuracy: 0.9825 - val_loss: 0.5354 - val_accuracy: 0.8182\n",
            "Epoch 14/20\n",
            "7/7 [==============================] - 1s 193ms/step - loss: 0.1419 - accuracy: 0.9850 - val_loss: 0.5098 - val_accuracy: 0.8283\n",
            "Epoch 15/20\n",
            "7/7 [==============================] - 1s 195ms/step - loss: 0.1131 - accuracy: 0.9900 - val_loss: 0.4886 - val_accuracy: 0.8283\n",
            "Epoch 16/20\n",
            "7/7 [==============================] - 1s 198ms/step - loss: 0.0896 - accuracy: 0.9975 - val_loss: 0.4702 - val_accuracy: 0.8384\n",
            "Epoch 17/20\n",
            "7/7 [==============================] - 1s 200ms/step - loss: 0.0705 - accuracy: 0.9975 - val_loss: 0.4538 - val_accuracy: 0.8485\n",
            "Epoch 18/20\n",
            "7/7 [==============================] - 1s 193ms/step - loss: 0.0551 - accuracy: 0.9975 - val_loss: 0.4394 - val_accuracy: 0.8485\n",
            "Epoch 19/20\n",
            "7/7 [==============================] - 1s 187ms/step - loss: 0.0429 - accuracy: 1.0000 - val_loss: 0.4271 - val_accuracy: 0.8485\n",
            "Epoch 20/20\n",
            "7/7 [==============================] - 1s 188ms/step - loss: 0.0333 - accuracy: 1.0000 - val_loss: 0.4170 - val_accuracy: 0.8485\n"
          ]
        },
        {
          "data": {
            "text/plain": [
              "<keras.callbacks.History at 0x15a6e3d0ca0>"
            ]
          },
          "execution_count": 22,
          "metadata": {},
          "output_type": "execute_result"
        }
      ],
      "source": [
        "uni_rnn = UniRNN(cell_type= 'basic_rnn', embed_size= 128, state_sizes= [128, 128], data_manager = dm)#Insert your code here\n",
        "uni_rnn.build()\n",
        "opt = tf.keras.optimizers.RMSprop(learning_rate=0.0001)\n",
        "uni_rnn.compile_model(optimizer=opt, loss='sparse_categorical_crossentropy', metrics=['accuracy'])\n",
        "uni_rnn.fit(dm.tf_train_set.batch(64), epochs=20, validation_data = dm.tf_valid_set.batch(64))"
      ]
    },
    {
      "cell_type": "markdown",
      "metadata": {
        "id": "sSO_GvNA9jkH"
      },
      "source": [
        "#### <span style=\"color:red\">**Question 4.1.3**</span> \n",
        "**Run with GRU ('gru') cell with $embed\\_size= 128, state\\_sizes= [128, 128], data\\_manager= dm$.**\n",
        "\n",
        "<div style=\"text-align: right\"><span style=\"color:red\">[2 points]</span></div>"
      ]
    },
    {
      "cell_type": "code",
      "execution_count": 23,
      "metadata": {
        "id": "FAyEwLju9jkH",
        "outputId": "5b6ef301-ebf8-44a4-90c4-5a15600cd150"
      },
      "outputs": [
        {
          "name": "stdout",
          "output_type": "stream",
          "text": [
            "Epoch 1/20\n",
            "7/7 [==============================] - 4s 101ms/step - loss: 1.7087 - accuracy: 0.2394 - val_loss: 1.9591 - val_accuracy: 0.2525\n",
            "Epoch 2/20\n",
            "7/7 [==============================] - 0s 23ms/step - loss: 1.6711 - accuracy: 0.2843 - val_loss: 1.7815 - val_accuracy: 0.2525\n",
            "Epoch 3/20\n",
            "7/7 [==============================] - 0s 24ms/step - loss: 1.6438 - accuracy: 0.2668 - val_loss: 1.7690 - val_accuracy: 0.2525\n",
            "Epoch 4/20\n",
            "7/7 [==============================] - 0s 25ms/step - loss: 1.6410 - accuracy: 0.2668 - val_loss: 1.7626 - val_accuracy: 0.2525\n",
            "Epoch 5/20\n",
            "7/7 [==============================] - 0s 25ms/step - loss: 1.6397 - accuracy: 0.2668 - val_loss: 1.7582 - val_accuracy: 0.2525\n",
            "Epoch 6/20\n",
            "7/7 [==============================] - 0s 23ms/step - loss: 1.6389 - accuracy: 0.2668 - val_loss: 1.7547 - val_accuracy: 0.2525\n",
            "Epoch 7/20\n",
            "7/7 [==============================] - 0s 25ms/step - loss: 1.6382 - accuracy: 0.2668 - val_loss: 1.7518 - val_accuracy: 0.2525\n",
            "Epoch 8/20\n",
            "7/7 [==============================] - 0s 23ms/step - loss: 1.6376 - accuracy: 0.2668 - val_loss: 1.7500 - val_accuracy: 0.2525\n",
            "Epoch 9/20\n",
            "7/7 [==============================] - 0s 24ms/step - loss: 1.6373 - accuracy: 0.2668 - val_loss: 1.7458 - val_accuracy: 0.2525\n",
            "Epoch 10/20\n",
            "7/7 [==============================] - 0s 25ms/step - loss: 1.6367 - accuracy: 0.2668 - val_loss: 1.7446 - val_accuracy: 0.2525\n",
            "Epoch 11/20\n",
            "7/7 [==============================] - 0s 24ms/step - loss: 1.6365 - accuracy: 0.2668 - val_loss: 1.7417 - val_accuracy: 0.2525\n",
            "Epoch 12/20\n",
            "7/7 [==============================] - 0s 25ms/step - loss: 1.6360 - accuracy: 0.2668 - val_loss: 1.7420 - val_accuracy: 0.2525\n",
            "Epoch 13/20\n",
            "7/7 [==============================] - 0s 24ms/step - loss: 1.6358 - accuracy: 0.2668 - val_loss: 1.7386 - val_accuracy: 0.2525\n",
            "Epoch 14/20\n",
            "7/7 [==============================] - 0s 26ms/step - loss: 1.6354 - accuracy: 0.2668 - val_loss: 1.7397 - val_accuracy: 0.2525\n",
            "Epoch 15/20\n",
            "7/7 [==============================] - 0s 24ms/step - loss: 1.6353 - accuracy: 0.2668 - val_loss: 1.7377 - val_accuracy: 0.2525\n",
            "Epoch 16/20\n",
            "7/7 [==============================] - 0s 26ms/step - loss: 1.6349 - accuracy: 0.2668 - val_loss: 1.7375 - val_accuracy: 0.2525\n",
            "Epoch 17/20\n",
            "7/7 [==============================] - 0s 23ms/step - loss: 1.6348 - accuracy: 0.2668 - val_loss: 1.7363 - val_accuracy: 0.2525\n",
            "Epoch 18/20\n",
            "7/7 [==============================] - 0s 25ms/step - loss: 1.6345 - accuracy: 0.2668 - val_loss: 1.7359 - val_accuracy: 0.2525\n",
            "Epoch 19/20\n",
            "7/7 [==============================] - 0s 25ms/step - loss: 1.6342 - accuracy: 0.2668 - val_loss: 1.7360 - val_accuracy: 0.2525\n",
            "Epoch 20/20\n",
            "7/7 [==============================] - 0s 23ms/step - loss: 1.6341 - accuracy: 0.2668 - val_loss: 1.7339 - val_accuracy: 0.2525\n"
          ]
        },
        {
          "data": {
            "text/plain": [
              "<keras.callbacks.History at 0x15a80a09040>"
            ]
          },
          "execution_count": 23,
          "metadata": {},
          "output_type": "execute_result"
        }
      ],
      "source": [
        "uni_rnn = UniRNN(cell_type= 'gru', embed_size= 128, state_sizes= [128, 128], data_manager = dm)#Insert your code here\n",
        "uni_rnn.build()\n",
        "opt = tf.keras.optimizers.RMSprop(learning_rate=0.001)\n",
        "uni_rnn.compile_model(optimizer=opt, loss='sparse_categorical_crossentropy', metrics=['accuracy'])\n",
        "uni_rnn.fit(dm.tf_train_set.batch(64), epochs=20, validation_data = dm.tf_valid_set.batch(64))"
      ]
    },
    {
      "cell_type": "markdown",
      "metadata": {
        "id": "b0MQ8cIm9jkH"
      },
      "source": [
        "#### <span style=\"color:red\">**Question 4.1.4**</span> \n",
        "**Run with LSTM ('lstm') cell with $embed\\_size= 128, state\\_sizes= [128, 128], data\\_manager= dm$.**\n",
        "\n",
        "<div style=\"text-align: right\"><span style=\"color:red\">[2 points]</span></div>"
      ]
    },
    {
      "cell_type": "code",
      "execution_count": 24,
      "metadata": {
        "id": "_LRigkgu9jkH",
        "outputId": "bdb80241-f952-4a69-9352-e94937cfa7ae"
      },
      "outputs": [
        {
          "name": "stdout",
          "output_type": "stream",
          "text": [
            "Epoch 1/20\n",
            "7/7 [==============================] - 3s 118ms/step - loss: 1.7657 - accuracy: 0.2693 - val_loss: 1.7335 - val_accuracy: 0.2525\n",
            "Epoch 2/20\n",
            "7/7 [==============================] - 0s 24ms/step - loss: 1.6520 - accuracy: 0.2668 - val_loss: 1.8049 - val_accuracy: 0.2525\n",
            "Epoch 3/20\n",
            "7/7 [==============================] - 0s 25ms/step - loss: 1.6461 - accuracy: 0.2843 - val_loss: 1.7709 - val_accuracy: 0.2525\n",
            "Epoch 4/20\n",
            "7/7 [==============================] - 0s 26ms/step - loss: 1.6419 - accuracy: 0.2668 - val_loss: 1.7618 - val_accuracy: 0.2525\n",
            "Epoch 5/20\n",
            "7/7 [==============================] - 0s 26ms/step - loss: 1.6404 - accuracy: 0.2668 - val_loss: 1.7555 - val_accuracy: 0.2525\n",
            "Epoch 6/20\n",
            "7/7 [==============================] - 0s 24ms/step - loss: 1.6394 - accuracy: 0.2668 - val_loss: 1.7500 - val_accuracy: 0.2525\n",
            "Epoch 7/20\n",
            "7/7 [==============================] - 0s 27ms/step - loss: 1.6386 - accuracy: 0.2668 - val_loss: 1.7461 - val_accuracy: 0.2525\n",
            "Epoch 8/20\n",
            "7/7 [==============================] - 0s 27ms/step - loss: 1.6379 - accuracy: 0.2668 - val_loss: 1.7425 - val_accuracy: 0.2525\n",
            "Epoch 9/20\n",
            "7/7 [==============================] - 0s 24ms/step - loss: 1.6374 - accuracy: 0.2668 - val_loss: 1.7375 - val_accuracy: 0.2525\n",
            "Epoch 10/20\n",
            "7/7 [==============================] - 0s 24ms/step - loss: 1.6367 - accuracy: 0.2668 - val_loss: 1.7367 - val_accuracy: 0.2525\n",
            "Epoch 11/20\n",
            "7/7 [==============================] - 0s 26ms/step - loss: 1.6363 - accuracy: 0.2668 - val_loss: 1.7340 - val_accuracy: 0.2525\n",
            "Epoch 12/20\n",
            "7/7 [==============================] - 0s 25ms/step - loss: 1.6359 - accuracy: 0.2668 - val_loss: 1.7314 - val_accuracy: 0.2525\n",
            "Epoch 13/20\n",
            "7/7 [==============================] - 0s 24ms/step - loss: 1.6354 - accuracy: 0.2668 - val_loss: 1.7298 - val_accuracy: 0.2525\n",
            "Epoch 14/20\n",
            "7/7 [==============================] - 0s 26ms/step - loss: 1.6350 - accuracy: 0.2668 - val_loss: 1.7292 - val_accuracy: 0.2525\n",
            "Epoch 15/20\n",
            "7/7 [==============================] - 0s 25ms/step - loss: 1.6347 - accuracy: 0.2668 - val_loss: 1.7276 - val_accuracy: 0.2525\n",
            "Epoch 16/20\n",
            "7/7 [==============================] - 0s 25ms/step - loss: 1.6344 - accuracy: 0.2668 - val_loss: 1.7270 - val_accuracy: 0.2525\n",
            "Epoch 17/20\n",
            "7/7 [==============================] - 0s 24ms/step - loss: 1.6341 - accuracy: 0.2668 - val_loss: 1.7266 - val_accuracy: 0.2525\n",
            "Epoch 18/20\n",
            "7/7 [==============================] - 0s 28ms/step - loss: 1.6338 - accuracy: 0.2668 - val_loss: 1.7257 - val_accuracy: 0.2525\n",
            "Epoch 19/20\n",
            "7/7 [==============================] - 0s 25ms/step - loss: 1.6336 - accuracy: 0.2668 - val_loss: 1.7252 - val_accuracy: 0.2525\n",
            "Epoch 20/20\n",
            "7/7 [==============================] - 0s 26ms/step - loss: 1.6334 - accuracy: 0.2668 - val_loss: 1.7233 - val_accuracy: 0.2525\n"
          ]
        },
        {
          "data": {
            "text/plain": [
              "<keras.callbacks.History at 0x158c2da3220>"
            ]
          },
          "execution_count": 24,
          "metadata": {},
          "output_type": "execute_result"
        }
      ],
      "source": [
        "uni_rnn = UniRNN(cell_type= 'lstm', embed_size= 128, state_sizes= [128, 128], data_manager = dm)#Insert your code here\n",
        "uni_rnn.build()\n",
        "opt = tf.keras.optimizers.RMSprop(learning_rate=0.001)\n",
        "uni_rnn.compile_model(optimizer=opt, loss='sparse_categorical_crossentropy', metrics=['accuracy'])\n",
        "uni_rnn.fit(dm.tf_train_set.batch(64), epochs=20, validation_data = dm.tf_valid_set.batch(64))"
      ]
    },
    {
      "cell_type": "markdown",
      "metadata": {
        "id": "5xOT2KfJ9jkH"
      },
      "source": [
        "#### <span style=\"color:red\">**Question 4.1.5**</span> \n",
        "**Give your own comments about the performance of three memory cells for the dataset of interest as well as what happening during the training process of each cell. Note that there are not right or wrong comments and your comments rely on the status of your training. In addition, some comments and hypothesized assessments of what and why are occurring are useful to obtain the highest score for this question.**\n",
        "\n",
        "<div style=\"text-align: right\"><span style=\"color:red\">[4 points]</span></div>"
      ]
    },
    {
      "cell_type": "markdown",
      "metadata": {
        "id": "Hysxzy6f9jkI"
      },
      "source": [
        "#Your comments here\n",
        "\n",
        "LSTM and GRU models perform badly, they seems to fall into lcoal minimum and can not jump out. They are all under fitting. Basic rnn trains effectively, it suffers from over fitting in the end because it has larger test error.\n"
      ]
    },
    {
      "cell_type": "markdown",
      "metadata": {
        "id": "zJ5lqwd79jkI"
      },
      "source": [
        "### <span style=\"color:#0b486b\">4.2. Bi-directional RNNs for sequence modeling and neural embedding </span> ###\n",
        "\n",
        "<div style=\"text-align: right\"><span style=\"color:red; font-weight:bold\">[Total marks for this part: 20 points]<span></div>"
      ]
    },
    {
      "cell_type": "markdown",
      "metadata": {
        "id": "L01rCJjz9jkI"
      },
      "source": [
        "#### <span style=\"color:red\">**Question 4.2.1**</span> \n",
        "**In what follow, you will investigate BiRNN. The task is similar to Part 4.1 but you need to write the code for an BiRNN. Note that the function *get_layer(cell_type= 'gru', state_size= 128, return_sequences= False, activation = 'tanh')* has to return the hidden layer with bidirectional memory cells (e.g., Basic RNN, GRU, and LSTM cells).**\n",
        "\n",
        "**Complete the code of the class *BiRNN*. Note that for the embedding layer you need to set *mask_zero=True*.**\n",
        "\n",
        "<div style=\"text-align: right\"><span style=\"color:red\">[10 points]</span></div>"
      ]
    },
    {
      "cell_type": "code",
      "execution_count": 25,
      "metadata": {
        "id": "D2yfWFKJ9jkI"
      },
      "outputs": [],
      "source": [
        "class BiRNN:\n",
        "    def __init__(self, cell_type= 'gru', embed_size= 128, state_sizes= [128, 64], data_manager= None):\n",
        "        self.cell_type = cell_type\n",
        "        self.state_sizes = state_sizes\n",
        "        self.embed_size = embed_size\n",
        "        self.data_manager = data_manager\n",
        "        self.vocab_size = self.data_manager.vocab_size +1\n",
        "        \n",
        "    @staticmethod\n",
        "    def get_layer(cell_type= 'gru', state_size= 128, return_sequences= False, activation = 'tanh'):\n",
        "        if cell_type=='gru':\n",
        "            return tf.keras.layers.Bidirectional(\n",
        "                tf.keras.layers.GRU(state_size, return_sequences= return_sequences, activation = activation)) #Insert your code here\n",
        "        elif cell_type== 'lstm':\n",
        "            return tf.keras.layers.Bidirectional(\n",
        "                tf.keras.layers.LSTM(state_size, return_sequences= return_sequences, activation = activation))#Insert your code here\n",
        "        else:\n",
        "            return tf.keras.layers.Bidirectional(\n",
        "                tf.keras.layers.SimpleRNN(state_size, return_sequences= return_sequences, activation = activation))#Insert your code here\n",
        "    \n",
        "    def build(self):\n",
        "        x = tf.keras.layers.Input(shape=[None])\n",
        "        h = tf.keras.layers.Embedding(self.vocab_size, self.embed_size)(x)#Insert your code here\n",
        "        num_layers  = len(self.state_sizes) #Insert your code here#Insert your code here\n",
        "        for i in range(num_layers):\n",
        "            h = h =  self.get_layer(cell_type = self.cell_type, state_size = self.state_sizes[i], return_sequences= (i != (num_layers-1)))(h)#Insert your code here, add more lines if necessary\n",
        "        h = tf.keras.layers.Dense(dm.num_classes, activation='softmax')(h)\n",
        "        self.model = tf.keras.Model(inputs=x, outputs=h)\n",
        "        \n",
        "    \n",
        "    def compile_model(self, *args, **kwargs):\n",
        "        self.model.compile(*args, **kwargs)\n",
        "    \n",
        "    def fit(self, *args, **kwargs):\n",
        "        return self.model.fit(*args, **kwargs)\n",
        "    \n",
        "    def evaluate(self, *args, **kwargs):\n",
        "        self.model.evaluate(*args, **kwargs)       \n"
      ]
    },
    {
      "cell_type": "markdown",
      "metadata": {
        "id": "fzazq3lE9jkI"
      },
      "source": [
        "#### <span style=\"color:red\">**Question 4.2.2**</span> \n",
        "**Run BiRNN for basic RNN ('basic_rnn') cell with $embed\\_size= 128, state\\_sizes= [128, 128], data\\_manager= dm$.**\n",
        "\n",
        "<div style=\"text-align: right\"><span style=\"color:red\">[2 points]</span></div>"
      ]
    },
    {
      "cell_type": "code",
      "execution_count": 26,
      "metadata": {
        "id": "8DhVAeXw9jkI",
        "outputId": "6d9fec95-ad5a-4985-9b41-35992bca34f7"
      },
      "outputs": [
        {
          "name": "stdout",
          "output_type": "stream",
          "text": [
            "Epoch 1/20\n",
            "7/7 [==============================] - 5s 465ms/step - loss: 1.8550 - accuracy: 0.2743 - val_loss: 1.6605 - val_accuracy: 0.3939\n",
            "Epoch 2/20\n",
            "7/7 [==============================] - 3s 433ms/step - loss: 1.0076 - accuracy: 0.6384 - val_loss: 0.9465 - val_accuracy: 0.5657\n",
            "Epoch 3/20\n",
            "7/7 [==============================] - 3s 424ms/step - loss: 0.4449 - accuracy: 0.8803 - val_loss: 0.9070 - val_accuracy: 0.5960\n",
            "Epoch 4/20\n",
            "7/7 [==============================] - 3s 359ms/step - loss: 0.2326 - accuracy: 0.9501 - val_loss: 0.3880 - val_accuracy: 0.8687\n",
            "Epoch 5/20\n",
            "7/7 [==============================] - 3s 432ms/step - loss: 0.0972 - accuracy: 0.9900 - val_loss: 0.4046 - val_accuracy: 0.8687\n",
            "Epoch 6/20\n",
            "7/7 [==============================] - 3s 364ms/step - loss: 0.0561 - accuracy: 0.9975 - val_loss: 0.2474 - val_accuracy: 0.9495\n",
            "Epoch 7/20\n",
            "7/7 [==============================] - 3s 375ms/step - loss: 0.0295 - accuracy: 1.0000 - val_loss: 0.2525 - val_accuracy: 0.9091\n",
            "Epoch 8/20\n",
            "7/7 [==============================] - 3s 457ms/step - loss: 0.0178 - accuracy: 1.0000 - val_loss: 0.1966 - val_accuracy: 0.9495\n",
            "Epoch 9/20\n",
            "7/7 [==============================] - 3s 417ms/step - loss: 0.0110 - accuracy: 1.0000 - val_loss: 0.1889 - val_accuracy: 0.9697\n",
            "Epoch 10/20\n",
            "7/7 [==============================] - 3s 475ms/step - loss: 0.0071 - accuracy: 1.0000 - val_loss: 0.1816 - val_accuracy: 0.9596\n",
            "Epoch 11/20\n",
            "7/7 [==============================] - 3s 384ms/step - loss: 0.0047 - accuracy: 1.0000 - val_loss: 0.1823 - val_accuracy: 0.9596\n",
            "Epoch 12/20\n",
            "7/7 [==============================] - 3s 369ms/step - loss: 0.0033 - accuracy: 1.0000 - val_loss: 0.1838 - val_accuracy: 0.9596\n",
            "Epoch 13/20\n",
            "7/7 [==============================] - 3s 385ms/step - loss: 0.0023 - accuracy: 1.0000 - val_loss: 0.1823 - val_accuracy: 0.9697\n",
            "Epoch 14/20\n",
            "7/7 [==============================] - 3s 453ms/step - loss: 0.0016 - accuracy: 1.0000 - val_loss: 0.1816 - val_accuracy: 0.9596\n",
            "Epoch 15/20\n",
            "7/7 [==============================] - 3s 413ms/step - loss: 0.0011 - accuracy: 1.0000 - val_loss: 0.1862 - val_accuracy: 0.9596\n",
            "Epoch 16/20\n",
            "7/7 [==============================] - 3s 441ms/step - loss: 8.0004e-04 - accuracy: 1.0000 - val_loss: 0.2008 - val_accuracy: 0.9596\n",
            "Epoch 17/20\n",
            "7/7 [==============================] - 3s 455ms/step - loss: 6.0040e-04 - accuracy: 1.0000 - val_loss: 0.1964 - val_accuracy: 0.9495\n",
            "Epoch 18/20\n",
            "7/7 [==============================] - 3s 418ms/step - loss: 4.2249e-04 - accuracy: 1.0000 - val_loss: 0.1782 - val_accuracy: 0.9495\n",
            "Epoch 19/20\n",
            "7/7 [==============================] - 3s 366ms/step - loss: 2.7215e-04 - accuracy: 1.0000 - val_loss: 0.1874 - val_accuracy: 0.9495\n",
            "Epoch 20/20\n",
            "7/7 [==============================] - 3s 416ms/step - loss: 1.8666e-04 - accuracy: 1.0000 - val_loss: 0.1920 - val_accuracy: 0.9495\n"
          ]
        },
        {
          "data": {
            "text/plain": [
              "<keras.callbacks.History at 0x158c67d6490>"
            ]
          },
          "execution_count": 26,
          "metadata": {},
          "output_type": "execute_result"
        }
      ],
      "source": [
        "bi_rnn = BiRNN(cell_type= 'basic_rnn', embed_size= 128, state_sizes= [128, 128], data_manager= dm)#Insert your code here\n",
        "bi_rnn.build()\n",
        "opt = tf.keras.optimizers.RMSprop(learning_rate=0.001)\n",
        "bi_rnn.compile_model(optimizer=opt, loss='sparse_categorical_crossentropy', metrics=['accuracy'])\n",
        "bi_rnn.fit(dm.tf_train_set.batch(64), epochs=20, validation_data = dm.tf_valid_set.batch(64))"
      ]
    },
    {
      "cell_type": "markdown",
      "metadata": {
        "id": "Ej8g-L_c9jkJ"
      },
      "source": [
        "#### <span style=\"color:red\">**Question 4.2.3**</span> \n",
        "**Run BiRNN for GRU ('gru') cell with $embed\\_size= 128, state\\_sizes= [128, 128], data\\_manager= dm$.**\n",
        "\n",
        "<div style=\"text-align: right\"><span style=\"color:red\">[2 points]</span></div>"
      ]
    },
    {
      "cell_type": "code",
      "execution_count": 27,
      "metadata": {
        "id": "PhRFu3-y9jkJ",
        "outputId": "421d3929-71dc-49ac-d585-98990dce1987"
      },
      "outputs": [
        {
          "name": "stdout",
          "output_type": "stream",
          "text": [
            "Epoch 1/20\n",
            "7/7 [==============================] - 5s 178ms/step - loss: 1.6174 - accuracy: 0.3242 - val_loss: 1.6574 - val_accuracy: 0.2727\n",
            "Epoch 2/20\n",
            "7/7 [==============================] - 0s 43ms/step - loss: 1.2220 - accuracy: 0.5686 - val_loss: 1.0755 - val_accuracy: 0.4848\n",
            "Epoch 3/20\n",
            "7/7 [==============================] - 0s 41ms/step - loss: 0.6971 - accuracy: 0.7556 - val_loss: 0.8696 - val_accuracy: 0.5657\n",
            "Epoch 4/20\n",
            "7/7 [==============================] - 0s 40ms/step - loss: 0.4593 - accuracy: 0.8279 - val_loss: 0.7856 - val_accuracy: 0.5859\n",
            "Epoch 5/20\n",
            "7/7 [==============================] - 0s 41ms/step - loss: 0.3051 - accuracy: 0.9177 - val_loss: 0.6464 - val_accuracy: 0.7475\n",
            "Epoch 6/20\n",
            "7/7 [==============================] - 0s 43ms/step - loss: 0.1824 - accuracy: 0.9501 - val_loss: 0.6095 - val_accuracy: 0.7576\n",
            "Epoch 7/20\n",
            "7/7 [==============================] - 0s 40ms/step - loss: 0.1013 - accuracy: 0.9825 - val_loss: 0.5273 - val_accuracy: 0.7879\n",
            "Epoch 8/20\n",
            "7/7 [==============================] - 0s 39ms/step - loss: 0.1568 - accuracy: 0.9426 - val_loss: 0.3086 - val_accuracy: 0.8687\n",
            "Epoch 9/20\n",
            "7/7 [==============================] - 0s 43ms/step - loss: 0.0547 - accuracy: 0.9825 - val_loss: 0.2460 - val_accuracy: 0.9091\n",
            "Epoch 10/20\n",
            "7/7 [==============================] - 0s 43ms/step - loss: 0.0442 - accuracy: 0.9825 - val_loss: 0.2952 - val_accuracy: 0.8990\n",
            "Epoch 11/20\n",
            "7/7 [==============================] - 0s 42ms/step - loss: 0.0336 - accuracy: 0.9875 - val_loss: 0.2550 - val_accuracy: 0.9192\n",
            "Epoch 12/20\n",
            "7/7 [==============================] - 0s 40ms/step - loss: 0.0191 - accuracy: 0.9975 - val_loss: 0.2637 - val_accuracy: 0.9091\n",
            "Epoch 13/20\n",
            "7/7 [==============================] - 0s 42ms/step - loss: 0.0135 - accuracy: 1.0000 - val_loss: 0.2522 - val_accuracy: 0.8990\n",
            "Epoch 14/20\n",
            "7/7 [==============================] - 0s 43ms/step - loss: 0.0077 - accuracy: 1.0000 - val_loss: 0.2396 - val_accuracy: 0.9091\n",
            "Epoch 15/20\n",
            "7/7 [==============================] - 0s 42ms/step - loss: 0.0068 - accuracy: 1.0000 - val_loss: 0.2750 - val_accuracy: 0.9091\n",
            "Epoch 16/20\n",
            "7/7 [==============================] - 0s 43ms/step - loss: 0.0029 - accuracy: 1.0000 - val_loss: 0.3144 - val_accuracy: 0.9091\n",
            "Epoch 17/20\n",
            "7/7 [==============================] - 0s 44ms/step - loss: 0.0021 - accuracy: 1.0000 - val_loss: 0.3405 - val_accuracy: 0.8990\n",
            "Epoch 18/20\n",
            "7/7 [==============================] - 0s 42ms/step - loss: 0.0013 - accuracy: 1.0000 - val_loss: 0.3587 - val_accuracy: 0.8990\n",
            "Epoch 19/20\n",
            "7/7 [==============================] - 0s 42ms/step - loss: 8.4246e-04 - accuracy: 1.0000 - val_loss: 0.3784 - val_accuracy: 0.8990\n",
            "Epoch 20/20\n",
            "7/7 [==============================] - 0s 43ms/step - loss: 5.9516e-04 - accuracy: 1.0000 - val_loss: 0.3982 - val_accuracy: 0.8990\n"
          ]
        },
        {
          "data": {
            "text/plain": [
              "<keras.callbacks.History at 0x158c9bdd5b0>"
            ]
          },
          "execution_count": 27,
          "metadata": {},
          "output_type": "execute_result"
        }
      ],
      "source": [
        "bi_rnn = BiRNN(cell_type= 'gru', embed_size= 128, state_sizes= [128, 128], data_manager= dm)#Insert your code here\n",
        "bi_rnn.build()\n",
        "opt = tf.keras.optimizers.RMSprop(learning_rate=0.001)\n",
        "bi_rnn.compile_model(optimizer=opt, loss='sparse_categorical_crossentropy', metrics=['accuracy'])\n",
        "bi_rnn.fit(dm.tf_train_set.batch(64), epochs=20, validation_data = dm.tf_valid_set.batch(64))"
      ]
    },
    {
      "cell_type": "markdown",
      "metadata": {
        "id": "EOmgM6sm9jkJ"
      },
      "source": [
        "#### <span style=\"color:red\">**Question 4.2.4**</span> \n",
        "**Run BiRNN for LSTM ('lstm') cell with $embed\\_size= 128, state\\_sizes= [128, 128], data\\_manager= dm$.**\n",
        "\n",
        "<div style=\"text-align: right\"><span style=\"color:red\">[2 points]</span></div>"
      ]
    },
    {
      "cell_type": "code",
      "execution_count": 28,
      "metadata": {
        "id": "SCs8UYsr9jkJ",
        "outputId": "3d4dbd41-c82f-4412-bb25-06efb04b9980"
      },
      "outputs": [
        {
          "name": "stdout",
          "output_type": "stream",
          "text": [
            "Epoch 1/20\n",
            "7/7 [==============================] - 5s 206ms/step - loss: 1.7654 - accuracy: 0.3117 - val_loss: 2.1135 - val_accuracy: 0.2525\n",
            "Epoch 2/20\n",
            "7/7 [==============================] - 0s 45ms/step - loss: 1.5896 - accuracy: 0.3815 - val_loss: 1.5448 - val_accuracy: 0.3434\n",
            "Epoch 3/20\n",
            "7/7 [==============================] - 0s 43ms/step - loss: 1.2627 - accuracy: 0.5112 - val_loss: 1.2748 - val_accuracy: 0.4040\n",
            "Epoch 4/20\n",
            "7/7 [==============================] - 0s 44ms/step - loss: 1.0023 - accuracy: 0.5885 - val_loss: 1.1765 - val_accuracy: 0.4141\n",
            "Epoch 5/20\n",
            "7/7 [==============================] - 0s 41ms/step - loss: 0.7878 - accuracy: 0.7307 - val_loss: 1.6976 - val_accuracy: 0.3939\n",
            "Epoch 6/20\n",
            "7/7 [==============================] - 0s 42ms/step - loss: 0.6881 - accuracy: 0.7506 - val_loss: 0.9747 - val_accuracy: 0.6263\n",
            "Epoch 7/20\n",
            "7/7 [==============================] - 0s 42ms/step - loss: 0.4636 - accuracy: 0.8554 - val_loss: 0.8509 - val_accuracy: 0.6970\n",
            "Epoch 8/20\n",
            "7/7 [==============================] - 0s 44ms/step - loss: 0.2876 - accuracy: 0.9426 - val_loss: 0.7092 - val_accuracy: 0.7677\n",
            "Epoch 9/20\n",
            "7/7 [==============================] - 0s 42ms/step - loss: 0.2579 - accuracy: 0.9352 - val_loss: 0.5771 - val_accuracy: 0.8081\n",
            "Epoch 10/20\n",
            "7/7 [==============================] - 0s 41ms/step - loss: 0.1779 - accuracy: 0.9576 - val_loss: 0.5647 - val_accuracy: 0.8384\n",
            "Epoch 11/20\n",
            "7/7 [==============================] - 0s 44ms/step - loss: 0.1037 - accuracy: 0.9751 - val_loss: 0.5579 - val_accuracy: 0.8182\n",
            "Epoch 12/20\n",
            "7/7 [==============================] - 0s 43ms/step - loss: 0.0643 - accuracy: 0.9825 - val_loss: 0.5844 - val_accuracy: 0.8384\n",
            "Epoch 13/20\n",
            "7/7 [==============================] - 0s 42ms/step - loss: 0.0676 - accuracy: 0.9825 - val_loss: 0.5849 - val_accuracy: 0.8081\n",
            "Epoch 14/20\n",
            "7/7 [==============================] - 0s 43ms/step - loss: 0.1076 - accuracy: 0.9676 - val_loss: 1.1108 - val_accuracy: 0.6768\n",
            "Epoch 15/20\n",
            "7/7 [==============================] - 0s 44ms/step - loss: 0.0717 - accuracy: 0.9800 - val_loss: 0.5273 - val_accuracy: 0.8485\n",
            "Epoch 16/20\n",
            "7/7 [==============================] - 0s 43ms/step - loss: 0.0306 - accuracy: 0.9850 - val_loss: 0.5585 - val_accuracy: 0.8687\n",
            "Epoch 17/20\n",
            "7/7 [==============================] - 0s 42ms/step - loss: 0.0196 - accuracy: 0.9975 - val_loss: 0.6220 - val_accuracy: 0.8485\n",
            "Epoch 18/20\n",
            "7/7 [==============================] - 0s 44ms/step - loss: 0.0146 - accuracy: 0.9975 - val_loss: 0.7407 - val_accuracy: 0.8182\n",
            "Epoch 19/20\n",
            "7/7 [==============================] - 0s 44ms/step - loss: 0.0056 - accuracy: 1.0000 - val_loss: 0.6830 - val_accuracy: 0.8485\n",
            "Epoch 20/20\n",
            "7/7 [==============================] - 0s 43ms/step - loss: 0.4254 - accuracy: 0.8978 - val_loss: 0.3202 - val_accuracy: 0.8586\n"
          ]
        },
        {
          "data": {
            "text/plain": [
              "<keras.callbacks.History at 0x15b4d3f4430>"
            ]
          },
          "execution_count": 28,
          "metadata": {},
          "output_type": "execute_result"
        }
      ],
      "source": [
        "bi_rnn = BiRNN(cell_type= 'lstm', embed_size= 128, state_sizes= [128, 128], data_manager= dm)#Insert your code here\n",
        "bi_rnn.build()\n",
        "opt = tf.keras.optimizers.RMSprop(learning_rate=0.001)\n",
        "bi_rnn.compile_model(optimizer=opt, loss='sparse_categorical_crossentropy', metrics=['accuracy'])\n",
        "bi_rnn.fit(dm.tf_train_set.batch(64), epochs=20, validation_data = dm.tf_valid_set.batch(64))"
      ]
    },
    {
      "cell_type": "markdown",
      "metadata": {
        "id": "E50FkAom9jkJ"
      },
      "source": [
        "#### <span style=\"color:red\">**Question 4.2.5**</span> \n",
        "\n",
        "**Give your own comments about the performance of three memory cells for the dataset of interest as well as comparing BiRNN to UniRNN in Part 1.**\n",
        "\n",
        "<div style=\"text-align: right\"><span style=\"color:red\">[4 points]</span></div>"
      ]
    },
    {
      "cell_type": "markdown",
      "metadata": {
        "id": "jRndDDKb9jkK"
      },
      "source": [
        "#Your comments here\n",
        "\n",
        "The three models of BIRNN are all suffering from over fitting to different degree. Compared with UniRNN, BiRNN with LSTM and GRU performs much better. Compared with basic rnn of UniRNN, basic rnn of BiRNN lower test error and higher accuracy, they means BiRNN strcutre reduce over fitting problem.\n"
      ]
    },
    {
      "cell_type": "markdown",
      "metadata": {
        "id": "bQ2MTpgK9jkK"
      },
      "source": [
        "### <span style=\"color:#0b486b\">4.3. RNNs with various types, cells, and fine-tuning embedding matrix for sequence modeling and neural embedding </span> ###\n",
        "\n",
        "<div style=\"text-align: right\"><span style=\"color:red; font-weight:bold\">[Total marks for this part: 20 points]<span></div>"
      ]
    },
    {
      "cell_type": "markdown",
      "metadata": {
        "id": "O7EbsXse9jkK"
      },
      "source": [
        "#### <span style=\"color:red\">**Question 4.3.1**</span> \n",
        "\n",
        "**In what follows, you are required to combine the code in Part 1 and Part 2 to gain a general RNN which can be either Uni-directional RNN or Bi-directional RNN and the embedding matrix can be initialized using a pretrained Word2Vect.**\n",
        "\n",
        "**Below are the descriptions of the attributes of the class *RNN*:**\n",
        "- `run_mode (self.run_mode)` has three values (scratch, init-only, and init-fine-tune).\n",
        "  - `scratch` means training the embedding matrix from scratch.\n",
        "  - `init-only` means only initialzing the embedding matrix with a pretrained Word2Vect but not further doing fine-tuning that matrix.\n",
        "  - `init-fine-tune` means both initialzing the embedding matrix with a pretrained Word2Vect and further doing fine-tuning that matrix.\n",
        "- `network_type (self.network_type)` has two values (uni-directional and bi-directional) which correspond to either Uni-directional RNN or Bi-directional RNN.\n",
        "- `cell_type (self.cell_type)` has three values (simple-rnn, gru, and lstm) which specify the memory cell used in the network.\n",
        "- `embed_model (self.embed_model)` specifes the pretrained Word2Vect model used.\n",
        "-  `embed_size (self.embed_size)` specifes the embedding size. Note that when run_mode is either init-only' or 'init-fine-tune', this embedding size is extracted from embed_model for dimension compatability.\n",
        "- `state_sizes (self.state_sizes)` indicates the list of the hidden sizes from the second hidden layers of memory cells. For example, $embed\\_size =128$ and $state\\_sizes = [64, 64]$ means that you have three hidden layers in your network with hidden sizes of $128, 64$ and $64$ respectively.\n",
        "\n",
        "**Complete the code of the class *RNN*.**\n",
        "\n",
        "<div style=\"text-align: right\"><span style=\"color:red\">[10 points]</span></div>"
      ]
    },
    {
      "cell_type": "code",
      "execution_count": 29,
      "metadata": {
        "id": "ltYho4ye9jkK"
      },
      "outputs": [],
      "source": [
        "class RNN:\n",
        "    def __init__(self, run_mode = 'scratch', cell_type= 'gru', network_type = 'uni-directional', embed_model= 'glove-wiki-gigaword-100', \n",
        "                 embed_size= 128, state_sizes = [64, 64], data_manager = None):\n",
        "        self.run_mode = run_mode\n",
        "        self.data_manager = data_manager\n",
        "        self.cell_type = cell_type\n",
        "        self.network_type = network_type\n",
        "        self.state_sizes = state_sizes\n",
        "        self.embed_model = embed_model\n",
        "        self.embed_size = embed_size\n",
        "        if self.run_mode != 'scratch':\n",
        "            self.embed_size = int(self.embed_model.split(\"-\")[-1])\n",
        "        self.data_manager = data_manager\n",
        "        self.vocab_size = dm.vocab_size +1\n",
        "        self.word2idx = dm.word2idx\n",
        "        self.word2vect = word2vect\n",
        "        self.embed_matrix = np.zeros(shape= [self.vocab_size, self.embed_size])\n",
        "    \n",
        "    def build_embedding_matrix(self):\n",
        "        if self.run_mode == 'scratch':\n",
        "            return tf.keras.layers.Embedding(self.vocab_size, self.embed_size)#Insert your code here\n",
        "        else:\n",
        "            for i in range(1, self.vocab_size):\n",
        "                word = self.data_manager.idx2word[i]\n",
        "                self.embed_matrix[i] = get_word_vector(word, self.word2vect)\n",
        "            return tf.keras.layers.Embedding(self.vocab_size,\n",
        "                            self.embed_size,\n",
        "                            weights=[self.embed_matrix],\n",
        "                            trainable=(self.run_mode != 'init-only'))\n",
        "    \n",
        "    @staticmethod\n",
        "    def get_layer(cell_type= 'gru', network_type= 'uni-directional', hidden_size= 128, return_sequences= False, activation = 'tanh'):\n",
        "        if network_type == 'uni-directional':\n",
        "            if cell_type=='gru':\n",
        "                return tf.keras.layers.Bidirectional(\n",
        "                    tf.keras.layers.GRU(hidden_size, return_sequences= return_sequences, activation = activation)) #Insert your code here\n",
        "            elif cell_type== 'lstm':\n",
        "                return tf.keras.layers.Bidirectional(\n",
        "                    tf.keras.layers.LSTM(hidden_size, return_sequences= return_sequences, activation = activation))#Insert your code here\n",
        "            else:\n",
        "                return tf.keras.layers.Bidirectional(\n",
        "                    tf.keras.layers.SimpleRNN(hidden_size, return_sequences= return_sequences, activation = activation))#Insert your code here\n",
        "        else:\n",
        "            if cell_type=='gru':\n",
        "                return tf.keras.layers.Bidirectional(\n",
        "                    tf.keras.layers.GRU(hidden_size, return_sequences= return_sequences, activation = activation)) #Insert your code here\n",
        "            elif cell_type== 'lstm':\n",
        "                return tf.keras.layers.Bidirectional(\n",
        "                    tf.keras.layers.LSTM(hidden_size, return_sequences= return_sequences, activation = activation))#Insert your code here\n",
        "            else:\n",
        "                return tf.keras.layers.Bidirectional(\n",
        "                    tf.keras.layers.SimpleRNN(hidden_size, return_sequences= return_sequences, activation = activation))#Insert your code here\n",
        "    \n",
        "    def build(self):\n",
        "        x = tf.keras.layers.Input(shape=[None])\n",
        "        h = self.build_embedding_matrix()(x)#Insert your code here\n",
        "        num_layers = len(self.state_sizes) #Insert your code here#Insert your code here\n",
        "        for i in range(num_layers):\n",
        "            h = h =  self.get_layer(cell_type = self.cell_type, network_type = self.network_type, hidden_size = self.state_sizes[i], return_sequences= (i != (num_layers-1)))(h)#Insert your code here, add more lines if necessary\n",
        "        h = tf.keras.layers.Dense(dm.num_classes, activation='softmax')(h)\n",
        "        self.model = tf.keras.Model(inputs=x, outputs=h)#Insert your code here\n",
        "        \n",
        "    def compile_model(self, *args, **kwargs):\n",
        "        self.model.compile(*args, **kwargs)\n",
        "    \n",
        "    def fit(self, *args, **kwargs):\n",
        "        return self.model.fit(*args, **kwargs)\n",
        "    \n",
        "    def evaluate(self, *args, **kwargs):\n",
        "        self.model.evaluate(*args, **kwargs)       \n"
      ]
    },
    {
      "cell_type": "code",
      "execution_count": 30,
      "metadata": {},
      "outputs": [
        {
          "name": "stdout",
          "output_type": "stream",
          "text": [
            "Epoch 1/20\n",
            "7/7 [==============================] - 5s 195ms/step - loss: 1.6629 - accuracy: 0.3092 - val_loss: 1.6227 - val_accuracy: 0.2727\n",
            "Epoch 2/20\n",
            "7/7 [==============================] - 0s 33ms/step - loss: 1.3567 - accuracy: 0.4663 - val_loss: 1.2784 - val_accuracy: 0.4040\n",
            "Epoch 3/20\n",
            "7/7 [==============================] - 0s 33ms/step - loss: 0.9764 - accuracy: 0.6334 - val_loss: 0.9913 - val_accuracy: 0.5051\n",
            "Epoch 4/20\n",
            "7/7 [==============================] - 0s 31ms/step - loss: 0.6772 - accuracy: 0.7855 - val_loss: 0.7916 - val_accuracy: 0.6263\n",
            "Epoch 5/20\n",
            "7/7 [==============================] - 0s 33ms/step - loss: 0.4575 - accuracy: 0.8753 - val_loss: 0.7273 - val_accuracy: 0.6566\n",
            "Epoch 6/20\n",
            "7/7 [==============================] - 0s 34ms/step - loss: 0.3300 - accuracy: 0.9102 - val_loss: 0.6699 - val_accuracy: 0.7273\n",
            "Epoch 7/20\n",
            "7/7 [==============================] - 0s 30ms/step - loss: 0.2529 - accuracy: 0.9401 - val_loss: 0.5568 - val_accuracy: 0.7879\n",
            "Epoch 8/20\n",
            "7/7 [==============================] - 0s 31ms/step - loss: 0.1525 - accuracy: 0.9751 - val_loss: 0.4828 - val_accuracy: 0.8081\n",
            "Epoch 9/20\n",
            "7/7 [==============================] - 0s 32ms/step - loss: 0.1078 - accuracy: 0.9800 - val_loss: 0.4830 - val_accuracy: 0.8283\n",
            "Epoch 10/20\n",
            "7/7 [==============================] - 0s 31ms/step - loss: 0.0890 - accuracy: 0.9776 - val_loss: 0.4733 - val_accuracy: 0.8384\n",
            "Epoch 11/20\n",
            "7/7 [==============================] - 0s 32ms/step - loss: 0.0596 - accuracy: 0.9850 - val_loss: 0.4287 - val_accuracy: 0.8788\n",
            "Epoch 12/20\n",
            "7/7 [==============================] - 0s 33ms/step - loss: 0.0431 - accuracy: 0.9875 - val_loss: 0.4271 - val_accuracy: 0.8687\n",
            "Epoch 13/20\n",
            "7/7 [==============================] - 0s 33ms/step - loss: 0.0307 - accuracy: 0.9975 - val_loss: 0.4560 - val_accuracy: 0.8687\n",
            "Epoch 14/20\n",
            "7/7 [==============================] - 0s 33ms/step - loss: 0.0210 - accuracy: 1.0000 - val_loss: 0.4694 - val_accuracy: 0.8687\n",
            "Epoch 15/20\n",
            "7/7 [==============================] - 0s 34ms/step - loss: 0.0178 - accuracy: 1.0000 - val_loss: 0.5833 - val_accuracy: 0.8485\n",
            "Epoch 16/20\n",
            "7/7 [==============================] - 0s 34ms/step - loss: 0.0120 - accuracy: 1.0000 - val_loss: 0.5431 - val_accuracy: 0.8788\n",
            "Epoch 17/20\n",
            "7/7 [==============================] - 0s 31ms/step - loss: 0.0083 - accuracy: 1.0000 - val_loss: 0.5469 - val_accuracy: 0.8788\n",
            "Epoch 18/20\n",
            "7/7 [==============================] - 0s 33ms/step - loss: 0.0058 - accuracy: 1.0000 - val_loss: 0.5715 - val_accuracy: 0.8788\n",
            "Epoch 19/20\n",
            "7/7 [==============================] - 0s 36ms/step - loss: 0.0042 - accuracy: 1.0000 - val_loss: 0.5982 - val_accuracy: 0.8788\n",
            "Epoch 20/20\n",
            "7/7 [==============================] - 0s 34ms/step - loss: 0.0031 - accuracy: 1.0000 - val_loss: 0.6255 - val_accuracy: 0.8788\n"
          ]
        },
        {
          "data": {
            "text/plain": [
              "<keras.callbacks.History at 0x15b65fde520>"
            ]
          },
          "execution_count": 30,
          "metadata": {},
          "output_type": "execute_result"
        }
      ],
      "source": [
        "bi_rnn = RNN(run_mode = 'scratch', cell_type= 'gru', network_type = 'uni-directional', embed_model= 'glove-wiki-gigaword-100', \n",
        "                 embed_size= 128, state_sizes = [64, 64], data_manager = dm)#Insert your code here\n",
        "bi_rnn.build()\n",
        "opt = tf.keras.optimizers.RMSprop(learning_rate=0.001)\n",
        "bi_rnn.compile_model(optimizer=opt, loss='sparse_categorical_crossentropy', metrics=['accuracy'])\n",
        "bi_rnn.fit(dm.tf_train_set.batch(64), epochs=20, validation_data = dm.tf_valid_set.batch(64))"
      ]
    },
    {
      "cell_type": "markdown",
      "metadata": {
        "id": "USg_RN3b9jkK"
      },
      "source": [
        "#### <span style=\"color:red\">**Question 4.3.2**</span> \n",
        "\n",
        "**Design the experiment to compare three running modes. Note that you should stick with fixed values for other attributes and only vary *run_mode*. Give your comments for the results.**\n",
        "\n",
        "<div style=\"text-align: right\"><span style=\"color:red\">[5 points]</span></div>"
      ]
    },
    {
      "cell_type": "markdown",
      "metadata": {},
      "source": [
        "comments: use embed_model such as glove-wiki-gigaword-100 can relieve the problem of over fitting. In my experiment, 'init-only' mode seems to perform best. This is because the pre embed model is good enough and do not need to optimize, so 'init-fine-tune' performs worse than 'init-only' mode."
      ]
    },
    {
      "cell_type": "code",
      "execution_count": 31,
      "metadata": {
        "id": "yoOGN5E89jkK"
      },
      "outputs": [
        {
          "name": "stdout",
          "output_type": "stream",
          "text": [
            "Epoch 1/20\n",
            "7/7 [==============================] - 5s 190ms/step - loss: 1.3017 - accuracy: 0.6060 - val_loss: 1.0905 - val_accuracy: 0.4949\n",
            "Epoch 2/20\n",
            "7/7 [==============================] - 0s 32ms/step - loss: 0.8067 - accuracy: 0.7631 - val_loss: 0.8302 - val_accuracy: 0.5152\n",
            "Epoch 3/20\n",
            "7/7 [==============================] - 0s 34ms/step - loss: 0.5900 - accuracy: 0.8304 - val_loss: 0.6700 - val_accuracy: 0.6667\n",
            "Epoch 4/20\n",
            "7/7 [==============================] - 0s 33ms/step - loss: 0.4513 - accuracy: 0.8853 - val_loss: 0.5620 - val_accuracy: 0.7374\n",
            "Epoch 5/20\n",
            "7/7 [==============================] - 0s 32ms/step - loss: 0.3566 - accuracy: 0.8928 - val_loss: 0.4853 - val_accuracy: 0.7475\n",
            "Epoch 6/20\n",
            "7/7 [==============================] - 0s 31ms/step - loss: 0.2891 - accuracy: 0.9202 - val_loss: 0.4244 - val_accuracy: 0.7879\n",
            "Epoch 7/20\n",
            "7/7 [==============================] - 0s 33ms/step - loss: 0.2383 - accuracy: 0.9302 - val_loss: 0.3727 - val_accuracy: 0.8384\n",
            "Epoch 8/20\n",
            "7/7 [==============================] - 0s 32ms/step - loss: 0.1983 - accuracy: 0.9401 - val_loss: 0.3281 - val_accuracy: 0.8687\n",
            "Epoch 9/20\n",
            "7/7 [==============================] - 0s 32ms/step - loss: 0.1656 - accuracy: 0.9476 - val_loss: 0.2889 - val_accuracy: 0.8788\n",
            "Epoch 10/20\n",
            "7/7 [==============================] - 0s 32ms/step - loss: 0.1379 - accuracy: 0.9551 - val_loss: 0.2564 - val_accuracy: 0.9192\n",
            "Epoch 11/20\n",
            "7/7 [==============================] - 0s 33ms/step - loss: 0.1213 - accuracy: 0.9651 - val_loss: 0.2341 - val_accuracy: 0.9192\n",
            "Epoch 12/20\n",
            "7/7 [==============================] - 0s 31ms/step - loss: 0.0934 - accuracy: 0.9800 - val_loss: 0.2225 - val_accuracy: 0.9192\n",
            "Epoch 13/20\n",
            "7/7 [==============================] - 0s 31ms/step - loss: 0.0753 - accuracy: 0.9850 - val_loss: 0.1897 - val_accuracy: 0.9495\n",
            "Epoch 14/20\n",
            "7/7 [==============================] - 0s 34ms/step - loss: 0.0699 - accuracy: 0.9776 - val_loss: 0.4003 - val_accuracy: 0.8687\n",
            "Epoch 15/20\n",
            "7/7 [==============================] - 0s 35ms/step - loss: 0.0619 - accuracy: 0.9875 - val_loss: 0.1336 - val_accuracy: 0.9495\n",
            "Epoch 16/20\n",
            "7/7 [==============================] - 0s 30ms/step - loss: 0.0491 - accuracy: 0.9875 - val_loss: 0.1321 - val_accuracy: 0.9596\n",
            "Epoch 17/20\n",
            "7/7 [==============================] - 0s 32ms/step - loss: 0.0425 - accuracy: 0.9850 - val_loss: 0.1325 - val_accuracy: 0.9596\n",
            "Epoch 18/20\n",
            "7/7 [==============================] - 0s 32ms/step - loss: 0.0348 - accuracy: 0.9900 - val_loss: 0.1394 - val_accuracy: 0.9596\n",
            "Epoch 19/20\n",
            "7/7 [==============================] - 0s 32ms/step - loss: 0.0377 - accuracy: 0.9875 - val_loss: 0.1195 - val_accuracy: 0.9798\n",
            "Epoch 20/20\n",
            "7/7 [==============================] - 0s 31ms/step - loss: 0.0314 - accuracy: 0.9925 - val_loss: 0.1123 - val_accuracy: 0.9798\n"
          ]
        },
        {
          "data": {
            "text/plain": [
              "<keras.callbacks.History at 0x15b8a944460>"
            ]
          },
          "execution_count": 31,
          "metadata": {},
          "output_type": "execute_result"
        }
      ],
      "source": [
        "bi_rnn = RNN(run_mode = 'init-only', cell_type= 'gru', network_type = 'uni-directional', embed_model= 'glove-wiki-gigaword-100', \n",
        "                 embed_size= 128, state_sizes = [64, 64], data_manager = dm)#Insert your code here\n",
        "bi_rnn.build()\n",
        "opt = tf.keras.optimizers.RMSprop(learning_rate=0.001)\n",
        "bi_rnn.compile_model(optimizer=opt, loss='sparse_categorical_crossentropy', metrics=['accuracy'])\n",
        "bi_rnn.fit(dm.tf_train_set.batch(64), epochs=20, validation_data = dm.tf_valid_set.batch(64))"
      ]
    },
    {
      "cell_type": "code",
      "execution_count": 32,
      "metadata": {},
      "outputs": [
        {
          "name": "stdout",
          "output_type": "stream",
          "text": [
            "Epoch 1/20\n",
            "7/7 [==============================] - 6s 182ms/step - loss: 1.3494 - accuracy: 0.6160 - val_loss: 1.0827 - val_accuracy: 0.4949\n",
            "Epoch 2/20\n",
            "7/7 [==============================] - 0s 33ms/step - loss: 0.7986 - accuracy: 0.7606 - val_loss: 0.8224 - val_accuracy: 0.5556\n",
            "Epoch 3/20\n",
            "7/7 [==============================] - 0s 33ms/step - loss: 0.5645 - accuracy: 0.8429 - val_loss: 0.6503 - val_accuracy: 0.6465\n",
            "Epoch 4/20\n",
            "7/7 [==============================] - 0s 35ms/step - loss: 0.4134 - accuracy: 0.9027 - val_loss: 0.5297 - val_accuracy: 0.7879\n",
            "Epoch 5/20\n",
            "7/7 [==============================] - 0s 33ms/step - loss: 0.3084 - accuracy: 0.9202 - val_loss: 0.4445 - val_accuracy: 0.8081\n",
            "Epoch 6/20\n",
            "7/7 [==============================] - 0s 33ms/step - loss: 0.2350 - accuracy: 0.9377 - val_loss: 0.3828 - val_accuracy: 0.8081\n",
            "Epoch 7/20\n",
            "7/7 [==============================] - 0s 34ms/step - loss: 0.1807 - accuracy: 0.9551 - val_loss: 0.3369 - val_accuracy: 0.8485\n",
            "Epoch 8/20\n",
            "7/7 [==============================] - 0s 35ms/step - loss: 0.1455 - accuracy: 0.9651 - val_loss: 0.4887 - val_accuracy: 0.7879\n",
            "Epoch 9/20\n",
            "7/7 [==============================] - 0s 34ms/step - loss: 0.1123 - accuracy: 0.9825 - val_loss: 0.2245 - val_accuracy: 0.9293\n",
            "Epoch 10/20\n",
            "7/7 [==============================] - 0s 33ms/step - loss: 0.0901 - accuracy: 0.9776 - val_loss: 0.1997 - val_accuracy: 0.9495\n",
            "Epoch 11/20\n",
            "7/7 [==============================] - 0s 33ms/step - loss: 0.0627 - accuracy: 0.9850 - val_loss: 0.1790 - val_accuracy: 0.9495\n",
            "Epoch 12/20\n",
            "7/7 [==============================] - 0s 35ms/step - loss: 0.0500 - accuracy: 0.9875 - val_loss: 0.1628 - val_accuracy: 0.9495\n",
            "Epoch 13/20\n",
            "7/7 [==============================] - 0s 33ms/step - loss: 0.0387 - accuracy: 0.9900 - val_loss: 0.1536 - val_accuracy: 0.9596\n",
            "Epoch 14/20\n",
            "7/7 [==============================] - 0s 34ms/step - loss: 0.0293 - accuracy: 0.9950 - val_loss: 0.1262 - val_accuracy: 0.9596\n",
            "Epoch 15/20\n",
            "7/7 [==============================] - 0s 34ms/step - loss: 0.0287 - accuracy: 0.9950 - val_loss: 0.1537 - val_accuracy: 0.9596\n",
            "Epoch 16/20\n",
            "7/7 [==============================] - 0s 33ms/step - loss: 0.0138 - accuracy: 1.0000 - val_loss: 0.1503 - val_accuracy: 0.9697\n",
            "Epoch 17/20\n",
            "7/7 [==============================] - 0s 34ms/step - loss: 0.0100 - accuracy: 1.0000 - val_loss: 0.1506 - val_accuracy: 0.9495\n",
            "Epoch 18/20\n",
            "7/7 [==============================] - 0s 32ms/step - loss: 0.0074 - accuracy: 1.0000 - val_loss: 0.0888 - val_accuracy: 0.9697\n",
            "Epoch 19/20\n",
            "7/7 [==============================] - 0s 33ms/step - loss: 0.0050 - accuracy: 1.0000 - val_loss: 0.0841 - val_accuracy: 0.9697\n",
            "Epoch 20/20\n",
            "7/7 [==============================] - 0s 32ms/step - loss: 0.0036 - accuracy: 1.0000 - val_loss: 0.0842 - val_accuracy: 0.9697\n"
          ]
        },
        {
          "data": {
            "text/plain": [
              "<keras.callbacks.History at 0x15b95a50910>"
            ]
          },
          "execution_count": 32,
          "metadata": {},
          "output_type": "execute_result"
        }
      ],
      "source": [
        "bi_rnn = RNN(run_mode = 'init-fine-tune', cell_type= 'gru', network_type = 'uni-directional', embed_model= 'glove-wiki-gigaword-100', \n",
        "                 embed_size= 128, state_sizes = [64, 64], data_manager = dm)#Insert your code here\n",
        "bi_rnn.build()\n",
        "opt = tf.keras.optimizers.RMSprop(learning_rate=0.001)\n",
        "bi_rnn.compile_model(optimizer=opt, loss='sparse_categorical_crossentropy', metrics=['accuracy'])\n",
        "bi_rnn.fit(dm.tf_train_set.batch(64), epochs=20, validation_data = dm.tf_valid_set.batch(64))"
      ]
    },
    {
      "cell_type": "markdown",
      "metadata": {
        "id": "sB0C0mNi9jkK"
      },
      "source": [
        "#### <span style=\"color:red\">**Question 4.3.3**</span> \n",
        "\n",
        "**Run the above general RNN with at least five parameter sets and try to obtain the best performance. You can stick with the running mode *init-fine-tune* and use grid search to tune other parameters. Record your best model which will be used in the next part.**\n",
        "\n",
        "<div style=\"text-align: right\"><span style=\"color:red\">[5 points]</span></div>"
      ]
    },
    {
      "cell_type": "code",
      "execution_count": 63,
      "metadata": {},
      "outputs": [
        {
          "name": "stdout",
          "output_type": "stream",
          "text": [
            "Epoch 1/20\n",
            "13/13 [==============================] - 5s 120ms/step - loss: 1.0311 - accuracy: 0.6010 - val_loss: 0.4434 - val_accuracy: 0.8889\n",
            "Epoch 2/20\n",
            "13/13 [==============================] - 0s 31ms/step - loss: 0.3900 - accuracy: 0.8828 - val_loss: 0.4967 - val_accuracy: 0.7879\n",
            "Epoch 3/20\n",
            "13/13 [==============================] - 0s 31ms/step - loss: 0.1881 - accuracy: 0.9377 - val_loss: 0.0834 - val_accuracy: 0.9798\n",
            "Epoch 4/20\n",
            "13/13 [==============================] - 0s 33ms/step - loss: 0.0945 - accuracy: 0.9676 - val_loss: 0.0564 - val_accuracy: 0.9899\n",
            "Epoch 5/20\n",
            "13/13 [==============================] - 0s 32ms/step - loss: 0.0268 - accuracy: 0.9975 - val_loss: 0.0185 - val_accuracy: 1.0000\n",
            "Epoch 6/20\n",
            "13/13 [==============================] - 0s 31ms/step - loss: 0.0068 - accuracy: 1.0000 - val_loss: 0.0068 - val_accuracy: 1.0000\n",
            "Epoch 7/20\n",
            "13/13 [==============================] - 0s 32ms/step - loss: 0.0021 - accuracy: 1.0000 - val_loss: 0.0044 - val_accuracy: 1.0000\n",
            "Epoch 8/20\n",
            "13/13 [==============================] - 0s 31ms/step - loss: 0.0014 - accuracy: 1.0000 - val_loss: 0.0030 - val_accuracy: 1.0000\n",
            "Epoch 9/20\n",
            "13/13 [==============================] - 0s 31ms/step - loss: 0.0011 - accuracy: 1.0000 - val_loss: 0.0023 - val_accuracy: 1.0000\n",
            "Epoch 10/20\n",
            "13/13 [==============================] - 0s 33ms/step - loss: 8.6667e-04 - accuracy: 1.0000 - val_loss: 0.0020 - val_accuracy: 1.0000\n",
            "Epoch 11/20\n",
            "13/13 [==============================] - 0s 34ms/step - loss: 7.4080e-04 - accuracy: 1.0000 - val_loss: 0.0018 - val_accuracy: 1.0000\n",
            "Epoch 12/20\n",
            "13/13 [==============================] - 0s 31ms/step - loss: 6.4721e-04 - accuracy: 1.0000 - val_loss: 0.0016 - val_accuracy: 1.0000\n",
            "Epoch 13/20\n",
            "13/13 [==============================] - 0s 31ms/step - loss: 5.7387e-04 - accuracy: 1.0000 - val_loss: 0.0015 - val_accuracy: 1.0000\n",
            "Epoch 14/20\n",
            "13/13 [==============================] - 0s 31ms/step - loss: 5.1437e-04 - accuracy: 1.0000 - val_loss: 0.0014 - val_accuracy: 1.0000\n",
            "Epoch 15/20\n",
            "13/13 [==============================] - 0s 31ms/step - loss: 4.6498e-04 - accuracy: 1.0000 - val_loss: 0.0013 - val_accuracy: 1.0000\n",
            "Epoch 16/20\n",
            "13/13 [==============================] - 0s 31ms/step - loss: 4.2329e-04 - accuracy: 1.0000 - val_loss: 0.0013 - val_accuracy: 1.0000\n",
            "Epoch 17/20\n",
            "13/13 [==============================] - 0s 31ms/step - loss: 3.8765e-04 - accuracy: 1.0000 - val_loss: 0.0012 - val_accuracy: 1.0000\n",
            "Epoch 18/20\n",
            "13/13 [==============================] - 0s 31ms/step - loss: 3.5685e-04 - accuracy: 1.0000 - val_loss: 0.0012 - val_accuracy: 1.0000\n",
            "Epoch 19/20\n",
            "13/13 [==============================] - 0s 31ms/step - loss: 3.3001e-04 - accuracy: 1.0000 - val_loss: 0.0011 - val_accuracy: 1.0000\n",
            "Epoch 20/20\n",
            "13/13 [==============================] - 0s 31ms/step - loss: 3.0641e-04 - accuracy: 1.0000 - val_loss: 0.0011 - val_accuracy: 1.0000\n"
          ]
        },
        {
          "data": {
            "text/plain": [
              "<keras.callbacks.History at 0x15cc629a7f0>"
            ]
          },
          "execution_count": 63,
          "metadata": {},
          "output_type": "execute_result"
        }
      ],
      "source": [
        "bi_rnn = RNN(run_mode = 'init-fine-tune', cell_type= 'lstm', network_type = 'bi-directional', embed_model= 'glove-wiki-gigaword-100', \n",
        "                 embed_size= 128, state_sizes = [64,64], data_manager = dm)#Insert your code here\n",
        "bi_rnn.build()\n",
        "opt = tf.keras.optimizers.Adam(learning_rate=8e-3)\n",
        "# opt = tf.keras.optimizers.RMSprop(learning_rate=0.001)\n",
        "bi_rnn.compile_model(optimizer=opt, loss='sparse_categorical_crossentropy', metrics=['accuracy'])\n",
        "bi_rnn.fit(dm.tf_train_set.batch(32), epochs=20, validation_data = dm.tf_valid_set.batch(32))"
      ]
    },
    {
      "cell_type": "markdown",
      "metadata": {
        "id": "mea2fTzH9jkL"
      },
      "source": [
        "#Report your results here\n",
        "\n",
        "best model: RNN(run_mode = 'init-fine-tune', cell_type= 'lstm', network_type = 'bi-directional', embed_model= 'glove-wiki-gigaword-100', \n",
        "                 embed_size= 128, state_sizes = [64,64], data_manager = dm)\n",
        "\n",
        "accuracy = 1.0000"
      ]
    },
    {
      "cell_type": "code",
      "execution_count": 71,
      "metadata": {
        "id": "LoP7FtuB9jkL"
      },
      "outputs": [
        {
          "name": "stdout",
          "output_type": "stream",
          "text": [
            "Epoch 1/20\n",
            "13/13 [==============================] - 5s 116ms/step - loss: 1.0188 - accuracy: 0.6060 - val_loss: 0.5651 - val_accuracy: 0.8687\n",
            "Epoch 2/20\n",
            "13/13 [==============================] - 0s 31ms/step - loss: 0.3327 - accuracy: 0.8928 - val_loss: 0.3341 - val_accuracy: 0.8788\n",
            "Epoch 3/20\n",
            "13/13 [==============================] - 0s 31ms/step - loss: 0.1344 - accuracy: 0.9576 - val_loss: 0.1847 - val_accuracy: 0.9293\n",
            "Epoch 4/20\n",
            "13/13 [==============================] - 0s 30ms/step - loss: 0.1239 - accuracy: 0.9551 - val_loss: 0.1746 - val_accuracy: 0.9293\n",
            "Epoch 5/20\n",
            "13/13 [==============================] - 0s 31ms/step - loss: 0.1267 - accuracy: 0.9626 - val_loss: 0.0963 - val_accuracy: 0.9798\n",
            "Epoch 6/20\n",
            "13/13 [==============================] - 0s 31ms/step - loss: 0.0548 - accuracy: 0.9800 - val_loss: 0.0682 - val_accuracy: 0.9798\n",
            "Epoch 7/20\n",
            "13/13 [==============================] - 0s 31ms/step - loss: 0.0201 - accuracy: 0.9950 - val_loss: 0.0930 - val_accuracy: 0.9697\n",
            "Epoch 8/20\n",
            "13/13 [==============================] - 0s 29ms/step - loss: 0.0113 - accuracy: 0.9975 - val_loss: 0.0944 - val_accuracy: 0.9798\n",
            "Epoch 9/20\n",
            "13/13 [==============================] - 0s 29ms/step - loss: 0.0034 - accuracy: 1.0000 - val_loss: 0.0918 - val_accuracy: 0.9798\n",
            "Epoch 10/20\n",
            "13/13 [==============================] - 0s 30ms/step - loss: 0.0019 - accuracy: 1.0000 - val_loss: 0.0942 - val_accuracy: 0.9798\n",
            "Epoch 11/20\n",
            "13/13 [==============================] - 0s 32ms/step - loss: 0.0012 - accuracy: 1.0000 - val_loss: 0.1011 - val_accuracy: 0.9798\n",
            "Epoch 12/20\n",
            "13/13 [==============================] - 0s 30ms/step - loss: 9.6531e-04 - accuracy: 1.0000 - val_loss: 0.1070 - val_accuracy: 0.9798\n",
            "Epoch 13/20\n",
            "13/13 [==============================] - 0s 31ms/step - loss: 8.1824e-04 - accuracy: 1.0000 - val_loss: 0.1111 - val_accuracy: 0.9798\n",
            "Epoch 14/20\n",
            "13/13 [==============================] - 0s 32ms/step - loss: 7.1696e-04 - accuracy: 1.0000 - val_loss: 0.1141 - val_accuracy: 0.9798\n",
            "Epoch 15/20\n",
            "13/13 [==============================] - 0s 30ms/step - loss: 6.3935e-04 - accuracy: 1.0000 - val_loss: 0.1166 - val_accuracy: 0.9798\n",
            "Epoch 16/20\n",
            "13/13 [==============================] - 0s 32ms/step - loss: 5.7654e-04 - accuracy: 1.0000 - val_loss: 0.1188 - val_accuracy: 0.9798\n",
            "Epoch 17/20\n",
            "13/13 [==============================] - 0s 31ms/step - loss: 5.2406e-04 - accuracy: 1.0000 - val_loss: 0.1207 - val_accuracy: 0.9798\n",
            "Epoch 18/20\n",
            "13/13 [==============================] - 0s 31ms/step - loss: 4.7940e-04 - accuracy: 1.0000 - val_loss: 0.1225 - val_accuracy: 0.9798\n",
            "Epoch 19/20\n",
            "13/13 [==============================] - 0s 32ms/step - loss: 4.4095e-04 - accuracy: 1.0000 - val_loss: 0.1240 - val_accuracy: 0.9798\n",
            "Epoch 20/20\n",
            "13/13 [==============================] - 0s 31ms/step - loss: 4.0759e-04 - accuracy: 1.0000 - val_loss: 0.1255 - val_accuracy: 0.9798\n"
          ]
        },
        {
          "data": {
            "text/plain": [
              "<keras.callbacks.History at 0x15d147cba90>"
            ]
          },
          "execution_count": 71,
          "metadata": {},
          "output_type": "execute_result"
        }
      ],
      "source": [
        "#The run of your best model here\n",
        "my_best_rnn = RNN(run_mode = 'init-fine-tune', cell_type= 'lstm', network_type = 'bi-directional', embed_model= 'glove-wiki-gigaword-100', \n",
        "                 embed_size= 128, state_sizes = [64,64], data_manager = dm)#Insert your code here\n",
        "my_best_rnn.build()\n",
        "opt = tf.keras.optimizers.Adam(learning_rate=8e-3)\n",
        "# opt = tf.keras.optimizers.RMSprop(learning_rate=0.001)\n",
        "my_best_rnn.compile_model(optimizer=opt, loss='sparse_categorical_crossentropy', metrics=['accuracy'])\n",
        "my_best_rnn.fit(dm.tf_train_set.batch(32), epochs=20, validation_data = dm.tf_valid_set.batch(32))"
      ]
    },
    {
      "cell_type": "markdown",
      "metadata": {
        "id": "G_Aq9zSa9jkL"
      },
      "source": [
        "### <span style=\"color:#0b486b\">4.4. Investigating the embedding vectors from the embedding matrix</span> ###\n",
        "\n",
        "<div style=\"text-align: right\"><span style=\"color:red; font-weight:bold\">[Total marks for this part: 5 points]<span></div>"
      ]
    },
    {
      "cell_type": "markdown",
      "metadata": {
        "id": "ZT0Xea6C9jkL"
      },
      "source": [
        "**As you know, the embedding matrix is a collection of embedding vectors, each is for one word. In this part, you will base on the cosine similarity of the embedding vectors for the words to find the top-k most relevant words for a given word.**\n",
        "\n",
        "**Good embeddings should have words close in meaning near each other by some similarity metrics. The similarity metric we'll use is the `consine` distance, which is defined for two vector $\\mathbf{u}$ and $\\mathbf{v}$ as $\\cos(\\mathbf{u}, \\mathbf{v})=\\frac{\\mathbf{u} \\cdot \\mathbf{v}}{\\left\\Vert{\\mathbf{u}}\\right\\Vert\\left\\Vert{\\mathbf{v}}\\right\\Vert}$ where $\\cdot$ means dot product and $\\left\\Vert\\cdot\\right\\Vert$ means the $\\mathcal{L}_2$ norm.**"
      ]
    },
    {
      "cell_type": "code",
      "execution_count": 72,
      "metadata": {
        "id": "wsZEF3fb9jkL"
      },
      "outputs": [],
      "source": [
        "def cosine_similarity(u,v):\n",
        "    return np.dot(u,v)/(np.linalg.norm(u)*np.linalg.norm(u))"
      ]
    },
    {
      "cell_type": "markdown",
      "metadata": {
        "id": "5pPE6A4P9jkL"
      },
      "source": [
        "#### <span style=\"color:red\">**Question 4.4.1**</span> \n",
        "\n",
        "**You are required to write the code for the function *find_most_similar(word= None, k=5, model= None)*. As its name, this function returns the top-k most relevant word for a given word based on the cosine similarity of the embedding vectors.**\n",
        "\n",
        "<div style=\"text-align: right\"><span style=\"color:red\">[5 points]</span></div>"
      ]
    },
    {
      "cell_type": "code",
      "execution_count": 75,
      "metadata": {
        "id": "0hmZWYvG9jkL"
      },
      "outputs": [],
      "source": [
        "from dis import dis\n",
        "from turtle import distance\n",
        "\n",
        "\n",
        "def find_most_similar(word= None, k=5, model= None):\n",
        "    try:\n",
        "        result = []\n",
        "        distance = [0 for i in range(1, bi_rnn.vocab_size)]\n",
        "        idx = model.data_manager.word2idx[word]\n",
        "        for i in range(1, model.vocab_size):\n",
        "            distance[i-1] = cosine_similarity(bi_rnn.embed_matrix[idx], bi_rnn.embed_matrix[i])\n",
        "        distance2 = distance.copy()\n",
        "        distance.sort(reverse=True)\n",
        "        for i in range(k+1):\n",
        "            idx2 = distance2.index(distance[i])\n",
        "            if idx2 != idx:\n",
        "                result.append(model.data_manager.idx2word[idx2])\n",
        "        print(result)\n",
        "\n",
        "        #Insert your code here\n",
        "    except: #word not in the vocabulary\n",
        "        print(\"Word is not in the dictionary!\")"
      ]
    },
    {
      "cell_type": "markdown",
      "metadata": {
        "id": "zRSv1BrC9jkM"
      },
      "source": [
        "Here is the example of the above function. As you can observe, the result makes sense which demonstrates that we obtain a good model with the meaningful embedding matrix."
      ]
    },
    {
      "cell_type": "code",
      "execution_count": 76,
      "metadata": {
        "id": "C-QgOwpB9jkM",
        "outputId": "6b01b5e0-cb6c-44e1-fa94-4fa4812c56bd"
      },
      "outputs": [
        {
          "name": "stdout",
          "output_type": "stream",
          "text": [
            "['sonar', '1957', 'be', 'archives', 'term', 'spoken', 'engines', 'pink', 'baby', 'leader', 'smallest']\n"
          ]
        }
      ],
      "source": [
        "find_most_similar(word='poland', k=10, model= my_best_rnn)"
      ]
    },
    {
      "cell_type": "markdown",
      "metadata": {
        "id": "G0OIsknc9jkM"
      },
      "source": [
        "--- \n",
        "<div style=\"text-align: center\"> <span style=\"color:black\">END OF ASSIGNMENT</span> </div>"
      ]
    }
  ],
  "metadata": {
    "colab": {
      "name": "FIT5215_Assignment2.ipynb",
      "provenance": []
    },
    "kernelspec": {
      "display_name": "Python 3 (ipykernel)",
      "language": "python",
      "name": "python3"
    },
    "language_info": {
      "codemirror_mode": {
        "name": "ipython",
        "version": 3
      },
      "file_extension": ".py",
      "mimetype": "text/x-python",
      "name": "python",
      "nbconvert_exporter": "python",
      "pygments_lexer": "ipython3",
      "version": "3.8.13"
    }
  },
  "nbformat": 4,
  "nbformat_minor": 0
}
