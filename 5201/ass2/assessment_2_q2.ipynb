{
 "cells": [
  {
   "cell_type": "markdown",
   "metadata": {},
   "source": [
    "# Part B"
   ]
  },
  {
   "cell_type": "markdown",
   "metadata": {},
   "source": [
    "## EM"
   ]
  },
  {
   "cell_type": "code",
   "execution_count": 1,
   "metadata": {
    "vscode": {
     "languageId": "r"
    }
   },
   "outputs": [
    {
     "name": "stderr",
     "output_type": "stream",
     "text": [
      "Loading required package: MASS\n",
      "Loading required package: NLP\n",
      "\n",
      "Attaching package: 'NLP'\n",
      "\n",
      "The following object is masked from 'package:ggplot2':\n",
      "\n",
      "    annotate\n",
      "\n"
     ]
    }
   ],
   "source": [
    "options(warn=-1)\n",
    "library(mvtnorm) # generates multivariate Gaussian sampels and calculate the densities\n",
    "library(ggplot2) # plotting\n",
    "library(reshape2) # data wrangling!\n",
    "library(clusterGeneration) # generates the covariance matrices that we need for producing synthetic data.\n",
    "library(tm)"
   ]
  },
  {
   "cell_type": "markdown",
   "metadata": {},
   "source": [
    "II. EM define"
   ]
  },
  {
   "cell_type": "code",
   "execution_count": 2,
   "metadata": {
    "vscode": {
     "languageId": "r"
    }
   },
   "outputs": [],
   "source": [
    "hard_em <- function(N, K, D, data)\n",
    "{\n",
    "    # Setting the parameters:\n",
    "    eta.max <- 100      # maximum number of iteratins\n",
    "    epsilon <- 0.01  # termination threshold \n",
    "\n",
    "    # Initialzations:\n",
    "    eta <- 1            # epoch counter\n",
    "    terminate <- FALSE  # termination condition\n",
    "\n",
    "    ## Ramdom cluster initialization:\n",
    "    # set.seed(2) # save the random seed to make the results reproducble\n",
    "    Phi.hat <- 1/K                          # assume all clusters have the same size (we will update this later on)\n",
    "    Nk.hat <- matrix(N/K,nrow = K)          # refer to the above line!\n",
    "    Mu.hat <- matrix(,nrow = K, ncol = D)\n",
    "    \n",
    "    for(k in 1:K)\n",
    "    {\n",
    "        Mu.hat[k,] = colSums(data[((k-1)*N/K+1):(k*N/K), ])\n",
    "        Mu.hat[k,] = Mu.hat[k,] / sum(Mu.hat[k,] )\n",
    "        \n",
    "    }\n",
    "    post <- matrix(,nrow=N, ncol=K)\n",
    "    ### for each cluster k:\n",
    "\n",
    "    # Build the GMM model\n",
    "    Mu.hat.old <- Mu.hat # store the old estimated means\n",
    "    # Main Loop\n",
    "    while (!terminate)\n",
    "    {   \n",
    "\n",
    "        # E step:   \n",
    "        for (k in 1:K){\n",
    "            ## calculate the posterior based on the estimated means,covariance and cluster size:\n",
    "            # post[,k] <- dmvnorm(data, Mu.hat[k,],  matrix(Sigma.hat[k,], ncol=D)) * Nk.hat[k]\n",
    "            \n",
    "            for(n in 1:N)\n",
    "            {\n",
    "                post[n,k] <- Nk.hat[k] / N\n",
    "                \n",
    "                for(d in 1:D)\n",
    "                {\n",
    "                    if(data[n,d] != 0)\n",
    "                    {\n",
    "                        post[n,k] = post[n,k] * Mu.hat[k,d]^data[n,d]\n",
    "                    }\n",
    "                } \n",
    "            }\n",
    "        }\n",
    "        # hard assignments:\n",
    "        max.prob <- apply(post, 1, which.max) # for each point find the cluster with the maximum (estimated) probability\n",
    "        post[] <- 0 # remove points from clusters with lower probabilites\n",
    "        for(j in 1:length(max.prob))\n",
    "        {\n",
    "            post[j,max.prob[j]] <- 1 \n",
    "        }\n",
    "        \n",
    "        # assign each point to the cluster with the highest probability\n",
    "        # M step:\n",
    "        for (k in 1:K)\n",
    "        {\n",
    "            ## recalculate the estimations:\n",
    "            Nk.hat[k] <- sum(post[,k])        # the effective number of point in cluster k\n",
    "            Phi.hat[k] <- sum(post[,k])/N     # the relative cluster size\n",
    "            Mu.hat[k,] <- colSums(data[which(post[,k] == 1),])\n",
    "            Mu.hat[k,] = Mu.hat[k,] / sum(Mu.hat[k,] )\n",
    "        }\n",
    "\n",
    "        \n",
    "        eta <- eta+1\n",
    "\n",
    "        # print(Mu.hat.old)\n",
    "        # check the termination criteria\n",
    "        terminate <- eta > eta.max | sum(abs(Mu.hat.old - Mu.hat)) <= epsilon\n",
    "        \n",
    "        # record the means (neccessary for checking the termination criteria)\n",
    "        Mu.hat.old <- Mu.hat\n",
    "        # print(terminate)\n",
    "    }\n",
    "    for (k in 1:K){\n",
    "        ## calculate the posterior based on the estimated means,covariance and cluster size:\n",
    "        # post[,k] <- dmvnorm(data, Mu.hat[k,],  matrix(Sigma.hat[k,], ncol=D)) * Nk.hat[k]\n",
    "        \n",
    "        for(n in 1:N)\n",
    "        {\n",
    "            post[n,k] <- Nk.hat[k] / N\n",
    "            \n",
    "            for(d in 1:D)\n",
    "            {\n",
    "                if(data[n,d] != 0)\n",
    "                {\n",
    "                    post[n,k] = post[n,k] * Mu.hat[k,d]^data[n,d]\n",
    "                }\n",
    "            } \n",
    "        }\n",
    "    }\n",
    "    # hard assignments:\n",
    "    max.prob <- apply(post, 1, which.max) # for each point find the cluster with the maximum (estimated) probability\n",
    "\n",
    "    print(Nk.hat)\n",
    "    # That's it! Let see how many iterations we had:\n",
    "    cat('maximum number of itterations:',eta,'\\n')\n",
    "    # return (Nk.hat, Mu.hat, Sigma.hat)\n",
    "    return (max.prob )\n",
    "}"
   ]
  },
  {
   "cell_type": "code",
   "execution_count": 4,
   "metadata": {
    "vscode": {
     "languageId": "r"
    }
   },
   "outputs": [],
   "source": [
    "soft_em <- function(N, K, D, data)\n",
    "{\n",
    "\n",
    "    # Setting the parameters:\n",
    "    eta.max <- 100      # maximum number of iteratins\n",
    "    epsilon <- 0.01  # termination threshold \n",
    "\n",
    "    # Initialzations:\n",
    "    eta <- 1            # epoch counter\n",
    "    terminate <- FALSE  # termination condition\n",
    "\n",
    "    ## Ramdom cluster initialization:\n",
    "    # set.seed(2) # save the random seed to make the results reproducble\n",
    "    Phi.hat <- 1/K                          # assume all clusters have the same size (we will update this later on)\n",
    "    Nk.hat <- matrix(N/K,nrow = K)          # refer to the above line!\n",
    "    Mu.hat <- matrix(,nrow = K, ncol = D)\n",
    "    \n",
    "    for(k in 1:K)\n",
    "    {\n",
    "        Mu.hat[k,] = colSums(data[((k-1)*N/K+1):(k*N/K), ])\n",
    "        Mu.hat[k,] = Mu.hat[k,] / sum(Mu.hat[k,] )\n",
    "        \n",
    "    }\n",
    "\n",
    "    post <- matrix(,nrow=N, ncol=K)\n",
    "    ### for each cluster k:\n",
    "\n",
    "    # Build the GMM model\n",
    "    Mu.hat.old <- Mu.hat # store the old estimated means\n",
    "    # Main Loop\n",
    "    while (!terminate)\n",
    "    {\n",
    "        # E step:   \n",
    "        for (k in 1:K){\n",
    "            ## calculate the posterior based on the estimated means,covariance and cluster size:\n",
    "            # post[,k] <- dmvnorm(data, Mu.hat[k,],  matrix(Sigma.hat[k,], ncol=D)) * Nk.hat[k]\n",
    "            \n",
    "            for(n in 1:N)\n",
    "            {\n",
    "                post[n,k] <- Nk.hat[k] / N\n",
    "                for(d in 1:D)\n",
    "                {\n",
    "                    if(data[n,d] != 0)\n",
    "                    {\n",
    "                        post[n,k] = post[n,k] * Mu.hat[k,d]^data[n,d]\n",
    "                    }\n",
    "                } \n",
    "            }\n",
    "        }\n",
    "        for(n in 1:N)\n",
    "        {\n",
    "            a = TRUE\n",
    "            for(k in 1:K)\n",
    "            {\n",
    "                if(post[n,k] != 0)\n",
    "                {\n",
    "                    a = FALSE\n",
    "                }\n",
    "            }\n",
    "            if(a)\n",
    "            {\n",
    "                for(k in 1:K)\n",
    "                {\n",
    "                    post[n,k] = 1\n",
    "                }\n",
    "\n",
    "            }\n",
    "        }\n",
    "\n",
    "        post <- post/rowSums(post) # normalization (to make sure post(k) is in [0,1] and sum(post)=1)\n",
    "        \n",
    "        #M step:\n",
    "        for (k in 1:K)\n",
    "        {\n",
    "            ## recalculate the estimations:\n",
    "            Nk.hat[k] <- sum(post[,k])        # the effective number of point in cluster k\n",
    "            Phi.hat[k] <- sum(post[,k])/N     # the relative cluster size\n",
    "            Mu.hat[k,] <- colSums(post[,k] *data)\n",
    "            Mu.hat[k,] = Mu.hat[k,] / sum(Mu.hat[k,] )\n",
    "        }\n",
    "        eta <- eta+1\n",
    "        \n",
    "        # check the termination criteria\n",
    "        terminate <- eta > eta.max | sum(abs(Mu.hat.old - Mu.hat)) <= epsilon\n",
    "        \n",
    "        # record the means (neccessary for checking the termination criteria)\n",
    "        Mu.hat.old <- Mu.hat\n",
    "\n",
    "    }\n",
    "\n",
    "    for (k in 1:K){\n",
    "        ## calculate the posterior based on the estimated means,covariance and cluster size:\n",
    "        # post[,k] <- dmvnorm(data, Mu.hat[k,],  matrix(Sigma.hat[k,], ncol=D)) * Nk.hat[k]\n",
    "        \n",
    "        for(n in 1:N)\n",
    "        {\n",
    "            post[n,k] <- Nk.hat[k] / N\n",
    "            \n",
    "            for(d in 1:D)\n",
    "            {\n",
    "                if(data[n,d] != 0)\n",
    "                {\n",
    "                    post[n,k] = post[n,k] * Mu.hat[k,d]^data[n,d]\n",
    "                }\n",
    "            } \n",
    "        }\n",
    "    }\n",
    "    # hard assignments:\n",
    "    max.prob <- apply(post, 1, which.max) # for each point find the cluster with the maximum (estimated) probability\n",
    "    print(Nk.hat)\n",
    "    # That's it! Let see how many iterations we had:\n",
    "    cat('maximum number of itterations:',eta,'\\n')\n",
    "    return (max.prob)\n",
    "}"
   ]
  },
  {
   "cell_type": "markdown",
   "metadata": {},
   "source": [
    "III. load data and run code"
   ]
  },
  {
   "cell_type": "code",
   "execution_count": 5,
   "metadata": {
    "vscode": {
     "languageId": "r"
    }
   },
   "outputs": [],
   "source": [
    "## read the file (each line of the text file is one document)\n",
    "text <- readLines('./TASK2B.txt')\n",
    "\n",
    "## randomly selet some samples\n",
    "index <- sample(length(text), 400)\n",
    "text <- text[index]\n",
    "\n",
    "## the terms before '\\t' are the lables (the newsgroup names) and all the remaining text after '\\t' are the actual documents\n",
    "docs <- strsplit(text, '\\t')\n",
    "rm(text) # just free some memory!"
   ]
  },
  {
   "cell_type": "code",
   "execution_count": 6,
   "metadata": {
    "vscode": {
     "languageId": "r"
    }
   },
   "outputs": [],
   "source": [
    "# store the labels for evaluation\n",
    "labels <-  unlist(lapply(docs, function(x) x[1]))\n",
    "\n",
    "# store the unlabeled texts    \n",
    "docs <- data.frame(doc_id = seq(1, length(labels)), text = unlist(lapply(docs, function(x) x[2])))"
   ]
  },
  {
   "cell_type": "code",
   "execution_count": 7,
   "metadata": {
    "vscode": {
     "languageId": "r"
    }
   },
   "outputs": [],
   "source": [
    "docs <- DataframeSource(docs)\n",
    "docs <- Corpus(docs)\n",
    "# Preprocessing:\n",
    "docs <- tm_map(docs, removeWords, stopwords(\"english\")) # remove stop words (the most common word in a language that can be find in any document)\n",
    "docs <- tm_map(docs, removePunctuation) # remove pnctuation\n",
    "docs <- tm_map(docs, stemDocument) # perform stemming (reducing inflected and derived words to their root form)\n",
    "docs <- tm_map(docs, removeNumbers) # remove all numbers\n",
    "docs <- tm_map(docs, stripWhitespace) # remove redundant spaces \n",
    "\n",
    "# Create a matrix which its rows are the documents and colomns are the words. \n",
    "## Each number in Document Term Matrix shows the frequency of a word (colomn header) in a particular document (row title)\n",
    "dtm <- DocumentTermMatrix(docs)\n",
    "\n",
    "## reduce the sparcity of out dtm\n",
    "dtm <- removeSparseTerms(dtm, 0.90)"
   ]
  },
  {
   "cell_type": "code",
   "execution_count": 8,
   "metadata": {
    "vscode": {
     "languageId": "r"
    }
   },
   "outputs": [],
   "source": [
    "m <- as.matrix(dtm)\n",
    "rownames(m) <- 1:nrow(m)"
   ]
  },
  {
   "cell_type": "code",
   "execution_count": 9,
   "metadata": {
    "vscode": {
     "languageId": "r"
    }
   },
   "outputs": [
    {
     "name": "stdout",
     "output_type": "stream",
     "text": [
      "     [,1]\n",
      "[1,]   61\n",
      "[2,]  143\n",
      "[3,]  147\n",
      "[4,]   49\n",
      "maximum number of itterations: 13 \n",
      "          [,1]\n",
      "[1,]  74.97359\n",
      "[2,]  52.73963\n",
      "[3,] 256.98845\n",
      "[4,]  15.29833\n",
      "maximum number of itterations: 18 \n"
     ]
    }
   ],
   "source": [
    "col1 = hard_em(dim(m)[1], 4, dim(m)[2], m)\n",
    "col2 = soft_em(dim(m)[1], 4, dim(m)[2], m)"
   ]
  },
  {
   "cell_type": "markdown",
   "metadata": {},
   "source": [
    "IV. PCA and plot picture"
   ]
  },
  {
   "cell_type": "code",
   "execution_count": 11,
   "metadata": {
    "vscode": {
     "languageId": "r"
    }
   },
   "outputs": [
    {
     "data": {
      "text/html": [
       "228"
      ],
      "text/latex": [
       "228"
      ],
      "text/markdown": [
       "228"
      ],
      "text/plain": [
       "[1] 228"
      ]
     },
     "metadata": {},
     "output_type": "display_data"
    }
   ],
   "source": [
    "p.comp <- prcomp(m)   \n",
    "length(which((col1 == col2) == TRUE))"
   ]
  },
  {
   "cell_type": "code",
   "execution_count": 12,
   "metadata": {
    "vscode": {
     "languageId": "r"
    }
   },
   "outputs": [
    {
     "data": {
      "image/png": "[encoded data removed]",
      "text/plain": [
       "Plot with title \"hard EM Result\""
      ]
     },
     "metadata": {},
     "output_type": "display_data"
    }
   ],
   "source": [
    "plot(p.comp$x, col=adjustcolor(col1, alpha=1), pch=16, main='hard EM Result', xlab = 'x1', ylab = 'x2', cex = 0.5)"
   ]
  },
  {
   "cell_type": "code",
   "execution_count": 13,
   "metadata": {
    "vscode": {
     "languageId": "r"
    }
   },
   "outputs": [
    {
     "data": {
      "image/png": "[encoded data removed]",
      "text/plain": [
       "Plot with title \"soft EM Result\""
      ]
     },
     "metadata": {},
     "output_type": "display_data"
    }
   ],
   "source": [
    "plot(p.comp$x, col=adjustcolor(col2, alpha=1), pch=16, main='soft EM Result', xlab = 'x1', ylab = 'x2', cex = 0.5)"
   ]
  }
 ],
 "metadata": {
  "kernelspec": {
   "display_name": "R",
   "language": "R",
   "name": "ir"
  },
  "language_info": {
   "codemirror_mode": "r",
   "file_extension": ".r",
   "mimetype": "text/x-r-source",
   "name": "R",
   "pygments_lexer": "r",
   "version": "3.6.1"
  },
  "orig_nbformat": 4
 },
 "nbformat": 4,
 "nbformat_minor": 2
}
