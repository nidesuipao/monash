{
 "cells": [
  {
   "cell_type": "markdown",
   "metadata": {},
   "source": [
    "# Part A Logistic Regression vs. Bayesian Classifier"
   ]
  },
  {
   "cell_type": "markdown",
   "metadata": {},
   "source": [
    "I. load data"
   ]
  },
  {
   "cell_type": "code",
   "execution_count": 1,
   "metadata": {
    "vscode": {
     "languageId": "r"
    }
   },
   "outputs": [],
   "source": [
    "read_data <- function(fname) \n",
    "{\n",
    "   data <- read.csv(file=fname,head=TRUE,sep=\",\")\n",
    "   return (data)\n",
    "}\n",
    "train_data = read_data('./Task1A_train.csv')\n",
    "test_data = read_data('./Task1A_test.csv')\n",
    "c0 <- 1\n",
    "c1 <- -1"
   ]
  },
  {
   "cell_type": "code",
   "execution_count": 2,
   "metadata": {
    "vscode": {
     "languageId": "r"
    }
   },
   "outputs": [],
   "source": [
    "train.len <- 5\n",
    "train.index <- 1:train.len\n",
    "train.data <- train_data[train.index, c('x1', 'x2')]\n",
    "train.label <- train_data[train.index, 'y']\n",
    "test.data <- test_data[c('x1', 'x2')]\n",
    "test.label <- test_data['y']"
   ]
  },
  {
   "cell_type": "markdown",
   "metadata": {},
   "source": [
    "II. BC and LR model define"
   ]
  },
  {
   "cell_type": "code",
   "execution_count": 4,
   "metadata": {
    "vscode": {
     "languageId": "r"
    }
   },
   "outputs": [
    {
     "name": "stderr",
     "output_type": "stream",
     "text": [
      "Warning message:\n",
      "\"package 'mvtnorm' was built under R version 3.6.3\""
     ]
    }
   ],
   "source": [
    "library(mvtnorm)\n",
    "library(reshape2)"
   ]
  },
  {
   "cell_type": "markdown",
   "metadata": {},
   "source": [
    "## Bayesian Classifier "
   ]
  },
  {
   "cell_type": "code",
   "execution_count": 5,
   "metadata": {
    "vscode": {
     "languageId": "r"
    }
   },
   "outputs": [],
   "source": [
    "bay_class <- function(train.len)\n",
    "{\n",
    "    train.index <- 1:train.len\n",
    "    train.data <- train_data[train.index, c('x1', 'x2')]\n",
    "    train.label <- train_data[train.index, 'y']\n",
    "    test.data <- test_data[,c('x1', 'x2')]\n",
    "    test.label <- test_data[,'y']\n",
    "\n",
    "    p0.hat <- sum(train.label==c0)/nrow(train.data)\n",
    "    p1.hat <- sum(train.label==c1)/nrow(train.data)\n",
    "\n",
    "    mu0.hat <- colMeans(train.data[train.label==c0,])\n",
    "    mu1.hat <- colMeans(train.data[train.label==c1,])\n",
    "\n",
    "    sigma0.hat <- var(train.data[train.label==c0,])\n",
    "    sigma1.hat <- var(train.data[train.label==c1,])\n",
    "\n",
    "    sigma.hat <- p0.hat * sigma0.hat + p1.hat * sigma1.hat \n",
    "\n",
    "\n",
    "    posterior0 <- p0.hat*dmvnorm(x=train.data, mean=mu0.hat, sigma=sigma0.hat)\n",
    "    posterior1 <- p1.hat*dmvnorm(x=train.data, mean=mu1.hat, sigma=sigma1.hat)\n",
    "    posterior_train <- posterior0 + posterior1\n",
    "    x <- posterior0 / posterior_train\n",
    "    train_loss = sum(ifelse(train.label==c0, 1-x, x)) / length(train.label)\n",
    "    train.predict <- ifelse(posterior0 > posterior1, c0, c1)\n",
    "\n",
    "    posterior0_test <- p0.hat*dmvnorm(x=test.data, mean=mu0.hat, sigma=sigma0.hat)\n",
    "    posterior1_test <- p1.hat*dmvnorm(x=test.data, mean=mu1.hat, sigma=sigma1.hat)\n",
    "    posterior_test <- posterior0_test + posterior1_test\n",
    "    x <- posterior0_test / posterior_test\n",
    "    test_loss = sum(ifelse(test.label==c0, 1-x, x)) / length(test.label)\n",
    "    test.predict <- ifelse(posterior0_test > posterior1_test, c0, c1)\n",
    "\n",
    "    return (c(train_loss, test_loss))\n",
    "    \n",
    "}\n",
    "x <- bay_class(10)"
   ]
  },
  {
   "cell_type": "code",
   "execution_count": 6,
   "metadata": {
    "vscode": {
     "languageId": "r"
    }
   },
   "outputs": [],
   "source": [
    "train_cost_bc <- c()\n",
    "test_cost_bc <- c()\n",
    "x <- seq(5, length(train_data$y),5)\n",
    "for(i in x)\n",
    "{\n",
    "    cost_ = bay_class(i)\n",
    "    train_cost_bc = c(train_cost_bc, cost_[1])\n",
    "    test_cost_bc = c(test_cost_bc, cost_[2])\n",
    "}"
   ]
  },
  {
   "cell_type": "markdown",
   "metadata": {},
   "source": [
    "## Linear Regression"
   ]
  },
  {
   "cell_type": "code",
   "execution_count": 7,
   "metadata": {
    "vscode": {
     "languageId": "r"
    }
   },
   "outputs": [],
   "source": [
    "# auxiliary function that predicts class labels\n",
    "predict <- function(w, X, c0, c1){\n",
    "    sig <- sigmoid(w, X)\n",
    "    return(ifelse(sig>0.5, c1,c0))\n",
    "}\n",
    "    \n",
    "# auxiliary function that calculate a cost function\n",
    "cost <- function (w, X, T, c0){\n",
    "    sig <- sigmoid(w, X)\n",
    "    return(sum(ifelse(T==c0, 1-sig, sig)))\n",
    "}"
   ]
  },
  {
   "cell_type": "code",
   "execution_count": 8,
   "metadata": {
    "vscode": {
     "languageId": "r"
    }
   },
   "outputs": [],
   "source": [
    "# Sigmoid function (=p(C1|X))\n",
    "sigmoid <- function(w, x){\n",
    "    return(1.0/(1.0+exp(-w%*%t(cbind(1,x)))))    \n",
    "}"
   ]
  },
  {
   "cell_type": "code",
   "execution_count": 9,
   "metadata": {
    "vscode": {
     "languageId": "r"
    }
   },
   "outputs": [],
   "source": [
    "LR_class <- function(train.len)\n",
    "{\n",
    "    train.index <- 1:train.len\n",
    "    train.data <- train_data[train.index, c('x1', 'x2')]\n",
    "    train.label <- train_data[train.index, 'y']\n",
    "    test.data <- test_data[c('x1', 'x2')]\n",
    "    test.label <- test_data['y']\n",
    "    # Initializations\n",
    "    tau.max <- 1000 # maximum number of iterations\n",
    "    eta <- 0.01 # learning rate\n",
    "    epsilon <- 0.01 # a threshold on the cost (to terminate the process)\n",
    "    tau <- 1 # iteration counter\n",
    "    terminate <- FALSE\n",
    "\n",
    "    ## Just a few name/type conversion to make the rest of the code easy to follow\n",
    "    X <- as.matrix(train.data) # rename just for conviniance\n",
    "    T <- ifelse(train.label== c0,0,1) # rename just for conviniance\n",
    "\n",
    "    X_test <- as.matrix(test.data) # rename just for conviniance\n",
    "    T_test <- ifelse(test.label== c0,0,1) # rename just for conviniance\n",
    "\n",
    "    W <- matrix(,nrow=tau.max, ncol=(ncol(X)+1)) # to be used to store the estimated coefficients\n",
    "    # set.seed(1)\n",
    "    W[1,] <- runif(ncol(W)) # initial weight (any better idea?)\n",
    "\n",
    "    # project data using the sigmoid function (just for convenient)\n",
    "    Y <- sigmoid(W[1,],X)\n",
    "\n",
    "    costs <- data.frame('tau'=1:tau.max)  # to be used to trace the cost in each iteration\n",
    "    costs[1, 'cost'] <- cost(W[1,],X,T, c0)\n",
    "\n",
    "    while(!terminate){\n",
    "        # check termination criteria:\n",
    "        terminate <- tau >= tau.max | cost(W[tau,],X,T, c0)<=epsilon\n",
    "        \n",
    "        # shuffle data:\n",
    "        train.index <- sample(1:train.len, train.len, replace = FALSE)\n",
    "        X <- X[train.index,]\n",
    "        T <- T[train.index]\n",
    "        # print(X)\n",
    "        \n",
    "        # for each datapoint:\n",
    "        for (i in 1:train.len){\n",
    "            # check termination criteria:\n",
    "            if (tau >= tau.max | cost(W[tau,],X,T, c0) <=epsilon) {terminate<-TRUE;break}\n",
    "\n",
    "            Y <- sigmoid(W[tau,],X)\n",
    "            # Update the weights\n",
    "            W[(tau+1),] <- W[tau,] - eta * (Y[i]-T[i]) * cbind(1, t(X[i,]))\n",
    "            \n",
    "            # record the cost:\n",
    "            costs[(tau+1), 'cost'] <- cost(W[tau,],X,T, c0) / length(T)\n",
    "            \n",
    "            # update the counter:\n",
    "            tau <- tau + 1\n",
    "            \n",
    "            # decrease learning rate:\n",
    "            eta = eta * 0.999\n",
    "        }\n",
    "    }\n",
    "\n",
    "    # Done!\n",
    "    costs <- costs[1:tau, ] # remove the NaN tail of the vector (in case of early stopping)\n",
    "\n",
    "    # the  final result is:\n",
    "    w <- W[tau,]\n",
    "    # print(W)\n",
    "    # print(costs)\n",
    "    cost_test <- cost(W[tau,],X_test,T_test, c0) / length(T_test)\n",
    "    # cat('\\nThe final cost are:', costs[tau,'cost'], 'The final test cost are:', cost_test)\n",
    "    return (c(costs[tau,'cost'], cost_test))\n",
    "}"
   ]
  },
  {
   "cell_type": "code",
   "execution_count": 10,
   "metadata": {
    "vscode": {
     "languageId": "r"
    }
   },
   "outputs": [],
   "source": [
    "train_cost_lr <- c()\n",
    "test_cost_lr <- c()\n",
    "x <- seq(5, length(train_data$y),5)\n",
    "for(i in x)\n",
    "{\n",
    "    cost_ = LR_class(i)\n",
    "    train_cost_lr = c(train_cost_lr, cost_[1])\n",
    "    test_cost_lr = c(test_cost_lr, cost_[2])\n",
    "}"
   ]
  },
  {
   "cell_type": "code",
   "execution_count": 11,
   "metadata": {
    "vscode": {
     "languageId": "r"
    }
   },
   "outputs": [
    {
     "data": {
      "image/png": "[encoded data removed]",
      "text/plain": [
       "Plot with title \"train loss VS train size\""
      ]
     },
     "metadata": {},
     "output_type": "display_data"
    }
   ],
   "source": [
    "max_ = max(train_cost_bc, train_cost_lr)\n",
    "min_ = min(train_cost_bc, train_cost_lr)\n",
    "plot(x, train_cost_bc, type='l', xlab = 'train size', ylab = 'train loss', main = 'train loss VS train size', col = 'blue', ylim = c(min_, max_))\n",
    "lines(x, train_cost_lr, col = 'red')\n",
    "legend('topright',c(\"bc\",\"lr\"),col=c('blue','red'),lty=c(1,1))\n"
   ]
  },
  {
   "cell_type": "code",
   "execution_count": 12,
   "metadata": {
    "vscode": {
     "languageId": "r"
    }
   },
   "outputs": [
    {
     "data": {
      "image/png": "[encoded data removed]",
      "text/plain": [
       "Plot with title \"test loss VS train size\""
      ]
     },
     "metadata": {},
     "output_type": "display_data"
    }
   ],
   "source": [
    "max_ = max(test_cost_bc, test_cost_lr)\n",
    "min_ = min(test_cost_bc, test_cost_lr)\n",
    "plot(x, test_cost_bc, type='l', xlab = 'train size', ylab = 'train loss', main = 'test loss VS train size', col = 'blue', ylim = c(min_, max_))\n",
    "lines(x, test_cost_lr, col = 'red')\n",
    "legend('topright',c(\"bc\",\"lr\"),col=c('blue','red'),lty=c(1,1))"
   ]
  },
  {
   "cell_type": "markdown",
   "metadata": {},
   "source": [
    "III\n",
    "\n",
    "(a) With the increase of the number of training data points, the test loss decrease. With the increase of the number of training data points. the train loss will increase initally and then decrease.\n",
    "\n",
    "(b) When the training set is small, logistic regression may be the most suitable classifier and when the training set is big, bayes classifier is the most suitable classifier.\n",
    "\n",
    "(c) When training set is small, the model can learn the training data feactures much easier, so the training loss is small. And when training set gets larger, the data may has several outliers and will increase the model peorformance. But with the icrease of the data set, the average loss will decrease to a stable level. The logistic regression is simple and can slove simple classified problem, so when the train data size is large, it is easy to underfit, so when the training set is big, bayes classifier is the most suitable classifier and when the training set is small, the mu and sigma calculated is far from the total mu and sigma, so it is difficult for bayes classifier to make correct prediction. So logistic regression is better.\n"
   ]
  }
 ],
 "metadata": {
  "kernelspec": {
   "display_name": "R",
   "language": "R",
   "name": "ir"
  },
  "language_info": {
   "codemirror_mode": "r",
   "file_extension": ".r",
   "mimetype": "text/x-r-source",
   "name": "R",
   "pygments_lexer": "r",
   "version": "3.6.1"
  },
  "orig_nbformat": 4
 },
 "nbformat": 4,
 "nbformat_minor": 2
}
