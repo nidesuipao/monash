{
 "cells": [
  {
   "cell_type": "code",
   "execution_count": 1,
   "metadata": {
    "vscode": {
     "languageId": "r"
    }
   },
   "outputs": [
    {
     "name": "stderr",
     "output_type": "stream",
     "text": [
      "\n",
      "----------------------------------------------------------------------\n",
      "\n",
      "Your next step is to start H2O:\n",
      "    > h2o.init()\n",
      "\n",
      "For H2O package documentation, ask for help:\n",
      "    > ??h2o\n",
      "\n",
      "After starting H2O, you can use the Web UI at http://localhost:54321\n",
      "For more information visit https://docs.h2o.ai\n",
      "\n",
      "----------------------------------------------------------------------\n",
      "\n",
      "\n",
      "Attaching package: 'h2o'\n",
      "\n",
      "The following objects are masked from 'package:stats':\n",
      "\n",
      "    cor, sd, var\n",
      "\n",
      "The following objects are masked from 'package:base':\n",
      "\n",
      "    %*%, %in%, &&, ||, apply, as.factor, as.numeric, colnames,\n",
      "    colnames<-, ifelse, is.character, is.factor, is.numeric, log,\n",
      "    log10, log1p, log2, round, signif, trunc\n",
      "\n"
     ]
    },
    {
     "name": "stdout",
     "output_type": "stream",
     "text": [
      " Connection successful!\n",
      "\n",
      "R is connected to the H2O cluster: \n",
      "    H2O cluster uptime:         21 hours 2 minutes \n",
      "    H2O cluster timezone:       Asia/Shanghai \n",
      "    H2O data parsing timezone:  UTC \n",
      "    H2O cluster version:        3.36.1.4 \n",
      "    H2O cluster version age:    8 days  \n",
      "    H2O cluster name:           H2O_started_from_R_Administrator_snc915 \n",
      "    H2O cluster total nodes:    1 \n",
      "    H2O cluster total memory:   4.56 GB \n",
      "    H2O cluster total cores:    16 \n",
      "    H2O cluster allowed cores:  16 \n",
      "    H2O cluster healthy:        TRUE \n",
      "    H2O Connection ip:          localhost \n",
      "    H2O Connection port:        54321 \n",
      "    H2O Connection proxy:       NA \n",
      "    H2O Internal Security:      FALSE \n",
      "    R Version:                  R version 3.6.1 (2019-07-05) \n",
      "\n"
     ]
    }
   ],
   "source": [
    "options(warn=-1)\n",
    "library(h2o)\n",
    "#If there is a proxy: proxy.old <- Sys.getenv('http_proxy'); Sys.setenv('http_proxy'='');\n",
    "localH2O =  h2o.init()"
   ]
  },
  {
   "cell_type": "markdown",
   "metadata": {},
   "source": [
    "I. load data"
   ]
  },
  {
   "cell_type": "code",
   "execution_count": 24,
   "metadata": {
    "vscode": {
     "languageId": "r"
    }
   },
   "outputs": [
    {
     "name": "stdout",
     "output_type": "stream",
     "text": [
      "  |======================================================================| 100%\n",
      "  |======================================================================| 100%\n",
      "  |======================================================================| 100%\n"
     ]
    }
   ],
   "source": [
    "train.file <- 'F:\\\\assignment1_datasets\\\\Task2D_labeled.csv'; # use absolute address or relative to the start location of the H2O instance!\n",
    "train.frame <- h2o.importFile(path = train.file,sep=',') \n",
    "train.label <- as.character(as.vector(train.frame[,1]))\n",
    "\n",
    "untrain.file <- 'F:\\\\assignment1_datasets\\\\Task2D_unlabeled.csv'; # use absolute address or relative to the start location of the H2O instance!\n",
    "untrain.frame <- h2o.importFile(path = untrain.file,sep=',') \n",
    "untrain.label <- as.character(as.vector(train.frame[,1]))\n",
    "\n",
    "test.file <- 'F:\\\\assignment1_datasets\\\\Task2D_unlabeled.csv'; # use absolute address or relative to the start location of the H2O instance!\n",
    "test.frame <- h2o.importFile(path = test.file,sep=',') \n",
    "test.label <- as.character(as.vector(test.frame[,1]))"
   ]
  },
  {
   "cell_type": "markdown",
   "metadata": {},
   "source": [
    "II&III. train auto encoder and analysis"
   ]
  },
  {
   "cell_type": "code",
   "execution_count": 4,
   "metadata": {
    "vscode": {
     "languageId": "r"
    }
   },
   "outputs": [
    {
     "name": "stdout",
     "output_type": "stream",
     "text": [
      "  |======================================================================| 100%\n",
      "  |======================================================================| 100%\n",
      "  |======================================================================| 100%\n",
      "  |======================================================================| 100%\n",
      "  |======================================================================| 100%\n",
      "  |======================================================================| 100%\n",
      "  |======================================================================| 100%\n",
      "  |======================================================================| 100%\n",
      "  |======================================================================| 100%\n",
      "  |======================================================================| 100%\n",
      "  |======================================================================| 100%\n",
      "  |======================================================================| 100%\n",
      "  |======================================================================| 100%\n",
      "  |======================================================================| 100%\n",
      "  |======================================================================| 100%\n",
      "  |======================================================================| 100%\n",
      "  |======================================================================| 100%\n",
      "  |======================================================================| 100%\n",
      "  |======================================================================| 100%\n",
      "  |======================================================================| 100%\n"
     ]
    }
   ],
   "source": [
    "autoencoder_train <-function()\n",
    "{\n",
    "    hids = seq(20, 400, 20)\n",
    "    train_loss = c()\n",
    "    test_loss = c()\n",
    "    for(hid in hids)\n",
    "    {\n",
    "        NN.model1 = h2o.deeplearning(    \n",
    "        x = 2:785, # select all pixels\n",
    "        training_frame = train.frame, # specify the frame (imported file)    \n",
    "        hidden = c(hid), # number of layers and their units\n",
    "        epochs = 100, # maximum number of epoches  \n",
    "        activation = 'Tanh', # activation function \n",
    "        autoencoder = TRUE  # is it an autoencoder? Yes!\n",
    "        )\n",
    "        train_loss = c(train_loss, mean(h2o.anomaly(NN.model1, train.frame)))\n",
    "        test_loss = c(test_loss, mean(h2o.anomaly(NN.model1, untrain.frame)))\n",
    "    }\n",
    "    return (cbind(train_loss, test_loss))\n",
    "}\n",
    "\n",
    "losses = autoencoder_train()"
   ]
  },
  {
   "cell_type": "code",
   "execution_count": 12,
   "metadata": {
    "vscode": {
     "languageId": "r"
    }
   },
   "outputs": [
    {
     "data": {
      "image/png": "[encoded data removed]",
      "text/plain": [
       "Plot with title \"reconstruction error vs hidden size\""
      ]
     },
     "metadata": {},
     "output_type": "display_data"
    }
   ],
   "source": [
    "plot(seq(20, 400, 20), losses[,1], type='l', xlab = 'hidden size', ylab = 'reconstruction error', main = 'reconstruction error vs hidden size', col = 'blue')"
   ]
  },
  {
   "cell_type": "markdown",
   "metadata": {},
   "source": [
    "IV. NN define and train"
   ]
  },
  {
   "cell_type": "code",
   "execution_count": 25,
   "metadata": {
    "vscode": {
     "languageId": "r"
    }
   },
   "outputs": [],
   "source": [
    "y <- \"label\"\n",
    "x <- setdiff(names(train.frame), y)\n",
    "\n",
    "train.frame[,y] <- as.factor(train.frame[,y])\n",
    "untrain.frame[,y] <- as.factor(untrain.frame[,y])\n",
    "test.frame[,y] <- as.factor(test.frame[,y])\n"
   ]
  },
  {
   "cell_type": "code",
   "execution_count": 37,
   "metadata": {
    "vscode": {
     "languageId": "r"
    }
   },
   "outputs": [
    {
     "name": "stdout",
     "output_type": "stream",
     "text": [
      "  |======================================================================| 100%\n",
      "  |======================================================================| 100%\n",
      "  |======================================================================| 100%\n",
      "  |======================================================================| 100%\n",
      "  |======================================================================| 100%\n",
      "  |======================================================================| 100%\n",
      "  |======================================================================| 100%\n",
      "  |======================================================================| 100%\n",
      "  |======================================================================| 100%\n",
      "  |======================================================================| 100%\n",
      "  |======================================================================| 100%\n",
      "  |======================================================================| 100%\n",
      "  |======================================================================| 100%\n",
      "  |======================================================================| 100%\n",
      "  |======================================================================| 100%\n",
      "  |======================================================================| 100%\n",
      "  |======================================================================| 100%\n",
      "  |======================================================================| 100%\n",
      "  |======================================================================| 100%\n",
      "  |======================================================================| 100%\n"
     ]
    }
   ],
   "source": [
    "classifier_train <- function()\n",
    "{\n",
    "    hids = seq(20, 400, 20)\n",
    "    errors = c()\n",
    "    for(hid in hids)\n",
    "    { \n",
    "        NN.model2 <- h2o.deeplearning(\n",
    "        x = 2:785,\n",
    "        y = 1,\n",
    "        training_frame = train.frame,\n",
    "        validation_frame = test.frame,\n",
    "        distribution = \"multinomial\",\n",
    "        activation = \"Rectifier\",\n",
    "        hidden = c(hid,hid,hid),\n",
    "        l1 = 1e-4,\n",
    "        epochs =200)\n",
    "        errors = c(errors, h2o.mse(NN.model2 , valid = TRUE))\n",
    "    }\n",
    "    return (errors)\n",
    "}\n",
    "\n",
    "errors_noaugmented = classifier_train()"
   ]
  },
  {
   "cell_type": "markdown",
   "metadata": {},
   "source": [
    "V. Build augmented self-taught networks"
   ]
  },
  {
   "cell_type": "code",
   "execution_count": 38,
   "metadata": {
    "vscode": {
     "languageId": "r"
    }
   },
   "outputs": [
    {
     "name": "stdout",
     "output_type": "stream",
     "text": [
      "  |======================================================================| 100%\n",
      "  |======================================================================| 100%\n",
      "  |======================================================================| 100%\n",
      "  |======================================================================| 100%\n",
      "  |======================================================================| 100%\n",
      "  |======================================================================| 100%\n",
      "  |======================================================================| 100%\n",
      "  |======================================================================| 100%\n",
      "  |======================================================================| 100%\n",
      "  |======================================================================| 100%\n",
      "  |======================================================================| 100%\n",
      "  |======================================================================| 100%\n",
      "  |======================================================================| 100%\n",
      "  |======================================================================| 100%\n",
      "  |======================================================================| 100%\n",
      "  |======================================================================| 100%\n",
      "  |======================================================================| 100%\n",
      "  |======================================================================| 100%\n",
      "  |======================================================================| 100%\n",
      "  |======================================================================| 100%\n",
      "  |======================================================================| 100%\n",
      "  |======================================================================| 100%\n",
      "  |======================================================================| 100%\n",
      "  |======================================================================| 100%\n",
      "  |======================================================================| 100%\n",
      "  |======================================================================| 100%\n",
      "  |======================================================================| 100%\n",
      "  |======================================================================| 100%\n",
      "  |======================================================================| 100%\n",
      "  |======================================================================| 100%\n",
      "  |======================================================================| 100%\n",
      "  |======================================================================| 100%\n",
      "  |======================================================================| 100%\n",
      "  |======================================================================| 100%\n",
      "  |======================================================================| 100%\n",
      "  |======================================================================| 100%\n",
      "  |======================================================================| 100%\n",
      "  |======================================================================| 100%\n",
      "  |======================================================================| 100%\n",
      "  |======================================================================| 100%\n",
      "  |======================================================================| 100%\n",
      "  |======================================================================| 100%\n",
      "  |======================================================================| 100%\n",
      "  |======================================================================| 100%\n",
      "  |======================================================================| 100%\n",
      "  |======================================================================| 100%\n",
      "  |======================================================================| 100%\n",
      "  |======================================================================| 100%\n",
      "  |======================================================================| 100%\n",
      "  |======================================================================| 100%\n",
      "  |======================================================================| 100%\n",
      "  |======================================================================| 100%\n",
      "  |======================================================================| 100%\n",
      "  |======================================================================| 100%\n",
      "  |======================================================================| 100%\n",
      "  |======================================================================| 100%\n",
      "  |======================================================================| 100%\n",
      "  |======================================================================| 100%\n",
      "  |======================================================================| 100%\n",
      "  |======================================================================| 100%\n",
      "  |======================================================================| 100%\n",
      "  |======================================================================| 100%\n",
      "  |======================================================================| 100%\n",
      "  |======================================================================| 100%\n",
      "  |======================================================================| 100%\n",
      "  |======================================================================| 100%\n",
      "  |======================================================================| 100%\n",
      "  |======================================================================| 100%\n",
      "  |======================================================================| 100%\n",
      "  |======================================================================| 100%\n",
      "  |======================================================================| 100%\n",
      "  |======================================================================| 100%\n",
      "  |======================================================================| 100%\n",
      "  |======================================================================| 100%\n",
      "  |======================================================================| 100%\n",
      "  |======================================================================| 100%\n",
      "  |======================================================================| 100%\n",
      "  |======================================================================| 100%\n",
      "  |======================================================================| 100%\n",
      "  |======================================================================| 100%\n"
     ]
    }
   ],
   "source": [
    "self_taught <- function()\n",
    "{\n",
    "    hids = seq(20, 400, 20)\n",
    "    errors = c()\n",
    "    for(hid in hids)\n",
    "    {\n",
    "        NN.model1 = h2o.deeplearning(    \n",
    "        x = 2:785, # select all pixels\n",
    "        training_frame = train.frame, # specify the frame (imported file)    \n",
    "        hidden = c(hid), # number of layers and their units\n",
    "        epochs = 200, # maximum number of epoches  \n",
    "        activation = 'Tanh', # activation function \n",
    "        autoencoder = TRUE  # is it an autoencoder? Yes!\n",
    "        )\n",
    "\n",
    "        extra_train = h2o.cbind(train.frame, (h2o.deepfeatures(NN.model1, train.frame, layer=1)))\n",
    "        extra_test = h2o.cbind(test.frame, (h2o.deepfeatures(NN.model1, test.frame, layer=1)))\n",
    "        NN.model2 <- h2o.deeplearning(\n",
    "                x = 2:hid+785,\n",
    "                y = 1,\n",
    "                training_frame = extra_train,\n",
    "                validation_frame = extra_test,\n",
    "                distribution = \"multinomial\",\n",
    "                activation = \"Rectifier\",\n",
    "                hidden = c(hid,hid,hid),\n",
    "                l1 = 1e-4,\n",
    "                epochs = 200)\n",
    "\n",
    "        errors = c(errors, h2o.mse(NN.model2 , valid = TRUE))\n",
    "    }\n",
    "    return (errors)\n",
    "}\n",
    "\n",
    "errors_augmented = self_taught()\n"
   ]
  },
  {
   "cell_type": "markdown",
   "metadata": {},
   "source": [
    "VI. analysis is in pdf report"
   ]
  },
  {
   "cell_type": "code",
   "execution_count": 39,
   "metadata": {
    "vscode": {
     "languageId": "r"
    }
   },
   "outputs": [
    {
     "data": {
      "image/png": "[encoded data removed]",
      "text/plain": [
       "Plot with title \"average error vs hidden size\""
      ]
     },
     "metadata": {},
     "output_type": "display_data"
    }
   ],
   "source": [
    "max_ = max(errors_augmented, errors_noaugmented)\n",
    "min_ = min(errors_augmented, errors_noaugmented)\n",
    "\n",
    "plot(seq(20, 400, 20), errors_noaugmented, type='l', xlab = 'hidden size', ylim = c(min_, max_), ylab = 'average error', main = 'average error vs hidden size', col = 'blue')\n",
    "lines(seq(20, 400, 20), errors_augmented, col = 'red')\n",
    "legend('topright',c(\"noaugmented\",\"augmented\"),col=c('blue','red'),lty=c(1,1))"
   ]
  }
 ],
 "metadata": {
  "kernelspec": {
   "display_name": "R",
   "language": "R",
   "name": "ir"
  },
  "language_info": {
   "codemirror_mode": "r",
   "file_extension": ".r",
   "mimetype": "text/x-r-source",
   "name": "R",
   "pygments_lexer": "r",
   "version": "3.6.1"
  },
  "orig_nbformat": 4
 },
 "nbformat": 4,
 "nbformat_minor": 2
}
