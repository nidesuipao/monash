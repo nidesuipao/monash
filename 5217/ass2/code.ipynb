{
 "cells": [
  {
   "cell_type": "code",
   "execution_count": 15,
   "metadata": {},
   "outputs": [],
   "source": [
    "## Requirements\n",
    "from __future__ import unicode_literals, print_function, division\n",
    "from io import open\n",
    "import unicodedata\n",
    "import string\n",
    "import re\n",
    "import random\n",
    "import os\n",
    "\n",
    "import torch\n",
    "import torch.nn as nn\n",
    "from torch import optim\n",
    "import torch.nn.functional as F\n",
    "\n",
    "device = torch.device(\"cuda\" if torch.cuda.is_available() else \"cpu\")"
   ]
  },
  {
   "cell_type": "markdown",
   "metadata": {},
   "source": [
    "# data pre process"
   ]
  },
  {
   "cell_type": "code",
   "execution_count": 16,
   "metadata": {},
   "outputs": [],
   "source": [
    "SOS_token = 0\n",
    "EOS_token = 1\n",
    "MAX_LENGTH = 150\n",
    "\n",
    "class Lang:\n",
    "    def __init__(self, name):\n",
    "        self.name = name\n",
    "        self.word2index = {}\n",
    "        self.word2count = {}\n",
    "        self.index2word = {0: \"SOS\", 1: \"EOS\"}\n",
    "        self.n_words = 2  # Count SOS and EOS\n",
    "\n",
    "    def addSentence(self, sentence):\n",
    "        for word in sentence.split(' '):\n",
    "            self.addWord(word)\n",
    "\n",
    "    def addWord(self, word):\n",
    "        if word not in self.word2index:\n",
    "            self.word2index[word] = self.n_words\n",
    "            self.word2count[word] = 1\n",
    "            self.index2word[self.n_words] = word\n",
    "            self.n_words += 1\n",
    "        else:\n",
    "            self.word2count[word] += 1"
   ]
  },
  {
   "cell_type": "code",
   "execution_count": 17,
   "metadata": {},
   "outputs": [],
   "source": [
    "train_path = './Cooking_Dataset/train'\n",
    "test_path = './Cooking_Dataset/test'\n",
    "dev_path = './Cooking_Dataset/dev'\n",
    "\n",
    "train_ingradients = []\n",
    "train_recipes = []\n",
    "test_ingradients = []\n",
    "test_recipes = []\n",
    "dev_ingradients = []\n",
    "dev_recipes = []\n",
    "\n",
    "\n",
    "def data_extract(data_path):\n",
    "    ingradients = []\n",
    "    recipes = []\n",
    "    files =  os.listdir(data_path)\n",
    "    for f in files:\n",
    "        data = open(os.path.join(data_path, f))\n",
    "        lines = data.readlines()\n",
    "        is_recipe =  0\n",
    "        recipe = \"\"\n",
    "        for line in lines:\n",
    "            if \"ingredients:\" in line:\n",
    "                ingradients.append(line)\n",
    "                is_recipe = 1\n",
    "            elif 'END RECIPE' in line:\n",
    "                is_recipe = 0\n",
    "                recipes.append(recipe)\n",
    "                recipe = \"\"\n",
    "            elif is_recipe == 1:\n",
    "                line = line.replace('\\n','\\t')\n",
    "                recipe = recipe + line.replace('\\t',' ')\n",
    "           \n",
    "\n",
    "    return ingradients, recipes\n",
    "\n",
    "train_ingradients, train_recipes = data_extract(train_path)\n",
    "test_ingradients, test_recipes = data_extract(test_path)\n",
    "dev_ingradients, dev_recipes = data_extract(dev_path)\n"
   ]
  },
  {
   "cell_type": "code",
   "execution_count": 18,
   "metadata": {},
   "outputs": [],
   "source": [
    "def filterPair(p):\n",
    "    return len(p[0].split(' ')) < MAX_LENGTH and \\\n",
    "        len(p[1].split(' ')) < MAX_LENGTH\n",
    "\n",
    "\n",
    "def filterPairs(pairs):\n",
    "    return [pair for pair in pairs if filterPair(pair)]"
   ]
  },
  {
   "cell_type": "code",
   "execution_count": 19,
   "metadata": {},
   "outputs": [],
   "source": [
    "lang = input_lang = Lang(\"ing\")\n",
    "\n",
    "pairs = [[train_ingradients[i], train_recipes[i]] for i in range(len(train_ingradients))]\n",
    "pairs_test = [[test_ingradients[i], test_recipes[i]] for i in range(len(test_ingradients))]\n",
    "pairs_dev = [[dev_ingradients[i], dev_recipes[i]] for i in range(len(dev_ingradients))]\n",
    "\n",
    "\n",
    "min_train_ing_len = min([len(pair[0]) for pair in pairs])\n",
    "min_train_rec_len = min([len(pair[1]) for pair in pairs])\n",
    "\n",
    "max_train_ing_len = max([len(pair[0]) for pair in pairs])\n",
    "max_train_rec_len = max([len(pair[1]) for pair in pairs])\n",
    "\n",
    "ave_train_ing_len = sum([len(pair[0]) for pair in pairs]) / len(pairs)\n",
    "ave_train_rec_len = sum([len(pair[1]) for pair in pairs]) / len(pairs)\n",
    "\n",
    "pairs = filterPairs(pairs)\n",
    "pairs_test = filterPairs(pairs_test)\n",
    "pairs_dev = filterPairs(pairs_dev)\n",
    "\n",
    "for pair in pairs:\n",
    "        lang.addSentence(pair[0])\n",
    "        lang.addSentence(pair[1])\n",
    "\n",
    "for pair in pairs_test:\n",
    "        lang.addSentence(pair[0])\n",
    "        lang.addSentence(pair[1])\n",
    "\n",
    "for pair in pairs_dev:\n",
    "        lang.addSentence(pair[0])\n",
    "        lang.addSentence(pair[1])"
   ]
  },
  {
   "cell_type": "code",
   "execution_count": 20,
   "metadata": {},
   "outputs": [
    {
     "name": "stdout",
     "output_type": "stream",
     "text": [
      "143907\n",
      "17 0\n",
      "2460 4427\n",
      "235.31318142967334 529.653950120564\n",
      "113100\n",
      "172249\n"
     ]
    }
   ],
   "source": [
    "print(len(train_ingradients))\n",
    "print(min_train_ing_len, min_train_rec_len)\n",
    "print(max_train_ing_len, max_train_rec_len)\n",
    "print(ave_train_ing_len, ave_train_rec_len)\n",
    "print(len(pairs))\n",
    "print(lang.n_words)"
   ]
  },
  {
   "cell_type": "code",
   "execution_count": 21,
   "metadata": {},
   "outputs": [],
   "source": [
    "def indexesFromSentence(lang, sentence):\n",
    "    return [lang.word2index[word] for word in sentence.split(' ')]\n",
    "\n",
    "\n",
    "def tensorFromSentence(lang, sentence):\n",
    "    indexes = indexesFromSentence(lang, sentence)\n",
    "    indexes.append(EOS_token)\n",
    "    return torch.tensor(indexes, dtype=torch.long, device=device).view(-1, 1)\n",
    "\n",
    "\n",
    "def tensorsFromPair(lang, pair):\n",
    "    input_tensor = tensorFromSentence(lang, pair[0])\n",
    "    target_tensor = tensorFromSentence(lang, pair[1])\n",
    "    return (input_tensor, target_tensor)"
   ]
  },
  {
   "cell_type": "code",
   "execution_count": 22,
   "metadata": {},
   "outputs": [
    {
     "name": "stdout",
     "output_type": "stream",
     "text": [
      "torch.Size([55, 1])\n",
      "torch.Size([110, 1])\n"
     ]
    }
   ],
   "source": [
    "x = random.choice(pairs)\n",
    "training_pairs = tensorsFromPair(lang, x)\n",
    "print(training_pairs[0].size())\n",
    "print(training_pairs[1].size())"
   ]
  },
  {
   "cell_type": "markdown",
   "metadata": {},
   "source": [
    "# model without attetion define and train"
   ]
  },
  {
   "cell_type": "code",
   "execution_count": 23,
   "metadata": {},
   "outputs": [],
   "source": [
    "class EncoderLSTM(nn.Module):\n",
    "    def __init__(self, input_dim, emb_dim, hid_dim, n_layers, dropout):\n",
    "        super(EncoderLSTM, self).__init__()\n",
    "        self.hid_dim = hid_dim\n",
    "        self.n_layers = n_layers\n",
    "        self.embedding = nn.Embedding(input_dim, emb_dim)\n",
    "        self.rnn = nn.LSTM(emb_dim, hid_dim, n_layers, dropout = dropout, batch_first=True)\n",
    "        self.dropout = nn.Dropout(dropout)\n",
    "        \n",
    "    def forward(self, src, hidden, cell):      \n",
    "        embedded = self.embedding(src).view(1, 1, -1)  \n",
    "        embedded = self.dropout(embedded)      \n",
    "        outputs, (hidden, cell) = self.rnn(embedded, (hidden, cell))      \n",
    "        return outputs, hidden, cell\n",
    "\n",
    "    def initHidden(self):\n",
    "        return torch.zeros(1, 1, self.hid_dim, device=device),torch.zeros(1, 1, self.hid_dim, device=device)"
   ]
  },
  {
   "cell_type": "code",
   "execution_count": 24,
   "metadata": {},
   "outputs": [],
   "source": [
    "class DecoderLSTM(nn.Module):\n",
    "    def __init__(self, output_dim, emb_dim, hid_dim, n_layers, dropout):\n",
    "        super(DecoderLSTM, self).__init__()\n",
    "        \n",
    "        self.output_dim = output_dim\n",
    "        self.hid_dim = hid_dim\n",
    "        self.n_layers = n_layers\n",
    "        self.embedding = nn.Embedding(output_dim, emb_dim) \n",
    "        self.rnn = nn.LSTM(emb_dim, hid_dim, n_layers, dropout = dropout, batch_first=True)\n",
    "        self.fc_out = nn.Linear(hid_dim, output_dim)\n",
    "        self.dropout = nn.Dropout(dropout)\n",
    "        self.softmax = nn.LogSoftmax(dim=1)\n",
    "        \n",
    "    def forward(self, input, hidden, cell):\n",
    "        embedded = self.embedding(input).view(1, 1, -1)  \n",
    "        embedded = self.dropout(embedded)         \n",
    "        output, (hidden, cell) = self.rnn(embedded, (hidden, cell))\n",
    "        prediction = self.fc_out(output.squeeze(0))\n",
    "        prediction = self.softmax(prediction)\n",
    "        \n",
    "        return prediction, hidden, cell\n",
    "    \n",
    "    def initHidden(self):\n",
    "        return torch.zeros(1, 1, self.hid_dim, device=device),torch.zeros(1, 1, self.hid_dim, device=device)\n",
    "    "
   ]
  },
  {
   "cell_type": "code",
   "execution_count": 25,
   "metadata": {},
   "outputs": [],
   "source": [
    "teacher_forcing_ratio = 1\n",
    "\n",
    "\n",
    "def train(input_tensor, target_tensor, encoder, decoder, criterion, max_length=MAX_LENGTH):\n",
    "    encoder_hidden, encoder_cell = encoder.initHidden()\n",
    "\n",
    "    input_length = input_tensor.size(0)\n",
    "    target_length = target_tensor.size(0)\n",
    "\n",
    "    encoder_outputs = torch.zeros(max_length, encoder.hid_dim, device=device)\n",
    "\n",
    "    loss = 0\n",
    "\n",
    "    for ei in range(input_length):\n",
    "        encoder_output, encoder_hidden, encoder_cell = encoder(\n",
    "            input_tensor[ei], encoder_hidden, encoder_cell)\n",
    "        encoder_outputs[ei] = encoder_output[0, 0]\n",
    "\n",
    "    decoder_input = torch.tensor([[SOS_token]], device=device)\n",
    "\n",
    "    decoder_hidden = encoder_hidden\n",
    "    decoder_cell = encoder_cell\n",
    "\n",
    "    use_teacher_forcing = True if random.random() < teacher_forcing_ratio else False\n",
    "\n",
    "    if use_teacher_forcing:\n",
    "        # Teacher forcing: Feed the target as the next input\n",
    "        for di in range(target_length):\n",
    "            decoder_output, decoder_hidden, decoder_cell = decoder(\n",
    "                decoder_input, decoder_hidden, decoder_cell)\n",
    "            loss += criterion(decoder_output, target_tensor[di])\n",
    "            decoder_input = target_tensor[di]  # Teacher forcing\n",
    "\n",
    "    else:\n",
    "        # Without teacher forcing: use its own predictions as the next input\n",
    "        for di in range(target_length):\n",
    "            decoder_output, decoder_hidden, decoder_cell = decoder(\n",
    "                decoder_input, decoder_hidden, decoder_cell)\n",
    "            topv, topi = decoder_output.topk(1)\n",
    "            decoder_input = topi.squeeze().detach()  # detach from history as input\n",
    "\n",
    "            loss += criterion(decoder_output, target_tensor[di])\n",
    "            if decoder_input.item() == EOS_token:\n",
    "                break\n",
    "\n",
    "\n",
    "    return loss\n",
    "\n",
    "    #return \n"
   ]
  },
  {
   "cell_type": "code",
   "execution_count": 26,
   "metadata": {},
   "outputs": [],
   "source": [
    "import time\n",
    "import math\n",
    "\n",
    "\n",
    "def asMinutes(s):\n",
    "    m = math.floor(s / 60)\n",
    "    s -= m * 60\n",
    "    return '%dm %ds' % (m, s)\n",
    "\n",
    "\n",
    "def timeSince(since, percent):\n",
    "    now = time.time()\n",
    "    s = now - since\n",
    "    es = s / (percent)\n",
    "    rs = es - s\n",
    "    return '%s (- %s)' % (asMinutes(s), asMinutes(rs))"
   ]
  },
  {
   "cell_type": "code",
   "execution_count": 27,
   "metadata": {},
   "outputs": [],
   "source": [
    "import matplotlib.pyplot as plt\n",
    "plt.switch_backend('agg')\n",
    "import matplotlib.ticker as ticker\n",
    "import numpy as np\n",
    "%matplotlib inline\n",
    "    \n",
    "def showPlot(points):\n",
    "    plt.figure()\n",
    "    fig, ax = plt.subplots()\n",
    "    # this locator puts ticks at regular intervals\n",
    "    loc = ticker.MultipleLocator(base=0.2)\n",
    "    ax.yaxis.set_major_locator(loc)\n",
    "    plt.plot(points)"
   ]
  },
  {
   "cell_type": "code",
   "execution_count": 28,
   "metadata": {},
   "outputs": [],
   "source": [
    "def trainIters(encoder, decoder, n_iters, print_every=1000, plot_every=100, learning_rate=0.01, batch_size = 10):\n",
    "    start = time.time()\n",
    "    plot_losses = []\n",
    "    print_loss_total = 0  # Reset every print_every\n",
    "    plot_loss_total = 0  # Reset every plot_every\n",
    "\n",
    "    encoder_optimizer = optim.SGD(encoder.parameters(), lr=learning_rate)\n",
    "    decoder_optimizer = optim.SGD(decoder.parameters(), lr=learning_rate)\n",
    "    training_pairs = [tensorsFromPair(lang, random.choice(pairs))\n",
    "                      for i in range(n_iters)]\n",
    "    dev_pairs = [tensorsFromPair(lang, pair) for pair in pairs_dev]\n",
    "    criterion = nn.NLLLoss()\n",
    "    \n",
    "    loss = 0\n",
    "    for iter in range(1, n_iters+1):\n",
    "        training_pair = training_pairs[iter - 1]\n",
    "        input_tensor = training_pair[0]\n",
    "        target_tensor = training_pair[1]\n",
    "\n",
    "        cur_loss = train(input_tensor, target_tensor, encoder,\n",
    "                     decoder, criterion)\n",
    "        loss += cur_loss\n",
    "\n",
    "\n",
    "        print_loss_total += cur_loss.item() / target_tensor.size(0)\n",
    "        plot_loss_total += cur_loss.item() / target_tensor.size(0)\n",
    "\n",
    "        if iter % print_every == 0:\n",
    "            dev_loss = 0\n",
    "            with torch.no_grad():\n",
    "                for dev_pair in dev_pairs:\n",
    "                    input_tensor = dev_pair[0]\n",
    "                    target_tensor = dev_pair[1]\n",
    "                    dev_loss += train(input_tensor, target_tensor, encoder,\n",
    "                        decoder, criterion) / target_tensor.size(0)\n",
    "            dev_loss = dev_loss.item() / len(dev_pairs)\n",
    "\n",
    "            print_loss_avg = print_loss_total / print_every\n",
    "            print_loss_total = 0\n",
    "            print('%s (%d %d%%) train: %.4f dev: %.4f' % (timeSince(start, iter / n_iters),\n",
    "                                         iter, iter / n_iters * 100, print_loss_avg, dev_loss))\n",
    "\n",
    "        if iter % plot_every == 0:\n",
    "            dev_loss = 0\n",
    "            with torch.no_grad():\n",
    "                for dev_pair in dev_pairs:\n",
    "                    input_tensor = dev_pair[0]\n",
    "                    target_tensor = dev_pair[1]\n",
    "                    dev_loss += train(input_tensor, target_tensor, encoder,\n",
    "                        decoder, criterion) / target_tensor.size(0)\n",
    "            dev_loss = dev_loss.item() / len(dev_pairs)\n",
    "            \n",
    "            plot_loss_avg = plot_loss_total / plot_every\n",
    "            plot_losses.append([plot_loss_avg, dev_loss])\n",
    "            plot_loss_total = 0\n",
    "            \n",
    "        if iter % batch_size:\n",
    "            encoder_optimizer.zero_grad()\n",
    "            decoder_optimizer.zero_grad()\n",
    "            loss.backward()\n",
    "            encoder_optimizer.step()\n",
    "            decoder_optimizer.step()\n",
    "            loss = 0\n",
    "\n",
    "    # showPlot(plot_losses)\n",
    "    return plot_losses\n"
   ]
  },
  {
   "cell_type": "code",
   "execution_count": 29,
   "metadata": {},
   "outputs": [],
   "source": [
    "input_dim = lang.n_words\n",
    "output_dim = lang.n_words\n",
    "emb_dim = 64\n",
    "hid_dim = 256\n",
    "n_layers = 1\n",
    "dropout = 0.1\n",
    "encoder1 = EncoderLSTM(input_dim, emb_dim, hid_dim, n_layers, dropout).to(device)\n",
    "decoder1 = DecoderLSTM(output_dim, emb_dim, hid_dim, n_layers, dropout).to(device)\n",
    "batch_size = 10"
   ]
  },
  {
   "cell_type": "code",
   "execution_count": 62,
   "metadata": {},
   "outputs": [],
   "source": [
    "# encoder1 = torch.load('encoder1.pt')\n",
    "# decoder1 = torch.load('decoder1.pt')"
   ]
  },
  {
   "cell_type": "code",
   "execution_count": 30,
   "metadata": {},
   "outputs": [
    {
     "name": "stdout",
     "output_type": "stream",
     "text": [
      "1m 11s (- 177m 44s) (100 0%) train: 9.6214 dev: 7.4518\n"
     ]
    },
    {
     "ename": "KeyboardInterrupt",
     "evalue": "",
     "output_type": "error",
     "traceback": [
      "\u001b[1;31m---------------------------------------------------------------------------\u001b[0m",
      "\u001b[1;31mKeyboardInterrupt\u001b[0m                         Traceback (most recent call last)",
      "\u001b[1;32me:\\研究生资料\\研一小学期\\5217\\ass2\\code_32749112.ipynb Cell 19\u001b[0m in \u001b[0;36m<cell line: 1>\u001b[1;34m()\u001b[0m\n\u001b[1;32m----> <a href='vscode-notebook-cell:/e%3A/%E7%A0%94%E7%A9%B6%E7%94%9F%E8%B5%84%E6%96%99/%E7%A0%94%E4%B8%80%E5%B0%8F%E5%AD%A6%E6%9C%9F/5217/ass2/code_32749112.ipynb#X24sZmlsZQ%3D%3D?line=0'>1</a>\u001b[0m train_process \u001b[39m=\u001b[39m trainIters(encoder1, decoder1, \u001b[39m15000\u001b[39;49m, print_every\u001b[39m=\u001b[39;49m\u001b[39m100\u001b[39;49m, batch_size \u001b[39m=\u001b[39;49m batch_size)\n",
      "\u001b[1;32me:\\研究生资料\\研一小学期\\5217\\ass2\\code_32749112.ipynb Cell 19\u001b[0m in \u001b[0;36mtrainIters\u001b[1;34m(encoder, decoder, n_iters, print_every, plot_every, learning_rate, batch_size)\u001b[0m\n\u001b[0;32m     <a href='vscode-notebook-cell:/e%3A/%E7%A0%94%E7%A9%B6%E7%94%9F%E8%B5%84%E6%96%99/%E7%A0%94%E4%B8%80%E5%B0%8F%E5%AD%A6%E6%9C%9F/5217/ass2/code_32749112.ipynb#X24sZmlsZQ%3D%3D?line=46'>47</a>\u001b[0m         input_tensor \u001b[39m=\u001b[39m dev_pair[\u001b[39m0\u001b[39m]\n\u001b[0;32m     <a href='vscode-notebook-cell:/e%3A/%E7%A0%94%E7%A9%B6%E7%94%9F%E8%B5%84%E6%96%99/%E7%A0%94%E4%B8%80%E5%B0%8F%E5%AD%A6%E6%9C%9F/5217/ass2/code_32749112.ipynb#X24sZmlsZQ%3D%3D?line=47'>48</a>\u001b[0m         target_tensor \u001b[39m=\u001b[39m dev_pair[\u001b[39m1\u001b[39m]\n\u001b[1;32m---> <a href='vscode-notebook-cell:/e%3A/%E7%A0%94%E7%A9%B6%E7%94%9F%E8%B5%84%E6%96%99/%E7%A0%94%E4%B8%80%E5%B0%8F%E5%AD%A6%E6%9C%9F/5217/ass2/code_32749112.ipynb#X24sZmlsZQ%3D%3D?line=48'>49</a>\u001b[0m         dev_loss \u001b[39m+\u001b[39m\u001b[39m=\u001b[39m train(input_tensor, target_tensor, encoder,\n\u001b[0;32m     <a href='vscode-notebook-cell:/e%3A/%E7%A0%94%E7%A9%B6%E7%94%9F%E8%B5%84%E6%96%99/%E7%A0%94%E4%B8%80%E5%B0%8F%E5%AD%A6%E6%9C%9F/5217/ass2/code_32749112.ipynb#X24sZmlsZQ%3D%3D?line=49'>50</a>\u001b[0m             decoder, criterion) \u001b[39m/\u001b[39m target_tensor\u001b[39m.\u001b[39msize(\u001b[39m0\u001b[39m)\n\u001b[0;32m     <a href='vscode-notebook-cell:/e%3A/%E7%A0%94%E7%A9%B6%E7%94%9F%E8%B5%84%E6%96%99/%E7%A0%94%E4%B8%80%E5%B0%8F%E5%AD%A6%E6%9C%9F/5217/ass2/code_32749112.ipynb#X24sZmlsZQ%3D%3D?line=50'>51</a>\u001b[0m dev_loss \u001b[39m=\u001b[39m dev_loss\u001b[39m.\u001b[39mitem() \u001b[39m/\u001b[39m \u001b[39mlen\u001b[39m(dev_pairs)\n\u001b[0;32m     <a href='vscode-notebook-cell:/e%3A/%E7%A0%94%E7%A9%B6%E7%94%9F%E8%B5%84%E6%96%99/%E7%A0%94%E4%B8%80%E5%B0%8F%E5%AD%A6%E6%9C%9F/5217/ass2/code_32749112.ipynb#X24sZmlsZQ%3D%3D?line=52'>53</a>\u001b[0m plot_loss_avg \u001b[39m=\u001b[39m plot_loss_total \u001b[39m/\u001b[39m plot_every\n",
      "\u001b[1;32me:\\研究生资料\\研一小学期\\5217\\ass2\\code_32749112.ipynb Cell 19\u001b[0m in \u001b[0;36mtrain\u001b[1;34m(input_tensor, target_tensor, encoder, decoder, criterion, max_length)\u001b[0m\n\u001b[0;32m     <a href='vscode-notebook-cell:/e%3A/%E7%A0%94%E7%A9%B6%E7%94%9F%E8%B5%84%E6%96%99/%E7%A0%94%E4%B8%80%E5%B0%8F%E5%AD%A6%E6%9C%9F/5217/ass2/code_32749112.ipynb#X24sZmlsZQ%3D%3D?line=25'>26</a>\u001b[0m \u001b[39mif\u001b[39;00m use_teacher_forcing:\n\u001b[0;32m     <a href='vscode-notebook-cell:/e%3A/%E7%A0%94%E7%A9%B6%E7%94%9F%E8%B5%84%E6%96%99/%E7%A0%94%E4%B8%80%E5%B0%8F%E5%AD%A6%E6%9C%9F/5217/ass2/code_32749112.ipynb#X24sZmlsZQ%3D%3D?line=26'>27</a>\u001b[0m     \u001b[39m# Teacher forcing: Feed the target as the next input\u001b[39;00m\n\u001b[0;32m     <a href='vscode-notebook-cell:/e%3A/%E7%A0%94%E7%A9%B6%E7%94%9F%E8%B5%84%E6%96%99/%E7%A0%94%E4%B8%80%E5%B0%8F%E5%AD%A6%E6%9C%9F/5217/ass2/code_32749112.ipynb#X24sZmlsZQ%3D%3D?line=27'>28</a>\u001b[0m     \u001b[39mfor\u001b[39;00m di \u001b[39min\u001b[39;00m \u001b[39mrange\u001b[39m(target_length):\n\u001b[1;32m---> <a href='vscode-notebook-cell:/e%3A/%E7%A0%94%E7%A9%B6%E7%94%9F%E8%B5%84%E6%96%99/%E7%A0%94%E4%B8%80%E5%B0%8F%E5%AD%A6%E6%9C%9F/5217/ass2/code_32749112.ipynb#X24sZmlsZQ%3D%3D?line=28'>29</a>\u001b[0m         decoder_output, decoder_hidden, decoder_cell \u001b[39m=\u001b[39m decoder(\n\u001b[0;32m     <a href='vscode-notebook-cell:/e%3A/%E7%A0%94%E7%A9%B6%E7%94%9F%E8%B5%84%E6%96%99/%E7%A0%94%E4%B8%80%E5%B0%8F%E5%AD%A6%E6%9C%9F/5217/ass2/code_32749112.ipynb#X24sZmlsZQ%3D%3D?line=29'>30</a>\u001b[0m             decoder_input, decoder_hidden, decoder_cell)\n\u001b[0;32m     <a href='vscode-notebook-cell:/e%3A/%E7%A0%94%E7%A9%B6%E7%94%9F%E8%B5%84%E6%96%99/%E7%A0%94%E4%B8%80%E5%B0%8F%E5%AD%A6%E6%9C%9F/5217/ass2/code_32749112.ipynb#X24sZmlsZQ%3D%3D?line=30'>31</a>\u001b[0m         loss \u001b[39m+\u001b[39m\u001b[39m=\u001b[39m criterion(decoder_output, target_tensor[di])\n\u001b[0;32m     <a href='vscode-notebook-cell:/e%3A/%E7%A0%94%E7%A9%B6%E7%94%9F%E8%B5%84%E6%96%99/%E7%A0%94%E4%B8%80%E5%B0%8F%E5%AD%A6%E6%9C%9F/5217/ass2/code_32749112.ipynb#X24sZmlsZQ%3D%3D?line=31'>32</a>\u001b[0m         decoder_input \u001b[39m=\u001b[39m target_tensor[di]  \u001b[39m# Teacher forcing\u001b[39;00m\n",
      "File \u001b[1;32mF:\\Anaconda3\\envs\\torch\\lib\\site-packages\\torch\\nn\\modules\\module.py:1130\u001b[0m, in \u001b[0;36mModule._call_impl\u001b[1;34m(self, *input, **kwargs)\u001b[0m\n\u001b[0;32m   1126\u001b[0m \u001b[39m# If we don't have any hooks, we want to skip the rest of the logic in\u001b[39;00m\n\u001b[0;32m   1127\u001b[0m \u001b[39m# this function, and just call forward.\u001b[39;00m\n\u001b[0;32m   1128\u001b[0m \u001b[39mif\u001b[39;00m \u001b[39mnot\u001b[39;00m (\u001b[39mself\u001b[39m\u001b[39m.\u001b[39m_backward_hooks \u001b[39mor\u001b[39;00m \u001b[39mself\u001b[39m\u001b[39m.\u001b[39m_forward_hooks \u001b[39mor\u001b[39;00m \u001b[39mself\u001b[39m\u001b[39m.\u001b[39m_forward_pre_hooks \u001b[39mor\u001b[39;00m _global_backward_hooks\n\u001b[0;32m   1129\u001b[0m         \u001b[39mor\u001b[39;00m _global_forward_hooks \u001b[39mor\u001b[39;00m _global_forward_pre_hooks):\n\u001b[1;32m-> 1130\u001b[0m     \u001b[39mreturn\u001b[39;00m forward_call(\u001b[39m*\u001b[39;49m\u001b[39minput\u001b[39;49m, \u001b[39m*\u001b[39;49m\u001b[39m*\u001b[39;49mkwargs)\n\u001b[0;32m   1131\u001b[0m \u001b[39m# Do not call functions when jit is used\u001b[39;00m\n\u001b[0;32m   1132\u001b[0m full_backward_hooks, non_full_backward_hooks \u001b[39m=\u001b[39m [], []\n",
      "\u001b[1;32me:\\研究生资料\\研一小学期\\5217\\ass2\\code_32749112.ipynb Cell 19\u001b[0m in \u001b[0;36mDecoderLSTM.forward\u001b[1;34m(self, input, hidden, cell)\u001b[0m\n\u001b[0;32m     <a href='vscode-notebook-cell:/e%3A/%E7%A0%94%E7%A9%B6%E7%94%9F%E8%B5%84%E6%96%99/%E7%A0%94%E4%B8%80%E5%B0%8F%E5%AD%A6%E6%9C%9F/5217/ass2/code_32749112.ipynb#X24sZmlsZQ%3D%3D?line=13'>14</a>\u001b[0m \u001b[39mdef\u001b[39;00m \u001b[39mforward\u001b[39m(\u001b[39mself\u001b[39m, \u001b[39minput\u001b[39m, hidden, cell):\n\u001b[0;32m     <a href='vscode-notebook-cell:/e%3A/%E7%A0%94%E7%A9%B6%E7%94%9F%E8%B5%84%E6%96%99/%E7%A0%94%E4%B8%80%E5%B0%8F%E5%AD%A6%E6%9C%9F/5217/ass2/code_32749112.ipynb#X24sZmlsZQ%3D%3D?line=14'>15</a>\u001b[0m     embedded \u001b[39m=\u001b[39m \u001b[39mself\u001b[39m\u001b[39m.\u001b[39membedding(\u001b[39minput\u001b[39m)\u001b[39m.\u001b[39mview(\u001b[39m1\u001b[39m, \u001b[39m1\u001b[39m, \u001b[39m-\u001b[39m\u001b[39m1\u001b[39m)  \n\u001b[1;32m---> <a href='vscode-notebook-cell:/e%3A/%E7%A0%94%E7%A9%B6%E7%94%9F%E8%B5%84%E6%96%99/%E7%A0%94%E4%B8%80%E5%B0%8F%E5%AD%A6%E6%9C%9F/5217/ass2/code_32749112.ipynb#X24sZmlsZQ%3D%3D?line=15'>16</a>\u001b[0m     embedded \u001b[39m=\u001b[39m \u001b[39mself\u001b[39;49m\u001b[39m.\u001b[39;49mdropout(embedded)         \n\u001b[0;32m     <a href='vscode-notebook-cell:/e%3A/%E7%A0%94%E7%A9%B6%E7%94%9F%E8%B5%84%E6%96%99/%E7%A0%94%E4%B8%80%E5%B0%8F%E5%AD%A6%E6%9C%9F/5217/ass2/code_32749112.ipynb#X24sZmlsZQ%3D%3D?line=16'>17</a>\u001b[0m     output, (hidden, cell) \u001b[39m=\u001b[39m \u001b[39mself\u001b[39m\u001b[39m.\u001b[39mrnn(embedded, (hidden, cell))\n\u001b[0;32m     <a href='vscode-notebook-cell:/e%3A/%E7%A0%94%E7%A9%B6%E7%94%9F%E8%B5%84%E6%96%99/%E7%A0%94%E4%B8%80%E5%B0%8F%E5%AD%A6%E6%9C%9F/5217/ass2/code_32749112.ipynb#X24sZmlsZQ%3D%3D?line=17'>18</a>\u001b[0m     prediction \u001b[39m=\u001b[39m \u001b[39mself\u001b[39m\u001b[39m.\u001b[39mfc_out(output\u001b[39m.\u001b[39msqueeze(\u001b[39m0\u001b[39m))\n",
      "File \u001b[1;32mF:\\Anaconda3\\envs\\torch\\lib\\site-packages\\torch\\nn\\modules\\module.py:1130\u001b[0m, in \u001b[0;36mModule._call_impl\u001b[1;34m(self, *input, **kwargs)\u001b[0m\n\u001b[0;32m   1126\u001b[0m \u001b[39m# If we don't have any hooks, we want to skip the rest of the logic in\u001b[39;00m\n\u001b[0;32m   1127\u001b[0m \u001b[39m# this function, and just call forward.\u001b[39;00m\n\u001b[0;32m   1128\u001b[0m \u001b[39mif\u001b[39;00m \u001b[39mnot\u001b[39;00m (\u001b[39mself\u001b[39m\u001b[39m.\u001b[39m_backward_hooks \u001b[39mor\u001b[39;00m \u001b[39mself\u001b[39m\u001b[39m.\u001b[39m_forward_hooks \u001b[39mor\u001b[39;00m \u001b[39mself\u001b[39m\u001b[39m.\u001b[39m_forward_pre_hooks \u001b[39mor\u001b[39;00m _global_backward_hooks\n\u001b[0;32m   1129\u001b[0m         \u001b[39mor\u001b[39;00m _global_forward_hooks \u001b[39mor\u001b[39;00m _global_forward_pre_hooks):\n\u001b[1;32m-> 1130\u001b[0m     \u001b[39mreturn\u001b[39;00m forward_call(\u001b[39m*\u001b[39;49m\u001b[39minput\u001b[39;49m, \u001b[39m*\u001b[39;49m\u001b[39m*\u001b[39;49mkwargs)\n\u001b[0;32m   1131\u001b[0m \u001b[39m# Do not call functions when jit is used\u001b[39;00m\n\u001b[0;32m   1132\u001b[0m full_backward_hooks, non_full_backward_hooks \u001b[39m=\u001b[39m [], []\n",
      "File \u001b[1;32mF:\\Anaconda3\\envs\\torch\\lib\\site-packages\\torch\\nn\\modules\\dropout.py:58\u001b[0m, in \u001b[0;36mDropout.forward\u001b[1;34m(self, input)\u001b[0m\n\u001b[0;32m     57\u001b[0m \u001b[39mdef\u001b[39;00m \u001b[39mforward\u001b[39m(\u001b[39mself\u001b[39m, \u001b[39minput\u001b[39m: Tensor) \u001b[39m-\u001b[39m\u001b[39m>\u001b[39m Tensor:\n\u001b[1;32m---> 58\u001b[0m     \u001b[39mreturn\u001b[39;00m F\u001b[39m.\u001b[39;49mdropout(\u001b[39minput\u001b[39;49m, \u001b[39mself\u001b[39;49m\u001b[39m.\u001b[39;49mp, \u001b[39mself\u001b[39;49m\u001b[39m.\u001b[39;49mtraining, \u001b[39mself\u001b[39;49m\u001b[39m.\u001b[39;49minplace)\n",
      "File \u001b[1;32mF:\\Anaconda3\\envs\\torch\\lib\\site-packages\\torch\\nn\\functional.py:1252\u001b[0m, in \u001b[0;36mdropout\u001b[1;34m(input, p, training, inplace)\u001b[0m\n\u001b[0;32m   1250\u001b[0m \u001b[39mif\u001b[39;00m p \u001b[39m<\u001b[39m \u001b[39m0.0\u001b[39m \u001b[39mor\u001b[39;00m p \u001b[39m>\u001b[39m \u001b[39m1.0\u001b[39m:\n\u001b[0;32m   1251\u001b[0m     \u001b[39mraise\u001b[39;00m \u001b[39mValueError\u001b[39;00m(\u001b[39m\"\u001b[39m\u001b[39mdropout probability has to be between 0 and 1, \u001b[39m\u001b[39m\"\u001b[39m \u001b[39m\"\u001b[39m\u001b[39mbut got \u001b[39m\u001b[39m{}\u001b[39;00m\u001b[39m\"\u001b[39m\u001b[39m.\u001b[39mformat(p))\n\u001b[1;32m-> 1252\u001b[0m \u001b[39mreturn\u001b[39;00m _VF\u001b[39m.\u001b[39mdropout_(\u001b[39minput\u001b[39m, p, training) \u001b[39mif\u001b[39;00m inplace \u001b[39melse\u001b[39;00m _VF\u001b[39m.\u001b[39;49mdropout(\u001b[39minput\u001b[39;49m, p, training)\n",
      "\u001b[1;31mKeyboardInterrupt\u001b[0m: "
     ]
    }
   ],
   "source": [
    "train_process = trainIters(encoder1, decoder1, 15000, print_every=100, batch_size = batch_size)"
   ]
  },
  {
   "cell_type": "code",
   "execution_count": 72,
   "metadata": {},
   "outputs": [],
   "source": [
    "torch.save(encoder1,'encoder1.pt')\n",
    "torch.save(decoder1,'decoder1.pt')\n",
    "\n",
    "f = open(\"train_process.txt\", 'w+')\n",
    "for p in train_process:\n",
    "    f.write(str(p[0])+ ' ' + str(p[1]) + '\\n')"
   ]
  },
  {
   "cell_type": "code",
   "execution_count": 21,
   "metadata": {},
   "outputs": [],
   "source": [
    "def evaluate(encoder, decoder, sentence, max_length=MAX_LENGTH):\n",
    "    with torch.no_grad():\n",
    "        input_tensor = tensorFromSentence(lang, sentence)\n",
    "        input_length = input_tensor.size()[0]\n",
    "        encoder_hidden, encoder_cell = encoder.initHidden()\n",
    "\n",
    "        encoder_outputs = torch.zeros(max_length, encoder.hid_dim, device=device)\n",
    "\n",
    "        for ei in range(input_length):\n",
    "            encoder_output, encoder_hidden, encoder_cell = encoder(input_tensor[ei],\n",
    "                                                     encoder_hidden, encoder_cell)\n",
    "            encoder_outputs[ei] += encoder_output[0, 0]\n",
    "\n",
    "        decoder_input = torch.tensor([[SOS_token]], device=device)  # SOS\n",
    "\n",
    "        decoder_hidden = encoder_hidden\n",
    "        decoder_cell = encoder_cell\n",
    "\n",
    "        decoded_words = []\n",
    "        decoder_attentions = torch.zeros(max_length, max_length)\n",
    "\n",
    "        for di in range(max_length):\n",
    "            decoder_output, decoder_hidden, decoder_cell = decoder(\n",
    "                decoder_input, decoder_hidden, decoder_cell)\n",
    "            topv, topi = decoder_output.data.topk(1)\n",
    "            if topi.item() == EOS_token:\n",
    "                decoded_words.append('<EOS>')\n",
    "                break\n",
    "            else:\n",
    "                decoded_words.append(lang.index2word[topi.item()])\n",
    "\n",
    "            decoder_input = topi.squeeze().detach()\n",
    "\n",
    "        return decoded_words"
   ]
  },
  {
   "cell_type": "code",
   "execution_count": 22,
   "metadata": {},
   "outputs": [],
   "source": [
    "def evaluateRandomly(encoder, decoder, n=2):\n",
    "    for i in range(n):\n",
    "        pair = random.choice(pairs_test)\n",
    "        print('>', pair[0])\n",
    "        print('=', pair[1])\n",
    "        output_words= evaluate(encoder, decoder, pair[0])\n",
    "        output_sentence = ' '.join(output_words)\n",
    "        print('<', output_sentence)\n",
    "        print('')"
   ]
  },
  {
   "cell_type": "markdown",
   "metadata": {},
   "source": [
    "# model with attetion define and train"
   ]
  },
  {
   "cell_type": "code",
   "execution_count": 65,
   "metadata": {},
   "outputs": [],
   "source": [
    "class AttnDecoderLSTM(nn.Module):\n",
    "    def __init__(self, output_dim, emb_dim, hid_dim, n_layers, dropout, max_length=MAX_LENGTH):\n",
    "        super(AttnDecoderLSTM, self).__init__()\n",
    "        self.output_dim = output_dim\n",
    "        self.hid_dim = hid_dim\n",
    "        self.n_layers = n_layers\n",
    "        self.max_length = max_length\n",
    "\n",
    "        self.embedding = nn.Embedding(output_dim, emb_dim) \n",
    "        self.rnn = nn.LSTM(emb_dim, hid_dim, n_layers, dropout = dropout, batch_first=True)\n",
    "        self.attn = nn.Linear(self.hid_dim * 2, self.max_length)\n",
    "        self.attn_combine = nn.Linear(self.hid_dim * 2, self.hid_dim)\n",
    "        self.fc_out = nn.Linear(hid_dim, output_dim)\n",
    "        self.dropout = nn.Dropout(dropout)\n",
    "        self.softmax = nn.LogSoftmax(dim=1)\n",
    "\n",
    "\n",
    "    def forward(self, input, hidden, cell, encoder_outputs):\n",
    "        embedded = self.embedding(input).view(1, 1, -1)  \n",
    "        embedded = self.dropout(embedded)  \n",
    "\n",
    "        attn_weights = F.softmax(\n",
    "            self.attn(torch.cat((embedded[0], hidden[0]), 1)), dim=1)\n",
    "        attn_applied = torch.bmm(attn_weights.unsqueeze(0),\n",
    "                                 encoder_outputs.unsqueeze(0))\n",
    "\n",
    "        output = torch.cat((embedded[0], attn_applied[0]), 1)\n",
    "        output = self.attn_combine(output).unsqueeze(0)\n",
    "        output = F.relu(output)\n",
    "\n",
    "        output, (hidden, cell) = self.rnn(embedded, (hidden, cell))\n",
    "        prediction = self.fc_out(output.squeeze(0))\n",
    "        prediction = self.softmax(prediction)\n",
    "        \n",
    "        return prediction, hidden, cell, attn_weights\n",
    "    \n",
    "    def initHidden(self):\n",
    "        return torch.zeros(1, 1, self.hid_dim, device=device),torch.zeros(1, 1, self.hid_dim, device=device)\n",
    "    "
   ]
  },
  {
   "cell_type": "code",
   "execution_count": 66,
   "metadata": {},
   "outputs": [],
   "source": [
    "teacher_forcing_ratio = 1\n",
    "\n",
    "\n",
    "def train_attn(input_tensor, target_tensor, encoder, decoder, criterion, max_length=MAX_LENGTH):\n",
    "    encoder_hidden, encoder_cell = encoder.initHidden()\n",
    "\n",
    "    input_length = input_tensor.size(0)\n",
    "    target_length = target_tensor.size(0)\n",
    "\n",
    "    encoder_outputs = torch.zeros(max_length, encoder.hid_dim, device=device)\n",
    "\n",
    "    loss = 0\n",
    "\n",
    "    for ei in range(input_length):\n",
    "        encoder_output, encoder_hidden, encoder_cell = encoder(\n",
    "            input_tensor[ei], encoder_hidden, encoder_cell)\n",
    "        encoder_outputs[ei] = encoder_output[0, 0]\n",
    "\n",
    "    decoder_input = torch.tensor([[SOS_token]], device=device)\n",
    "\n",
    "    decoder_hidden = encoder_hidden\n",
    "    decoder_cell = encoder_cell\n",
    "\n",
    "    use_teacher_forcing = True if random.random() < teacher_forcing_ratio else False\n",
    "\n",
    "    if use_teacher_forcing:\n",
    "        # Teacher forcing: Feed the target as the next input\n",
    "        for di in range(target_length):\n",
    "            decoder_output, decoder_hidden, decoder_cell, decoder_attention = decoder(\n",
    "                decoder_input, decoder_hidden, decoder_cell, encoder_outputs)\n",
    "            loss += criterion(decoder_output, target_tensor[di])\n",
    "            decoder_input = target_tensor[di]  # Teacher forcing\n",
    "\n",
    "    else:\n",
    "        # Without teacher forcing: use its own predictions as the next input\n",
    "        for di in range(target_length):\n",
    "            decoder_output, decoder_hidden, decoder_cell, decoder_attention = decoder(\n",
    "                decoder_input, decoder_hidden, decoder_cell, encoder_outputs)\n",
    "            topv, topi = decoder_output.topk(1)\n",
    "            decoder_input = topi.squeeze().detach()  # detach from history as input\n",
    "\n",
    "            loss += criterion(decoder_output, target_tensor[di])\n",
    "            if decoder_input.item() == EOS_token:\n",
    "                break\n",
    "\n",
    "    return loss\n"
   ]
  },
  {
   "cell_type": "code",
   "execution_count": 67,
   "metadata": {},
   "outputs": [],
   "source": [
    "def trainIters_attn(encoder, decoder, n_iters, print_every=1000, plot_every=100, learning_rate=0.01, batch_size = 10):\n",
    "    start = time.time()\n",
    "    plot_losses = []\n",
    "    print_loss_total = 0  # Reset every print_every\n",
    "    plot_loss_total = 0  # Reset every plot_every\n",
    "\n",
    "    encoder_optimizer = optim.SGD(encoder.parameters(), lr=learning_rate)\n",
    "    decoder_optimizer = optim.SGD(decoder.parameters(), lr=learning_rate)\n",
    "    training_pairs = [tensorsFromPair(lang, random.choice(pairs))\n",
    "                      for i in range(n_iters)]\n",
    "    \n",
    "    dev_pairs = [tensorsFromPair(lang, pair) for pair in pairs_dev]\n",
    "    \n",
    "    criterion = nn.NLLLoss()\n",
    "    loss = 0\n",
    "    for iter in range(1, n_iters+1):\n",
    "        training_pair = training_pairs[iter - 1]\n",
    "        input_tensor = training_pair[0]\n",
    "        target_tensor = training_pair[1]\n",
    "\n",
    "        cur_loss = train_attn(input_tensor, target_tensor, encoder,\n",
    "                     decoder, criterion)\n",
    "        loss += cur_loss\n",
    "\n",
    "\n",
    "        print_loss_total += cur_loss.item() / target_tensor.size(0)\n",
    "        plot_loss_total += cur_loss.item() / target_tensor.size(0)\n",
    "\n",
    "        if iter % print_every == 0:\n",
    "            dev_loss = 0\n",
    "            with torch.no_grad():\n",
    "                for dev_pair in dev_pairs:\n",
    "                    input_tensor = dev_pair[0]\n",
    "                    target_tensor = dev_pair[1]\n",
    "                    dev_loss += train_attn(input_tensor, target_tensor, encoder,\n",
    "                        decoder, criterion) / target_tensor.size(0)\n",
    "            dev_loss = dev_loss.item() / len(dev_pairs)\n",
    "\n",
    "            print_loss_avg = print_loss_total / print_every\n",
    "            print_loss_total = 0\n",
    "            print('%s (%d %d%%) train: %.4f dev: %.4f' % (timeSince(start, iter / n_iters),\n",
    "                                         iter, iter / n_iters * 100, print_loss_avg, dev_loss))\n",
    "\n",
    "        if iter % plot_every == 0:\n",
    "            dev_loss = 0\n",
    "            with torch.no_grad():\n",
    "                for dev_pair in dev_pairs:\n",
    "                    input_tensor = dev_pair[0]\n",
    "                    target_tensor = dev_pair[1]\n",
    "                    dev_loss += train_attn(input_tensor, target_tensor, encoder,\n",
    "                        decoder, criterion) / target_tensor.size(0)\n",
    "            dev_loss = dev_loss.item() / len(dev_pairs)\n",
    "\n",
    "            plot_loss_avg = plot_loss_total / plot_every\n",
    "            plot_losses.append([plot_loss_avg, dev_loss])\n",
    "            plot_loss_total = 0\n",
    "            \n",
    "        if iter % batch_size:\n",
    "            encoder_optimizer.zero_grad()\n",
    "            decoder_optimizer.zero_grad()\n",
    "            loss.backward()\n",
    "            encoder_optimizer.step()\n",
    "            decoder_optimizer.step()\n",
    "            loss = 0\n",
    "\n",
    "    # showPlot(plot_losses)\n",
    "    return plot_losses"
   ]
  },
  {
   "cell_type": "code",
   "execution_count": 68,
   "metadata": {},
   "outputs": [],
   "source": [
    "encoder = EncoderLSTM(input_dim, emb_dim, hid_dim, n_layers, dropout).to(device)\n",
    "attn_decoder = AttnDecoderLSTM(output_dim, hid_dim, hid_dim, n_layers, dropout, MAX_LENGTH).to(device)"
   ]
  },
  {
   "cell_type": "code",
   "execution_count": 69,
   "metadata": {},
   "outputs": [
    {
     "name": "stdout",
     "output_type": "stream",
     "text": [
      "1m 25s (- 213m 29s) (100 0%) train: 8.9125 dev: 7.7972\n",
      "3m 32s (- 261m 31s) (200 1%) train: 6.7749 dev: 6.5390\n",
      "5m 37s (- 275m 30s) (300 2%) train: 6.1857 dev: 5.7561\n",
      "7m 43s (- 281m 58s) (400 2%) train: 5.6621 dev: 5.5736\n",
      "9m 51s (- 286m 4s) (500 3%) train: 5.9334 dev: 5.6216\n",
      "11m 56s (- 286m 35s) (600 4%) train: 5.3471 dev: 5.2093\n",
      "14m 5s (- 287m 43s) (700 4%) train: 5.3117 dev: 5.1270\n",
      "16m 12s (- 287m 47s) (800 5%) train: 5.0588 dev: 5.0043\n",
      "18m 14s (- 285m 43s) (900 6%) train: 4.8448 dev: 4.9164\n",
      "20m 11s (- 282m 35s) (1000 6%) train: 5.0260 dev: 5.1612\n",
      "22m 8s (- 279m 53s) (1100 7%) train: 4.8724 dev: 4.7910\n",
      "24m 11s (- 278m 9s) (1200 8%) train: 4.7923 dev: 4.7703\n",
      "26m 10s (- 275m 54s) (1300 8%) train: 4.7942 dev: 4.6463\n",
      "28m 13s (- 274m 6s) (1400 9%) train: 4.6441 dev: 4.6719\n",
      "30m 13s (- 271m 57s) (1500 10%) train: 4.7660 dev: 4.6420\n",
      "32m 10s (- 269m 26s) (1600 10%) train: 4.6134 dev: 4.5838\n",
      "34m 9s (- 267m 11s) (1700 11%) train: 4.6917 dev: 4.5280\n",
      "36m 9s (- 265m 10s) (1800 12%) train: 4.5222 dev: 4.5071\n",
      "38m 8s (- 263m 0s) (1900 12%) train: 4.5316 dev: 4.7110\n",
      "40m 10s (- 261m 7s) (2000 13%) train: 4.5591 dev: 4.4720\n",
      "42m 9s (- 258m 57s) (2100 14%) train: 4.2938 dev: 4.5384\n",
      "44m 9s (- 256m 57s) (2200 14%) train: 4.4930 dev: 4.4285\n",
      "46m 7s (- 254m 39s) (2300 15%) train: 4.2951 dev: 4.3874\n",
      "48m 7s (- 252m 40s) (2400 16%) train: 4.4111 dev: 4.4053\n",
      "50m 7s (- 250m 35s) (2500 16%) train: 4.2387 dev: 4.3423\n",
      "52m 8s (- 248m 39s) (2600 17%) train: 4.1265 dev: 4.3332\n",
      "54m 8s (- 246m 37s) (2700 18%) train: 4.0960 dev: 4.3858\n",
      "56m 7s (- 244m 34s) (2800 18%) train: 4.3290 dev: 4.2862\n",
      "58m 6s (- 242m 25s) (2900 19%) train: 4.4416 dev: 4.2624\n",
      "60m 6s (- 240m 24s) (3000 20%) train: 4.2906 dev: 4.2452\n",
      "62m 7s (- 238m 28s) (3100 20%) train: 4.3819 dev: 4.2781\n",
      "64m 8s (- 236m 30s) (3200 21%) train: 4.3199 dev: 4.2141\n",
      "66m 14s (- 234m 52s) (3300 22%) train: 4.1531 dev: 4.2368\n",
      "68m 18s (- 233m 4s) (3400 22%) train: 4.1657 dev: 4.2026\n",
      "70m 26s (- 231m 27s) (3500 23%) train: 4.1381 dev: 4.2562\n",
      "72m 31s (- 229m 38s) (3600 24%) train: 4.0526 dev: 4.2399\n",
      "74m 35s (- 227m 48s) (3700 24%) train: 3.9303 dev: 4.1757\n",
      "76m 43s (- 226m 8s) (3800 25%) train: 3.9698 dev: 4.1803\n",
      "78m 50s (- 224m 24s) (3900 26%) train: 4.0417 dev: 4.2048\n",
      "80m 57s (- 222m 36s) (4000 26%) train: 4.0748 dev: 4.1702\n",
      "83m 1s (- 220m 42s) (4100 27%) train: 4.0607 dev: 4.1164\n",
      "85m 7s (- 218m 53s) (4200 28%) train: 4.2054 dev: 4.1378\n",
      "87m 14s (- 217m 5s) (4300 28%) train: 4.0228 dev: 4.1037\n",
      "89m 20s (- 215m 13s) (4400 29%) train: 3.9039 dev: 4.1176\n",
      "91m 29s (- 213m 29s) (4500 30%) train: 3.9707 dev: 4.0969\n",
      "93m 33s (- 211m 31s) (4600 30%) train: 4.3009 dev: 4.1315\n",
      "95m 38s (- 209m 36s) (4700 31%) train: 4.0901 dev: 4.0766\n",
      "97m 46s (- 207m 46s) (4800 32%) train: 4.0128 dev: 4.1041\n",
      "99m 52s (- 205m 51s) (4900 32%) train: 4.1453 dev: 4.0913\n",
      "101m 57s (- 203m 55s) (5000 33%) train: 3.8842 dev: 4.0750\n",
      "104m 3s (- 202m 0s) (5100 34%) train: 3.9604 dev: 4.0159\n",
      "106m 12s (- 200m 9s) (5200 34%) train: 3.9546 dev: 4.0637\n",
      "108m 19s (- 198m 15s) (5300 35%) train: 4.0576 dev: 4.0168\n",
      "110m 22s (- 196m 14s) (5400 36%) train: 4.0348 dev: 4.0158\n",
      "112m 25s (- 194m 11s) (5500 36%) train: 3.8780 dev: 3.9923\n",
      "114m 26s (- 192m 5s) (5600 37%) train: 4.0805 dev: 4.0324\n",
      "116m 26s (- 189m 59s) (5700 38%) train: 3.8947 dev: 4.0129\n",
      "118m 27s (- 187m 53s) (5800 38%) train: 3.7274 dev: 4.0483\n",
      "120m 28s (- 185m 48s) (5900 39%) train: 4.1849 dev: 4.0012\n",
      "122m 29s (- 183m 44s) (6000 40%) train: 3.9843 dev: 4.0193\n",
      "124m 30s (- 181m 40s) (6100 40%) train: 3.7252 dev: 3.9774\n",
      "126m 26s (- 179m 28s) (6200 41%) train: 3.8258 dev: 3.9978\n",
      "128m 25s (- 177m 21s) (6300 42%) train: 3.8397 dev: 3.9474\n",
      "130m 26s (- 175m 17s) (6400 42%) train: 3.9538 dev: 3.9663\n",
      "132m 24s (- 173m 9s) (6500 43%) train: 3.8181 dev: 3.9586\n",
      "134m 25s (- 171m 4s) (6600 44%) train: 3.9905 dev: 3.9922\n",
      "136m 24s (- 168m 59s) (6700 44%) train: 3.5762 dev: 3.9479\n",
      "138m 22s (- 166m 52s) (6800 45%) train: 3.8450 dev: 3.9449\n",
      "140m 23s (- 164m 48s) (6900 46%) train: 3.9064 dev: 3.9258\n",
      "142m 23s (- 162m 43s) (7000 46%) train: 3.8554 dev: 3.9194\n",
      "144m 22s (- 160m 38s) (7100 47%) train: 3.9886 dev: 3.9250\n",
      "146m 22s (- 158m 34s) (7200 48%) train: 3.8260 dev: 3.9450\n",
      "148m 23s (- 156m 30s) (7300 48%) train: 3.9359 dev: 3.9030\n",
      "150m 24s (- 154m 28s) (7400 49%) train: 3.5213 dev: 3.9373\n",
      "152m 23s (- 152m 23s) (7500 50%) train: 3.8712 dev: 3.9139\n",
      "154m 24s (- 150m 20s) (7600 50%) train: 3.8781 dev: 3.9047\n",
      "156m 25s (- 148m 17s) (7700 51%) train: 3.7589 dev: 3.8948\n",
      "158m 27s (- 146m 16s) (7800 52%) train: 3.8425 dev: 3.9445\n",
      "160m 29s (- 144m 14s) (7900 52%) train: 3.8668 dev: 3.8738\n",
      "162m 34s (- 142m 15s) (8000 53%) train: 3.7795 dev: 3.9179\n",
      "164m 40s (- 140m 16s) (8100 54%) train: 3.7546 dev: 3.8926\n",
      "166m 44s (- 138m 16s) (8200 54%) train: 3.8198 dev: 3.8809\n",
      "168m 47s (- 136m 15s) (8300 55%) train: 3.6451 dev: 3.8744\n",
      "170m 53s (- 134m 16s) (8400 56%) train: 3.7867 dev: 3.8841\n",
      "172m 58s (- 132m 16s) (8500 56%) train: 3.6267 dev: 3.8700\n",
      "175m 3s (- 130m 16s) (8600 57%) train: 3.7987 dev: 3.8553\n",
      "177m 9s (- 128m 17s) (8700 57%) train: 3.8896 dev: 3.8742\n",
      "179m 15s (- 126m 17s) (8800 58%) train: 3.8261 dev: 3.8339\n",
      "181m 18s (- 124m 16s) (8900 59%) train: 3.9723 dev: 3.8281\n",
      "183m 24s (- 122m 16s) (9000 60%) train: 3.7011 dev: 3.8638\n",
      "185m 28s (- 120m 15s) (9100 60%) train: 3.7840 dev: 3.8368\n",
      "187m 34s (- 118m 15s) (9200 61%) train: 3.7245 dev: 3.8206\n",
      "189m 38s (- 116m 14s) (9300 62%) train: 3.6886 dev: 3.8198\n",
      "191m 44s (- 114m 13s) (9400 62%) train: 3.6936 dev: 3.8441\n",
      "193m 49s (- 112m 12s) (9500 63%) train: 3.6149 dev: 3.8142\n",
      "195m 53s (- 110m 11s) (9600 64%) train: 3.5589 dev: 3.8086\n",
      "197m 57s (- 108m 9s) (9700 64%) train: 3.7232 dev: 3.8154\n",
      "200m 1s (- 106m 8s) (9800 65%) train: 3.7901 dev: 3.8115\n",
      "202m 3s (- 104m 5s) (9900 66%) train: 3.6246 dev: 3.8121\n",
      "204m 5s (- 102m 2s) (10000 66%) train: 3.6537 dev: 3.8382\n",
      "206m 12s (- 100m 2s) (10100 67%) train: 3.6950 dev: 3.8322\n",
      "208m 18s (- 98m 1s) (10200 68%) train: 3.5690 dev: 3.8557\n",
      "210m 18s (- 95m 57s) (10300 68%) train: 3.8030 dev: 3.8019\n",
      "212m 19s (- 93m 54s) (10400 69%) train: 3.7293 dev: 3.8021\n",
      "214m 17s (- 91m 50s) (10500 70%) train: 3.5426 dev: 3.7998\n",
      "216m 15s (- 89m 46s) (10600 70%) train: 3.7923 dev: 3.7713\n",
      "218m 15s (- 87m 42s) (10700 71%) train: 3.7153 dev: 3.8079\n",
      "220m 14s (- 85m 38s) (10800 72%) train: 3.5963 dev: 3.8611\n",
      "222m 15s (- 83m 36s) (10900 72%) train: 3.5845 dev: 3.7796\n",
      "224m 15s (- 81m 32s) (11000 73%) train: 3.8674 dev: 3.7642\n",
      "226m 11s (- 79m 28s) (11100 74%) train: 3.6681 dev: 3.8021\n",
      "228m 7s (- 77m 24s) (11200 74%) train: 3.8178 dev: 3.8034\n",
      "230m 7s (- 75m 21s) (11300 75%) train: 3.6825 dev: 3.8033\n",
      "232m 8s (- 73m 18s) (11400 76%) train: 3.7622 dev: 3.8145\n",
      "234m 5s (- 71m 14s) (11500 76%) train: 3.6021 dev: 3.7530\n",
      "236m 3s (- 69m 11s) (11600 77%) train: 3.5481 dev: 3.7638\n",
      "238m 1s (- 67m 8s) (11700 78%) train: 3.4950 dev: 3.7672\n",
      "240m 3s (- 65m 5s) (11800 78%) train: 3.8601 dev: 3.7575\n",
      "242m 2s (- 63m 3s) (11900 79%) train: 3.6306 dev: 3.7632\n",
      "244m 3s (- 61m 0s) (12000 80%) train: 3.5618 dev: 3.7528\n",
      "246m 0s (- 58m 57s) (12100 80%) train: 3.7130 dev: 3.7741\n",
      "248m 1s (- 56m 55s) (12200 81%) train: 3.5849 dev: 3.7287\n",
      "250m 3s (- 54m 53s) (12300 82%) train: 3.4854 dev: 3.7431\n",
      "252m 1s (- 52m 50s) (12400 82%) train: 3.6292 dev: 3.7528\n",
      "254m 1s (- 50m 48s) (12500 83%) train: 3.7823 dev: 3.7375\n",
      "256m 1s (- 48m 45s) (12600 84%) train: 3.5007 dev: 3.7604\n",
      "258m 2s (- 46m 43s) (12700 84%) train: 3.7132 dev: 3.7379\n",
      "260m 7s (- 44m 42s) (12800 85%) train: 3.5275 dev: 3.7690\n",
      "262m 12s (- 42m 41s) (12900 86%) train: 3.5305 dev: 3.7336\n",
      "264m 15s (- 40m 39s) (13000 86%) train: 3.4743 dev: 3.7087\n",
      "266m 18s (- 38m 37s) (13100 87%) train: 3.7025 dev: 3.7367\n",
      "268m 22s (- 36m 35s) (13200 88%) train: 3.6854 dev: 3.7195\n",
      "270m 26s (- 34m 34s) (13300 88%) train: 3.7162 dev: 3.7152\n",
      "272m 28s (- 32m 32s) (13400 89%) train: 3.6328 dev: 3.7130\n",
      "274m 32s (- 30m 30s) (13500 90%) train: 3.6101 dev: 3.7262\n",
      "276m 37s (- 28m 28s) (13600 90%) train: 3.5782 dev: 3.7292\n",
      "278m 40s (- 26m 26s) (13700 91%) train: 3.5264 dev: 3.7449\n",
      "280m 46s (- 24m 24s) (13800 92%) train: 3.6336 dev: 3.7096\n",
      "282m 52s (- 22m 23s) (13900 92%) train: 3.5518 dev: 3.7309\n",
      "284m 55s (- 20m 21s) (14000 93%) train: 3.5573 dev: 3.7064\n",
      "287m 0s (- 18m 19s) (14100 94%) train: 3.5469 dev: 3.7287\n",
      "289m 4s (- 16m 17s) (14200 94%) train: 3.7250 dev: 3.7106\n",
      "291m 9s (- 14m 15s) (14300 95%) train: 3.6085 dev: 3.7112\n",
      "293m 16s (- 12m 13s) (14400 96%) train: 3.5549 dev: 3.7130\n",
      "295m 19s (- 10m 11s) (14500 96%) train: 3.3959 dev: 3.7066\n",
      "297m 26s (- 8m 8s) (14600 97%) train: 3.5508 dev: 3.7633\n",
      "299m 31s (- 6m 6s) (14700 98%) train: 3.7086 dev: 3.7059\n",
      "301m 34s (- 4m 4s) (14800 98%) train: 3.5232 dev: 3.7189\n",
      "303m 40s (- 2m 2s) (14900 99%) train: 3.6149 dev: 3.6970\n",
      "305m 42s (- 0m 0s) (15000 100%) train: 3.4068 dev: 3.6875\n"
     ]
    }
   ],
   "source": [
    "att_train_process = trainIters_attn(encoder, attn_decoder, 15000, print_every = 100)"
   ]
  },
  {
   "cell_type": "code",
   "execution_count": 26,
   "metadata": {},
   "outputs": [],
   "source": [
    "# encoder = torch.load('encoder2.pt')\n",
    "# attn_decoder = torch.load('decoder2.pt')"
   ]
  },
  {
   "cell_type": "code",
   "execution_count": 74,
   "metadata": {},
   "outputs": [],
   "source": [
    "torch.save(encoder,'encoder2.pt')\n",
    "torch.save(attn_decoder,'decoder2.pt')\n",
    "\n",
    "f = open(\"att_train_process.txt\", 'w+')\n",
    "for p in att_train_process:\n",
    "    f.write(str(p[0])+ ' ' + str(p[1]) + '\\n')"
   ]
  },
  {
   "cell_type": "code",
   "execution_count": 27,
   "metadata": {},
   "outputs": [],
   "source": [
    "def evaluate_attn(encoder, decoder, sentence, max_length=MAX_LENGTH):\n",
    "    with torch.no_grad():\n",
    "        input_tensor = tensorFromSentence(input_lang, sentence)\n",
    "        input_length = input_tensor.size()[0]\n",
    "        encoder_hidden, encoder_cell = encoder.initHidden()\n",
    "\n",
    "        encoder_outputs = torch.zeros(max_length, encoder.hid_dim, device=device)\n",
    "\n",
    "        for ei in range(input_length):\n",
    "            encoder_output, encoder_hidden, encoder_cell = encoder(input_tensor[ei],\n",
    "                                                     encoder_hidden, encoder_cell)\n",
    "            encoder_outputs[ei] += encoder_output[0, 0]\n",
    "\n",
    "        decoder_input = torch.tensor([[SOS_token]], device=device)  # SOS\n",
    "\n",
    "        decoder_hidden = encoder_hidden\n",
    "        decoder_cell = encoder_cell\n",
    "\n",
    "        decoded_words = []\n",
    "        decoder_attentions = torch.zeros(max_length, max_length)\n",
    "\n",
    "        for di in range(max_length):\n",
    "            decoder_output, decoder_hidden, decoder_cell, decoder_attention = decoder(\n",
    "                decoder_input, decoder_hidden, decoder_cell, encoder_outputs)\n",
    "            decoder_attentions[di] = decoder_attention.data\n",
    "            topv, topi = decoder_output.data.topk(1)\n",
    "            if topi.item() == EOS_token:\n",
    "                decoded_words.append('<EOS>')\n",
    "                break\n",
    "            else:\n",
    "                decoded_words.append(lang.index2word[topi.item()])\n",
    "\n",
    "            decoder_input = topi.squeeze().detach()\n",
    "\n",
    "        return decoded_words, decoder_attentions[:di + 1]"
   ]
  },
  {
   "cell_type": "code",
   "execution_count": 28,
   "metadata": {},
   "outputs": [],
   "source": [
    "def evaluateRandomly_attn(encoder, decoder, n=2):\n",
    "    for i in range(n):\n",
    "        pair = random.choice(pairs)\n",
    "        print('>', pair[0])\n",
    "        print('=', pair[1])\n",
    "        output_words, attention= evaluate_attn(encoder, decoder, pair[0])\n",
    "        output_sentence = ' '.join(output_words)\n",
    "        print('<', output_sentence)\n",
    "        print('')"
   ]
  },
  {
   "cell_type": "code",
   "execution_count": 76,
   "metadata": {},
   "outputs": [
    {
     "name": "stdout",
     "output_type": "stream",
     "text": [
      "> ingredients: 1    four-pound chicken\t2 c  carrots, diced\t1 c  celery, diced\t1/4 c  cooking fat\t1/2 c  minced onion\t1 c  milk\t1 c  hot water\tsalt and pepper\t1    green pepper, chopped\tflour\n",
      "\n",
      "= cut chicken pieces . dredge with flour . brown in hot cooking fat . season with salt and pepper . place chicken in casserole . add water . cover . cook slowly until chicken is tender . add vegetables which have been browned in the cooking fat . cover . cook slowly until vegetables are tender . add water if necessary . remove chicken . combine milk and 2 tablespoons flour . mix until smooth . combine with vegetables and chicken broth . cook slowly , stirring constantly until smooth . serve with chicken . 8 servings . mrs. m. westrum , scarville , ia . \n",
      "< in a large bowl , combine all ingredients except cheese . in a bowl , combine flour , baking powder and salt . add flour and mix well . pour into greased muffin tins . bake at 350 degrees for 20 minutes .  <EOS>\n",
      "\n",
      "> ingredients: 1 pk sugar-free gelatin; any\t1/4 ts cinnamon flavor (4 serving size box)             mint\t3/4 c  -water; boiling\tapple;sliced thin\t1 3/4 c  applesauce; unsweetened but\tcinnamon sticks well chilled                  \n",
      "\n",
      "= prepare gelatin as usual using the applesauce instead of cold water . chill . garnish with a mint sprig , thin slices of apple and a small cinnamon stick . \n",
      "< in a large bowl , combine flour , sugar , baking powder and salt . add flour , and mix well . add flour and mix well . add flour and mix well . add water , stirring constantly . pour into greased loaf pan . bake at 350 degrees for 20 minutes .  <EOS>\n",
      "\n"
     ]
    }
   ],
   "source": [
    "evaluateRandomly_attn(encoder, attn_decoder)"
   ]
  },
  {
   "cell_type": "markdown",
   "metadata": {},
   "source": [
    "# loss plot"
   ]
  },
  {
   "cell_type": "code",
   "execution_count": 75,
   "metadata": {},
   "outputs": [
    {
     "data": {
      "image/png": "[encoded data removed]",
      "text/plain": [
       "<Figure size 576x360 with 1 Axes>"
      ]
     },
     "metadata": {
      "needs_background": "light"
     },
     "output_type": "display_data"
    }
   ],
   "source": [
    "att_train_process = np.array(att_train_process)\n",
    "train_process = np.array(train_process)\n",
    "plt.figure(figsize=(8, 5))\n",
    "\n",
    "x = [100 * (1 + i) for i in range(len(att_train_process))]\n",
    "plt.xlabel(\"iterations\")\n",
    "plt.ylabel(\"loss\")\n",
    "plt.plot(x, train_process[:,0], label = 'train loss')\n",
    "plt.plot(x, train_process[:,1], label = 'dev loss')\n",
    "plt.plot(x, att_train_process[:,0], label = 'att train loss')\n",
    "plt.plot(x, att_train_process[:,1], label = 'att dev loss')\n",
    "plt.legend()\n",
    "plt.show()"
   ]
  },
  {
   "cell_type": "code",
   "execution_count": 34,
   "metadata": {},
   "outputs": [
    {
     "name": "stderr",
     "output_type": "stream",
     "text": [
      "[nltk_data] Downloading package wordnet to\n",
      "[nltk_data]     C:\\Users\\Administrator\\AppData\\Roaming\\nltk_data...\n",
      "[nltk_data]   Unzipping corpora\\wordnet.zip.\n"
     ]
    },
    {
     "data": {
      "text/plain": [
       "True"
      ]
     },
     "execution_count": 34,
     "metadata": {},
     "output_type": "execute_result"
    }
   ],
   "source": [
    "import nltk\n",
    "\n",
    "nltk.download('wordnet')"
   ]
  },
  {
   "cell_type": "markdown",
   "metadata": {},
   "source": [
    "# Quantitative Evaluation"
   ]
  },
  {
   "cell_type": "code",
   "execution_count": 97,
   "metadata": {},
   "outputs": [],
   "source": [
    "def Quantitative_Evaluation(encoder, decoder, atten):\n",
    "    bleu_score = 0\n",
    "    for x, y in pairs_test:\n",
    "        if atten:\n",
    "            y_, a = evaluate_attn(encoder, decoder, x)\n",
    "        else:\n",
    "            y_ = evaluate(encoder, decoder, x)\n",
    "        y = y.split(' ')\n",
    "        bleu_score += nltk.translate.bleu_score.sentence_bleu(y_, y, smoothing_function=nltk.translate.bleu_score.SmoothingFunction().method1)\n",
    "\n",
    "    merteor_score  = 0\n",
    "    for x, y in pairs_test:\n",
    "        if atten:\n",
    "            y_, a = evaluate_attn(encoder, decoder, x)\n",
    "        else:\n",
    "            y_ = evaluate(encoder, decoder, x)\n",
    "        y = y.split(' ')\n",
    "        merteor_score  += nltk.translate.meteor_score.single_meteor_score(y_, y)\n",
    "    \n",
    "    avg_given  = 0\n",
    "    avg_extra  = 0\n",
    "    for x, y in pairs_test:\n",
    "        if atten:\n",
    "            y_, a = evaluate_attn(encoder, decoder, x)\n",
    "        else:\n",
    "            y_ = evaluate(encoder, decoder, x)\n",
    "        y = y.split(' ')\n",
    "        y = set(y)\n",
    "        y_ = set(y_)\n",
    "        avg_given += len(y_ & y) / len(y_)\n",
    "        avg_extra += len(y_ - y)\n",
    "        \n",
    "    print(avg_given /len(pairs_test))\n",
    "    print(avg_extra /len(pairs_test))\n",
    "    print(merteor_score /len(pairs_test))\n",
    "    print(bleu_score/len(pairs_test))\n"
   ]
  },
  {
   "cell_type": "code",
   "execution_count": 98,
   "metadata": {},
   "outputs": [
    {
     "name": "stdout",
     "output_type": "stream",
     "text": [
      "0.376930090143357\n",
      "15.571428571428571\n",
      "0.2481440169662675\n",
      "0.004453949840304741\n"
     ]
    }
   ],
   "source": [
    "Quantitative_Evaluation(encoder1, decoder1, False)"
   ]
  },
  {
   "cell_type": "code",
   "execution_count": 99,
   "metadata": {},
   "outputs": [
    {
     "name": "stdout",
     "output_type": "stream",
     "text": [
      "0.3755736051085988\n",
      "18.159147869674186\n",
      "0.23120818253495834\n",
      "0.00461299991025577\n"
     ]
    }
   ],
   "source": [
    "Quantitative_Evaluation(encoder, attn_decoder, True)"
   ]
  },
  {
   "cell_type": "markdown",
   "metadata": {},
   "source": [
    "# Qualitative Evaluation"
   ]
  },
  {
   "cell_type": "code",
   "execution_count": 134,
   "metadata": {},
   "outputs": [
    {
     "name": "stdout",
     "output_type": "stream",
     "text": [
      "in a large bowl , combine the remaining ingredients . mix well . add the remaining ingredients . cover and simmer for 30 minutes . remove from heat . add the rice and stir . add the rice and cook until the rice is tender . add the rice and stir . cover and simmer for 5 minutes . remove from heat . stir in the remaining ingredients . cover and simmer for 30 minutes . remove the bay leaf and serve .  <EOS>\n"
     ]
    }
   ],
   "source": [
    "sentence = \"10 oz chopped broccoli, 2 tbsp butter, 2 tbsp flour, 1/2 tsp salt, 1/4 tsp black pepper, 1/4 tsp ground nutmeg, 1 cup milk, 1 1/2 cup shredded swiss cheese, 2 tsp lemon juice, 2 cup cooked cubed turkey, 4 oz mushrooms, 1/4 cup grated cheese, 1 can refrigerated biscuits\"\n",
    "\n",
    "output_words= evaluate(encoder1, decoder1, sentence)\n",
    "output_sentence = ' '.join(output_words)\n",
    "print(output_sentence)\n"
   ]
  },
  {
   "cell_type": "code",
   "execution_count": 143,
   "metadata": {},
   "outputs": [
    {
     "name": "stdout",
     "output_type": "stream",
     "text": [
      "in a large bowl , combine the sugar , sugar , cinnamon , cinnamon , nutmeg , and nutmeg . mix well . add the flour , baking powder and salt . stir in the flour , baking powder and salt . stir in the flour . bring to a boil . remove from heat and stir in the nuts . pour over the cake . bake in a preheated oven for 30 minutes .  <EOS>\n"
     ]
    }
   ],
   "source": [
    "sentence = \"ingredients: 2 lb cream cheese, 1 3/4 cups sugar, 5 eggs, 15 oreo cookies, 1/2 tsp vanilla, 1/2 tsp almond extract\"\n",
    "\n",
    "output_words= evaluate(encoder1, decoder1, sentence)\n",
    "output_sentence = ' '.join(output_words)\n",
    "print(output_sentence)"
   ]
  },
  {
   "cell_type": "code",
   "execution_count": 167,
   "metadata": {},
   "outputs": [
    {
     "name": "stdout",
     "output_type": "stream",
     "text": [
      "in a large bowl , combine all ingredients except the oil . add the flour and mix well . add the flour and mix well . add the flour and mix well . add the flour and mix well . add the flour and mix well . add the milk and mix well . add the flour and mix well . add the flour and mix well . add the flour and mix well . add the flour and mix well . add the flour and mix well . add the egg yolks , one at a time , beating well after each addition . pour into a greased 9 x 13 x 9 x 13 pan . bake at 350 degrees for 20 minutes .  <EOS>\n"
     ]
    }
   ],
   "source": [
    "sentence = \"10 oz chopped broccoli, 2 tbsp butter, 2 tbsp flour, 1/2 tsp salt, 1/4 tsp black pepper, 1/4 tsp ground nutmeg, 1 cup milk, 1 1/2 cup shredded swiss cheese, 2 tsp lemon juice, 2 cup cooked cubed turkey, 4 oz mushrooms, 1/4 cup grated cheese, 1 can refrigerated biscuits\"\n",
    "\n",
    "output_words, output_attention = evaluate_attn(encoder1, attn_decoder, sentence)\n",
    "output_sentence = ' '.join(output_words)\n",
    "print(output_sentence)"
   ]
  },
  {
   "cell_type": "code",
   "execution_count": 151,
   "metadata": {},
   "outputs": [
    {
     "name": "stdout",
     "output_type": "stream",
     "text": [
      "in a large bowl , combine all ingredients except the oil in a bowl . add the oil and mix well . add the water and stir . add the water and let stand for 5 minutes . add the water and let stand for 10 minutes . add the water and let stand for 5 minutes . add the water and let stand for 5 minutes . add the water and let stand for 5 minutes . add the water and let stand for 5 minutes . add the water and let stand for 10 minutes . add the remaining ingredients and mix well . pour into a serving dish and serve hot .  <EOS>\n"
     ]
    }
   ],
   "source": [
    "sentence = \" 2 lb cream cheese, 1 3/4 cups sugar, 5 eggs, 15 oreo cookies, 1/2 tsp vanilla, 1/2 tsp almond extract\"\n",
    "\n",
    "output_words, output_attention = evaluate_attn(encoder, attn_decoder, sentence)\n",
    "output_sentence = ' '.join(output_words)\n",
    "print(output_sentence)\n"
   ]
  }
 ],
 "metadata": {
  "kernelspec": {
   "display_name": "Python 3 (ipykernel)",
   "language": "python",
   "name": "python3"
  },
  "orig_nbformat": 4
 },
 "nbformat": 4,
 "nbformat_minor": 2
}
